{
 "cells": [
  {
   "cell_type": "markdown",
   "id": "0b58e5dd",
   "metadata": {},
   "source": [
    "To build a classification model from given dataset that person has Diabetes or not."
   ]
  },
  {
   "cell_type": "code",
   "execution_count": 1,
   "id": "cb52b302",
   "metadata": {},
   "outputs": [],
   "source": [
    "import pandas as pd\n",
    "import numpy as np"
   ]
  },
  {
   "cell_type": "code",
   "execution_count": 2,
   "id": "fb74eee6",
   "metadata": {},
   "outputs": [],
   "source": [
    "df = pd.read_csv(\"https://raw.githubusercontent.com/plotly/datasets/master/diabetes.csv \")"
   ]
  },
  {
   "cell_type": "code",
   "execution_count": 3,
   "id": "14be4256",
   "metadata": {},
   "outputs": [
    {
     "data": {
      "text/html": [
       "<div>\n",
       "<style scoped>\n",
       "    .dataframe tbody tr th:only-of-type {\n",
       "        vertical-align: middle;\n",
       "    }\n",
       "\n",
       "    .dataframe tbody tr th {\n",
       "        vertical-align: top;\n",
       "    }\n",
       "\n",
       "    .dataframe thead th {\n",
       "        text-align: right;\n",
       "    }\n",
       "</style>\n",
       "<table border=\"1\" class=\"dataframe\">\n",
       "  <thead>\n",
       "    <tr style=\"text-align: right;\">\n",
       "      <th></th>\n",
       "      <th>Pregnancies</th>\n",
       "      <th>Glucose</th>\n",
       "      <th>BloodPressure</th>\n",
       "      <th>SkinThickness</th>\n",
       "      <th>Insulin</th>\n",
       "      <th>BMI</th>\n",
       "      <th>DiabetesPedigreeFunction</th>\n",
       "      <th>Age</th>\n",
       "      <th>Outcome</th>\n",
       "    </tr>\n",
       "  </thead>\n",
       "  <tbody>\n",
       "    <tr>\n",
       "      <th>0</th>\n",
       "      <td>6</td>\n",
       "      <td>148</td>\n",
       "      <td>72</td>\n",
       "      <td>35</td>\n",
       "      <td>0</td>\n",
       "      <td>33.6</td>\n",
       "      <td>0.627</td>\n",
       "      <td>50</td>\n",
       "      <td>1</td>\n",
       "    </tr>\n",
       "    <tr>\n",
       "      <th>1</th>\n",
       "      <td>1</td>\n",
       "      <td>85</td>\n",
       "      <td>66</td>\n",
       "      <td>29</td>\n",
       "      <td>0</td>\n",
       "      <td>26.6</td>\n",
       "      <td>0.351</td>\n",
       "      <td>31</td>\n",
       "      <td>0</td>\n",
       "    </tr>\n",
       "    <tr>\n",
       "      <th>2</th>\n",
       "      <td>8</td>\n",
       "      <td>183</td>\n",
       "      <td>64</td>\n",
       "      <td>0</td>\n",
       "      <td>0</td>\n",
       "      <td>23.3</td>\n",
       "      <td>0.672</td>\n",
       "      <td>32</td>\n",
       "      <td>1</td>\n",
       "    </tr>\n",
       "    <tr>\n",
       "      <th>3</th>\n",
       "      <td>1</td>\n",
       "      <td>89</td>\n",
       "      <td>66</td>\n",
       "      <td>23</td>\n",
       "      <td>94</td>\n",
       "      <td>28.1</td>\n",
       "      <td>0.167</td>\n",
       "      <td>21</td>\n",
       "      <td>0</td>\n",
       "    </tr>\n",
       "    <tr>\n",
       "      <th>4</th>\n",
       "      <td>0</td>\n",
       "      <td>137</td>\n",
       "      <td>40</td>\n",
       "      <td>35</td>\n",
       "      <td>168</td>\n",
       "      <td>43.1</td>\n",
       "      <td>2.288</td>\n",
       "      <td>33</td>\n",
       "      <td>1</td>\n",
       "    </tr>\n",
       "    <tr>\n",
       "      <th>...</th>\n",
       "      <td>...</td>\n",
       "      <td>...</td>\n",
       "      <td>...</td>\n",
       "      <td>...</td>\n",
       "      <td>...</td>\n",
       "      <td>...</td>\n",
       "      <td>...</td>\n",
       "      <td>...</td>\n",
       "      <td>...</td>\n",
       "    </tr>\n",
       "    <tr>\n",
       "      <th>763</th>\n",
       "      <td>10</td>\n",
       "      <td>101</td>\n",
       "      <td>76</td>\n",
       "      <td>48</td>\n",
       "      <td>180</td>\n",
       "      <td>32.9</td>\n",
       "      <td>0.171</td>\n",
       "      <td>63</td>\n",
       "      <td>0</td>\n",
       "    </tr>\n",
       "    <tr>\n",
       "      <th>764</th>\n",
       "      <td>2</td>\n",
       "      <td>122</td>\n",
       "      <td>70</td>\n",
       "      <td>27</td>\n",
       "      <td>0</td>\n",
       "      <td>36.8</td>\n",
       "      <td>0.340</td>\n",
       "      <td>27</td>\n",
       "      <td>0</td>\n",
       "    </tr>\n",
       "    <tr>\n",
       "      <th>765</th>\n",
       "      <td>5</td>\n",
       "      <td>121</td>\n",
       "      <td>72</td>\n",
       "      <td>23</td>\n",
       "      <td>112</td>\n",
       "      <td>26.2</td>\n",
       "      <td>0.245</td>\n",
       "      <td>30</td>\n",
       "      <td>0</td>\n",
       "    </tr>\n",
       "    <tr>\n",
       "      <th>766</th>\n",
       "      <td>1</td>\n",
       "      <td>126</td>\n",
       "      <td>60</td>\n",
       "      <td>0</td>\n",
       "      <td>0</td>\n",
       "      <td>30.1</td>\n",
       "      <td>0.349</td>\n",
       "      <td>47</td>\n",
       "      <td>1</td>\n",
       "    </tr>\n",
       "    <tr>\n",
       "      <th>767</th>\n",
       "      <td>1</td>\n",
       "      <td>93</td>\n",
       "      <td>70</td>\n",
       "      <td>31</td>\n",
       "      <td>0</td>\n",
       "      <td>30.4</td>\n",
       "      <td>0.315</td>\n",
       "      <td>23</td>\n",
       "      <td>0</td>\n",
       "    </tr>\n",
       "  </tbody>\n",
       "</table>\n",
       "<p>768 rows × 9 columns</p>\n",
       "</div>"
      ],
      "text/plain": [
       "     Pregnancies  Glucose  BloodPressure  SkinThickness  Insulin   BMI  \\\n",
       "0              6      148             72             35        0  33.6   \n",
       "1              1       85             66             29        0  26.6   \n",
       "2              8      183             64              0        0  23.3   \n",
       "3              1       89             66             23       94  28.1   \n",
       "4              0      137             40             35      168  43.1   \n",
       "..           ...      ...            ...            ...      ...   ...   \n",
       "763           10      101             76             48      180  32.9   \n",
       "764            2      122             70             27        0  36.8   \n",
       "765            5      121             72             23      112  26.2   \n",
       "766            1      126             60              0        0  30.1   \n",
       "767            1       93             70             31        0  30.4   \n",
       "\n",
       "     DiabetesPedigreeFunction  Age  Outcome  \n",
       "0                       0.627   50        1  \n",
       "1                       0.351   31        0  \n",
       "2                       0.672   32        1  \n",
       "3                       0.167   21        0  \n",
       "4                       2.288   33        1  \n",
       "..                        ...  ...      ...  \n",
       "763                     0.171   63        0  \n",
       "764                     0.340   27        0  \n",
       "765                     0.245   30        0  \n",
       "766                     0.349   47        1  \n",
       "767                     0.315   23        0  \n",
       "\n",
       "[768 rows x 9 columns]"
      ]
     },
     "execution_count": 3,
     "metadata": {},
     "output_type": "execute_result"
    }
   ],
   "source": [
    "df"
   ]
  },
  {
   "cell_type": "code",
   "execution_count": 4,
   "id": "363a9dde",
   "metadata": {},
   "outputs": [
    {
     "data": {
      "text/plain": [
       "Pregnancies                 0\n",
       "Glucose                     0\n",
       "BloodPressure               0\n",
       "SkinThickness               0\n",
       "Insulin                     0\n",
       "BMI                         0\n",
       "DiabetesPedigreeFunction    0\n",
       "Age                         0\n",
       "Outcome                     0\n",
       "dtype: int64"
      ]
     },
     "execution_count": 4,
     "metadata": {},
     "output_type": "execute_result"
    }
   ],
   "source": [
    "df.isnull().sum()"
   ]
  },
  {
   "cell_type": "markdown",
   "id": "2dd5d6cb",
   "metadata": {},
   "source": [
    "# EDA\n",
    "\n",
    "# Scatterplot"
   ]
  },
  {
   "cell_type": "code",
   "execution_count": 5,
   "id": "a9c2e7b9",
   "metadata": {},
   "outputs": [
    {
     "data": {
      "text/plain": [
       "<AxesSubplot:xlabel='Pregnancies', ylabel='Outcome'>"
      ]
     },
     "execution_count": 5,
     "metadata": {},
     "output_type": "execute_result"
    },
    {
     "data": {
      "image/png": "[encoded data removed]",
      "text/plain": [
       "<Figure size 432x288 with 1 Axes>"
      ]
     },
     "metadata": {
      "needs_background": "light"
     },
     "output_type": "display_data"
    }
   ],
   "source": [
    "import seaborn as sns\n",
    "sns.scatterplot(x=\"Pregnancies\",y=\"Outcome\", data=df)"
   ]
  },
  {
   "cell_type": "markdown",
   "id": "443b4fe7",
   "metadata": {},
   "source": [
    "we can see no. of weeks of pregnancies is equally distributedin the range 0 to 13"
   ]
  },
  {
   "cell_type": "code",
   "execution_count": 6,
   "id": "82376556",
   "metadata": {},
   "outputs": [
    {
     "data": {
      "text/plain": [
       "<AxesSubplot:xlabel='Glucose', ylabel='Outcome'>"
      ]
     },
     "execution_count": 6,
     "metadata": {},
     "output_type": "execute_result"
    },
    {
     "data": {
      "image/png": "[encoded data removed]",
      "text/plain": [
       "<Figure size 432x288 with 1 Axes>"
      ]
     },
     "metadata": {
      "needs_background": "light"
     },
     "output_type": "display_data"
    }
   ],
   "source": [
    "sns.scatterplot(x=\"Glucose\",y=\"Outcome\", data=df)"
   ]
  },
  {
   "cell_type": "code",
   "execution_count": 7,
   "id": "88f4a65b",
   "metadata": {},
   "outputs": [
    {
     "data": {
      "text/plain": [
       "<AxesSubplot:xlabel='Glucose', ylabel='Outcome'>"
      ]
     },
     "execution_count": 7,
     "metadata": {},
     "output_type": "execute_result"
    },
    {
     "data": {
      "image/png": "[encoded data removed]",
      "text/plain": [
       "<Figure size 432x288 with 1 Axes>"
      ]
     },
     "metadata": {
      "needs_background": "light"
     },
     "output_type": "display_data"
    }
   ],
   "source": [
    "sns.scatterplot(x=\"Glucose\",y=\"Outcome\", data=df)"
   ]
  },
  {
   "cell_type": "code",
   "execution_count": 8,
   "id": "7aaec49d",
   "metadata": {},
   "outputs": [
    {
     "data": {
      "text/plain": [
       "<AxesSubplot:xlabel='SkinThickness', ylabel='Outcome'>"
      ]
     },
     "execution_count": 8,
     "metadata": {},
     "output_type": "execute_result"
    },
    {
     "data": {
      "image/png": "[encoded data removed]",
      "text/plain": [
       "<Figure size 432x288 with 1 Axes>"
      ]
     },
     "metadata": {
      "needs_background": "light"
     },
     "output_type": "display_data"
    }
   ],
   "source": [
    "sns.scatterplot(x=\"SkinThickness\",y=\"Outcome\", data=df)"
   ]
  },
  {
   "cell_type": "code",
   "execution_count": 9,
   "id": "896caa6f",
   "metadata": {},
   "outputs": [
    {
     "data": {
      "text/plain": [
       "<AxesSubplot:xlabel='Insulin', ylabel='Outcome'>"
      ]
     },
     "execution_count": 9,
     "metadata": {},
     "output_type": "execute_result"
    },
    {
     "data": {
      "image/png": "[encoded data removed]",
      "text/plain": [
       "<Figure size 432x288 with 1 Axes>"
      ]
     },
     "metadata": {
      "needs_background": "light"
     },
     "output_type": "display_data"
    }
   ],
   "source": [
    "sns.scatterplot(x=\"Insulin\",y=\"Outcome\", data=df)"
   ]
  },
  {
   "cell_type": "code",
   "execution_count": 10,
   "id": "c35f18aa",
   "metadata": {},
   "outputs": [
    {
     "data": {
      "text/plain": [
       "<AxesSubplot:xlabel='BMI', ylabel='Outcome'>"
      ]
     },
     "execution_count": 10,
     "metadata": {},
     "output_type": "execute_result"
    },
    {
     "data": {
      "image/png": "[encoded data removed]",
      "text/plain": [
       "<Figure size 432x288 with 1 Axes>"
      ]
     },
     "metadata": {
      "needs_background": "light"
     },
     "output_type": "display_data"
    }
   ],
   "source": [
    "sns.scatterplot(x=\"BMI\",y=\"Outcome\", data=df)"
   ]
  },
  {
   "cell_type": "code",
   "execution_count": 11,
   "id": "72e01eae",
   "metadata": {},
   "outputs": [
    {
     "data": {
      "text/plain": [
       "<AxesSubplot:xlabel='DiabetesPedigreeFunction', ylabel='Outcome'>"
      ]
     },
     "execution_count": 11,
     "metadata": {},
     "output_type": "execute_result"
    },
    {
     "data": {
      "image/png": "[encoded data removed]",
      "text/plain": [
       "<Figure size 432x288 with 1 Axes>"
      ]
     },
     "metadata": {
      "needs_background": "light"
     },
     "output_type": "display_data"
    }
   ],
   "source": [
    "sns.scatterplot(x=\"DiabetesPedigreeFunction\",y=\"Outcome\", data=df)"
   ]
  },
  {
   "cell_type": "code",
   "execution_count": 12,
   "id": "34c0801f",
   "metadata": {},
   "outputs": [
    {
     "data": {
      "text/plain": [
       "<AxesSubplot:xlabel='Age', ylabel='Outcome'>"
      ]
     },
     "execution_count": 12,
     "metadata": {},
     "output_type": "execute_result"
    },
    {
     "data": {
      "image/png": "[encoded data removed]",
      "text/plain": [
       "<Figure size 432x288 with 1 Axes>"
      ]
     },
     "metadata": {
      "needs_background": "light"
     },
     "output_type": "display_data"
    }
   ],
   "source": [
    "sns.scatterplot(x=\"Age\",y=\"Outcome\", data=df)"
   ]
  },
  {
   "cell_type": "code",
   "execution_count": 13,
   "id": "0d359e65",
   "metadata": {},
   "outputs": [
    {
     "data": {
      "text/html": [
       "<div>\n",
       "<style scoped>\n",
       "    .dataframe tbody tr th:only-of-type {\n",
       "        vertical-align: middle;\n",
       "    }\n",
       "\n",
       "    .dataframe tbody tr th {\n",
       "        vertical-align: top;\n",
       "    }\n",
       "\n",
       "    .dataframe thead th {\n",
       "        text-align: right;\n",
       "    }\n",
       "</style>\n",
       "<table border=\"1\" class=\"dataframe\">\n",
       "  <thead>\n",
       "    <tr style=\"text-align: right;\">\n",
       "      <th></th>\n",
       "      <th>Pregnancies</th>\n",
       "      <th>Glucose</th>\n",
       "      <th>BloodPressure</th>\n",
       "      <th>SkinThickness</th>\n",
       "      <th>Insulin</th>\n",
       "      <th>BMI</th>\n",
       "      <th>DiabetesPedigreeFunction</th>\n",
       "      <th>Age</th>\n",
       "      <th>Outcome</th>\n",
       "    </tr>\n",
       "  </thead>\n",
       "  <tbody>\n",
       "    <tr>\n",
       "      <th>Pregnancies</th>\n",
       "      <td>1.000000</td>\n",
       "      <td>0.129459</td>\n",
       "      <td>0.141282</td>\n",
       "      <td>-0.081672</td>\n",
       "      <td>-0.073535</td>\n",
       "      <td>0.017683</td>\n",
       "      <td>-0.033523</td>\n",
       "      <td>0.544341</td>\n",
       "      <td>0.221898</td>\n",
       "    </tr>\n",
       "    <tr>\n",
       "      <th>Glucose</th>\n",
       "      <td>0.129459</td>\n",
       "      <td>1.000000</td>\n",
       "      <td>0.152590</td>\n",
       "      <td>0.057328</td>\n",
       "      <td>0.331357</td>\n",
       "      <td>0.221071</td>\n",
       "      <td>0.137337</td>\n",
       "      <td>0.263514</td>\n",
       "      <td>0.466581</td>\n",
       "    </tr>\n",
       "    <tr>\n",
       "      <th>BloodPressure</th>\n",
       "      <td>0.141282</td>\n",
       "      <td>0.152590</td>\n",
       "      <td>1.000000</td>\n",
       "      <td>0.207371</td>\n",
       "      <td>0.088933</td>\n",
       "      <td>0.281805</td>\n",
       "      <td>0.041265</td>\n",
       "      <td>0.239528</td>\n",
       "      <td>0.065068</td>\n",
       "    </tr>\n",
       "    <tr>\n",
       "      <th>SkinThickness</th>\n",
       "      <td>-0.081672</td>\n",
       "      <td>0.057328</td>\n",
       "      <td>0.207371</td>\n",
       "      <td>1.000000</td>\n",
       "      <td>0.436783</td>\n",
       "      <td>0.392573</td>\n",
       "      <td>0.183928</td>\n",
       "      <td>-0.113970</td>\n",
       "      <td>0.074752</td>\n",
       "    </tr>\n",
       "    <tr>\n",
       "      <th>Insulin</th>\n",
       "      <td>-0.073535</td>\n",
       "      <td>0.331357</td>\n",
       "      <td>0.088933</td>\n",
       "      <td>0.436783</td>\n",
       "      <td>1.000000</td>\n",
       "      <td>0.197859</td>\n",
       "      <td>0.185071</td>\n",
       "      <td>-0.042163</td>\n",
       "      <td>0.130548</td>\n",
       "    </tr>\n",
       "    <tr>\n",
       "      <th>BMI</th>\n",
       "      <td>0.017683</td>\n",
       "      <td>0.221071</td>\n",
       "      <td>0.281805</td>\n",
       "      <td>0.392573</td>\n",
       "      <td>0.197859</td>\n",
       "      <td>1.000000</td>\n",
       "      <td>0.140647</td>\n",
       "      <td>0.036242</td>\n",
       "      <td>0.292695</td>\n",
       "    </tr>\n",
       "    <tr>\n",
       "      <th>DiabetesPedigreeFunction</th>\n",
       "      <td>-0.033523</td>\n",
       "      <td>0.137337</td>\n",
       "      <td>0.041265</td>\n",
       "      <td>0.183928</td>\n",
       "      <td>0.185071</td>\n",
       "      <td>0.140647</td>\n",
       "      <td>1.000000</td>\n",
       "      <td>0.033561</td>\n",
       "      <td>0.173844</td>\n",
       "    </tr>\n",
       "    <tr>\n",
       "      <th>Age</th>\n",
       "      <td>0.544341</td>\n",
       "      <td>0.263514</td>\n",
       "      <td>0.239528</td>\n",
       "      <td>-0.113970</td>\n",
       "      <td>-0.042163</td>\n",
       "      <td>0.036242</td>\n",
       "      <td>0.033561</td>\n",
       "      <td>1.000000</td>\n",
       "      <td>0.238356</td>\n",
       "    </tr>\n",
       "    <tr>\n",
       "      <th>Outcome</th>\n",
       "      <td>0.221898</td>\n",
       "      <td>0.466581</td>\n",
       "      <td>0.065068</td>\n",
       "      <td>0.074752</td>\n",
       "      <td>0.130548</td>\n",
       "      <td>0.292695</td>\n",
       "      <td>0.173844</td>\n",
       "      <td>0.238356</td>\n",
       "      <td>1.000000</td>\n",
       "    </tr>\n",
       "  </tbody>\n",
       "</table>\n",
       "</div>"
      ],
      "text/plain": [
       "                          Pregnancies   Glucose  BloodPressure  SkinThickness  \\\n",
       "Pregnancies                  1.000000  0.129459       0.141282      -0.081672   \n",
       "Glucose                      0.129459  1.000000       0.152590       0.057328   \n",
       "BloodPressure                0.141282  0.152590       1.000000       0.207371   \n",
       "SkinThickness               -0.081672  0.057328       0.207371       1.000000   \n",
       "Insulin                     -0.073535  0.331357       0.088933       0.436783   \n",
       "BMI                          0.017683  0.221071       0.281805       0.392573   \n",
       "DiabetesPedigreeFunction    -0.033523  0.137337       0.041265       0.183928   \n",
       "Age                          0.544341  0.263514       0.239528      -0.113970   \n",
       "Outcome                      0.221898  0.466581       0.065068       0.074752   \n",
       "\n",
       "                           Insulin       BMI  DiabetesPedigreeFunction  \\\n",
       "Pregnancies              -0.073535  0.017683                 -0.033523   \n",
       "Glucose                   0.331357  0.221071                  0.137337   \n",
       "BloodPressure             0.088933  0.281805                  0.041265   \n",
       "SkinThickness             0.436783  0.392573                  0.183928   \n",
       "Insulin                   1.000000  0.197859                  0.185071   \n",
       "BMI                       0.197859  1.000000                  0.140647   \n",
       "DiabetesPedigreeFunction  0.185071  0.140647                  1.000000   \n",
       "Age                      -0.042163  0.036242                  0.033561   \n",
       "Outcome                   0.130548  0.292695                  0.173844   \n",
       "\n",
       "                               Age   Outcome  \n",
       "Pregnancies               0.544341  0.221898  \n",
       "Glucose                   0.263514  0.466581  \n",
       "BloodPressure             0.239528  0.065068  \n",
       "SkinThickness            -0.113970  0.074752  \n",
       "Insulin                  -0.042163  0.130548  \n",
       "BMI                       0.036242  0.292695  \n",
       "DiabetesPedigreeFunction  0.033561  0.173844  \n",
       "Age                       1.000000  0.238356  \n",
       "Outcome                   0.238356  1.000000  "
      ]
     },
     "execution_count": 13,
     "metadata": {},
     "output_type": "execute_result"
    }
   ],
   "source": [
    "df.corr()"
   ]
  },
  {
   "cell_type": "markdown",
   "id": "9e5e3a62",
   "metadata": {},
   "source": [
    "Correlation "
   ]
  },
  {
   "cell_type": "code",
   "execution_count": null,
   "id": "61d7fd3e",
   "metadata": {},
   "outputs": [],
   "source": []
  },
  {
   "cell_type": "code",
   "execution_count": 14,
   "id": "38e35f1b",
   "metadata": {},
   "outputs": [
    {
     "data": {
      "text/plain": [
       "<AxesSubplot:>"
      ]
     },
     "execution_count": 14,
     "metadata": {},
     "output_type": "execute_result"
    },
    {
     "data": {
      "image/png": "[encoded data removed]",
      "text/plain": [
       "<Figure size 1080x504 with 2 Axes>"
      ]
     },
     "metadata": {
      "needs_background": "light"
     },
     "output_type": "display_data"
    }
   ],
   "source": [
    "import matplotlib.pyplot as plt\n",
    "plt.figure(figsize=(15,7))\n",
    "sns.heatmap(df.corr(), annot=True, linewidths=0.5, linecolor=\"black\", fmt= '.2f'  )"
   ]
  },
  {
   "cell_type": "markdown",
   "id": "e4e3224e",
   "metadata": {},
   "source": [
    "max correaltion - glucose, \n",
    "min correlation - skinthickness"
   ]
  },
  {
   "cell_type": "markdown",
   "id": "3eaf2683",
   "metadata": {},
   "source": [
    "# describing dataset"
   ]
  },
  {
   "cell_type": "code",
   "execution_count": 15,
   "id": "faf1b2b0",
   "metadata": {},
   "outputs": [
    {
     "data": {
      "text/html": [
       "<div>\n",
       "<style scoped>\n",
       "    .dataframe tbody tr th:only-of-type {\n",
       "        vertical-align: middle;\n",
       "    }\n",
       "\n",
       "    .dataframe tbody tr th {\n",
       "        vertical-align: top;\n",
       "    }\n",
       "\n",
       "    .dataframe thead th {\n",
       "        text-align: right;\n",
       "    }\n",
       "</style>\n",
       "<table border=\"1\" class=\"dataframe\">\n",
       "  <thead>\n",
       "    <tr style=\"text-align: right;\">\n",
       "      <th></th>\n",
       "      <th>Pregnancies</th>\n",
       "      <th>Glucose</th>\n",
       "      <th>BloodPressure</th>\n",
       "      <th>SkinThickness</th>\n",
       "      <th>Insulin</th>\n",
       "      <th>BMI</th>\n",
       "      <th>DiabetesPedigreeFunction</th>\n",
       "      <th>Age</th>\n",
       "      <th>Outcome</th>\n",
       "    </tr>\n",
       "  </thead>\n",
       "  <tbody>\n",
       "    <tr>\n",
       "      <th>count</th>\n",
       "      <td>768.000000</td>\n",
       "      <td>768.000000</td>\n",
       "      <td>768.000000</td>\n",
       "      <td>768.000000</td>\n",
       "      <td>768.000000</td>\n",
       "      <td>768.000000</td>\n",
       "      <td>768.000000</td>\n",
       "      <td>768.000000</td>\n",
       "      <td>768.000000</td>\n",
       "    </tr>\n",
       "    <tr>\n",
       "      <th>mean</th>\n",
       "      <td>3.845052</td>\n",
       "      <td>120.894531</td>\n",
       "      <td>69.105469</td>\n",
       "      <td>20.536458</td>\n",
       "      <td>79.799479</td>\n",
       "      <td>31.992578</td>\n",
       "      <td>0.471876</td>\n",
       "      <td>33.240885</td>\n",
       "      <td>0.348958</td>\n",
       "    </tr>\n",
       "    <tr>\n",
       "      <th>std</th>\n",
       "      <td>3.369578</td>\n",
       "      <td>31.972618</td>\n",
       "      <td>19.355807</td>\n",
       "      <td>15.952218</td>\n",
       "      <td>115.244002</td>\n",
       "      <td>7.884160</td>\n",
       "      <td>0.331329</td>\n",
       "      <td>11.760232</td>\n",
       "      <td>0.476951</td>\n",
       "    </tr>\n",
       "    <tr>\n",
       "      <th>min</th>\n",
       "      <td>0.000000</td>\n",
       "      <td>0.000000</td>\n",
       "      <td>0.000000</td>\n",
       "      <td>0.000000</td>\n",
       "      <td>0.000000</td>\n",
       "      <td>0.000000</td>\n",
       "      <td>0.078000</td>\n",
       "      <td>21.000000</td>\n",
       "      <td>0.000000</td>\n",
       "    </tr>\n",
       "    <tr>\n",
       "      <th>25%</th>\n",
       "      <td>1.000000</td>\n",
       "      <td>99.000000</td>\n",
       "      <td>62.000000</td>\n",
       "      <td>0.000000</td>\n",
       "      <td>0.000000</td>\n",
       "      <td>27.300000</td>\n",
       "      <td>0.243750</td>\n",
       "      <td>24.000000</td>\n",
       "      <td>0.000000</td>\n",
       "    </tr>\n",
       "    <tr>\n",
       "      <th>50%</th>\n",
       "      <td>3.000000</td>\n",
       "      <td>117.000000</td>\n",
       "      <td>72.000000</td>\n",
       "      <td>23.000000</td>\n",
       "      <td>30.500000</td>\n",
       "      <td>32.000000</td>\n",
       "      <td>0.372500</td>\n",
       "      <td>29.000000</td>\n",
       "      <td>0.000000</td>\n",
       "    </tr>\n",
       "    <tr>\n",
       "      <th>75%</th>\n",
       "      <td>6.000000</td>\n",
       "      <td>140.250000</td>\n",
       "      <td>80.000000</td>\n",
       "      <td>32.000000</td>\n",
       "      <td>127.250000</td>\n",
       "      <td>36.600000</td>\n",
       "      <td>0.626250</td>\n",
       "      <td>41.000000</td>\n",
       "      <td>1.000000</td>\n",
       "    </tr>\n",
       "    <tr>\n",
       "      <th>max</th>\n",
       "      <td>17.000000</td>\n",
       "      <td>199.000000</td>\n",
       "      <td>122.000000</td>\n",
       "      <td>99.000000</td>\n",
       "      <td>846.000000</td>\n",
       "      <td>67.100000</td>\n",
       "      <td>2.420000</td>\n",
       "      <td>81.000000</td>\n",
       "      <td>1.000000</td>\n",
       "    </tr>\n",
       "  </tbody>\n",
       "</table>\n",
       "</div>"
      ],
      "text/plain": [
       "       Pregnancies     Glucose  BloodPressure  SkinThickness     Insulin  \\\n",
       "count   768.000000  768.000000     768.000000     768.000000  768.000000   \n",
       "mean      3.845052  120.894531      69.105469      20.536458   79.799479   \n",
       "std       3.369578   31.972618      19.355807      15.952218  115.244002   \n",
       "min       0.000000    0.000000       0.000000       0.000000    0.000000   \n",
       "25%       1.000000   99.000000      62.000000       0.000000    0.000000   \n",
       "50%       3.000000  117.000000      72.000000      23.000000   30.500000   \n",
       "75%       6.000000  140.250000      80.000000      32.000000  127.250000   \n",
       "max      17.000000  199.000000     122.000000      99.000000  846.000000   \n",
       "\n",
       "              BMI  DiabetesPedigreeFunction         Age     Outcome  \n",
       "count  768.000000                768.000000  768.000000  768.000000  \n",
       "mean    31.992578                  0.471876   33.240885    0.348958  \n",
       "std      7.884160                  0.331329   11.760232    0.476951  \n",
       "min      0.000000                  0.078000   21.000000    0.000000  \n",
       "25%     27.300000                  0.243750   24.000000    0.000000  \n",
       "50%     32.000000                  0.372500   29.000000    0.000000  \n",
       "75%     36.600000                  0.626250   41.000000    1.000000  \n",
       "max     67.100000                  2.420000   81.000000    1.000000  "
      ]
     },
     "execution_count": 15,
     "metadata": {},
     "output_type": "execute_result"
    }
   ],
   "source": [
    "df.describe()"
   ]
  },
  {
   "cell_type": "code",
   "execution_count": 16,
   "id": "10bc5b9d",
   "metadata": {},
   "outputs": [],
   "source": [
    "##plt.figure(figsize=(15,12))\n",
    "##sns.heatmap(round(df.describe()[1:].transpose(),2),linewidth=2, annot=True,fmt='f')\n",
    "#plt.xticks(fontsize=18)\n",
    "#plt.yticks(fontsize=12)\n",
    "#plt.title(\"Variables summary\")\n",
    "#plt.show()"
   ]
  },
  {
   "cell_type": "code",
   "execution_count": 17,
   "id": "584deb5c",
   "metadata": {},
   "outputs": [
    {
     "name": "stdout",
     "output_type": "stream",
     "text": [
      "<class 'pandas.core.frame.DataFrame'>\n",
      "RangeIndex: 768 entries, 0 to 767\n",
      "Data columns (total 9 columns):\n",
      " #   Column                    Non-Null Count  Dtype  \n",
      "---  ------                    --------------  -----  \n",
      " 0   Pregnancies               768 non-null    int64  \n",
      " 1   Glucose                   768 non-null    int64  \n",
      " 2   BloodPressure             768 non-null    int64  \n",
      " 3   SkinThickness             768 non-null    int64  \n",
      " 4   Insulin                   768 non-null    int64  \n",
      " 5   BMI                       768 non-null    float64\n",
      " 6   DiabetesPedigreeFunction  768 non-null    float64\n",
      " 7   Age                       768 non-null    int64  \n",
      " 8   Outcome                   768 non-null    int64  \n",
      "dtypes: float64(2), int64(7)\n",
      "memory usage: 54.1 KB\n"
     ]
    }
   ],
   "source": [
    "df.info()"
   ]
  },
  {
   "cell_type": "markdown",
   "id": "9a93f19b",
   "metadata": {},
   "source": [
    "# CHECKING OUTLIERS"
   ]
  },
  {
   "cell_type": "code",
   "execution_count": 21,
   "id": "ef4ca09d",
   "metadata": {},
   "outputs": [
    {
     "data": {
      "image/png": "[encoded data removed]",
      "text/plain": [
       "<Figure size 864x1296 with 10 Axes>"
      ]
     },
     "metadata": {
      "needs_background": "light"
     },
     "output_type": "display_data"
    }
   ],
   "source": [
    "df.plot(kind='box', figsize=(12,18), color='green', layout=(5,2), subplots=True)\n",
    "plt.show()"
   ]
  },
  {
   "cell_type": "code",
   "execution_count": 19,
   "id": "7c753bc7",
   "metadata": {},
   "outputs": [
    {
     "data": {
      "text/plain": [
       "<AxesSubplot:>"
      ]
     },
     "execution_count": 19,
     "metadata": {},
     "output_type": "execute_result"
    },
    {
     "data": {
      "image/png": "[encoded data removed]",
      "text/plain": [
       "<Figure size 432x288 with 1 Axes>"
      ]
     },
     "metadata": {
      "needs_background": "light"
     },
     "output_type": "display_data"
    }
   ],
   "source": [
    "df['DiabetesPedigreeFunction'].plot.box()"
   ]
  },
  {
   "cell_type": "code",
   "execution_count": 20,
   "id": "13d254f7",
   "metadata": {},
   "outputs": [
    {
     "data": {
      "text/plain": [
       "<AxesSubplot:>"
      ]
     },
     "execution_count": 20,
     "metadata": {},
     "output_type": "execute_result"
    },
    {
     "data": {
      "image/png": "[encoded data removed]",
      "text/plain": [
       "<Figure size 432x288 with 1 Axes>"
      ]
     },
     "metadata": {
      "needs_background": "light"
     },
     "output_type": "display_data"
    }
   ],
   "source": [
    "df['Pregnancies'].plot.box()"
   ]
  },
  {
   "cell_type": "markdown",
   "id": "b42e5d7f",
   "metadata": {},
   "source": [
    "    we have high outliers in insulin,DiabetesPedigreeFunction and age \n",
    "    others have low no. of outliers\n",
    "    output has no outliers"
   ]
  },
  {
   "cell_type": "markdown",
   "id": "8bee4600",
   "metadata": {},
   "source": [
    "# Checking skewness"
   ]
  },
  {
   "cell_type": "code",
   "execution_count": 21,
   "id": "68457426",
   "metadata": {},
   "outputs": [
    {
     "data": {
      "text/plain": [
       "Pregnancies                 0.901674\n",
       "Glucose                     0.173754\n",
       "BloodPressure              -1.843608\n",
       "SkinThickness               0.109372\n",
       "Insulin                     2.272251\n",
       "BMI                        -0.428982\n",
       "DiabetesPedigreeFunction    1.919911\n",
       "Age                         1.129597\n",
       "Outcome                     0.635017\n",
       "dtype: float64"
      ]
     },
     "execution_count": 21,
     "metadata": {},
     "output_type": "execute_result"
    }
   ],
   "source": [
    "df.skew()"
   ]
  },
  {
   "cell_type": "markdown",
   "id": "3de18615",
   "metadata": {},
   "source": [
    "outcome of skewness : skewness threshhold is taken as +/-0.65\n",
    "high skewness: pregnancies\n",
    "               BloodPressure\n",
    "               Insulin\n",
    "               DiabetesPedigreeFunction\n",
    "               Age"
   ]
  },
  {
   "cell_type": "markdown",
   "id": "78830925",
   "metadata": {},
   "source": [
    "# Normal Distribution Curve"
   ]
  },
  {
   "cell_type": "code",
   "execution_count": 24,
   "id": "c79060fb",
   "metadata": {},
   "outputs": [
    {
     "data": {
      "image/png": "[encoded data removed]",
      "text/plain": [
       "<Figure size 864x1008 with 10 Axes>"
      ]
     },
     "metadata": {
      "needs_background": "light"
     },
     "output_type": "display_data"
    }
   ],
   "source": [
    "df.plot(kind = 'density', subplots = True, layout = (5,2), figsize=(12,14))\n",
    "plt.show()"
   ]
  },
  {
   "cell_type": "code",
   "execution_count": 25,
   "id": "288bfcfa",
   "metadata": {},
   "outputs": [
    {
     "name": "stderr",
     "output_type": "stream",
     "text": [
      "C:\\ProgramData\\Anaconda3\\lib\\site-packages\\seaborn\\distributions.py:2619: FutureWarning: `distplot` is a deprecated function and will be removed in a future version. Please adapt your code to use either `displot` (a figure-level function with similar flexibility) or `histplot` (an axes-level function for histograms).\n",
      "  warnings.warn(msg, FutureWarning)\n"
     ]
    },
    {
     "data": {
      "text/plain": [
       "<AxesSubplot:xlabel='Pregnancies', ylabel='Density'>"
      ]
     },
     "execution_count": 25,
     "metadata": {},
     "output_type": "execute_result"
    },
    {
     "data": {
      "image/png": "[encoded data removed]",
      "text/plain": [
       "<Figure size 432x288 with 1 Axes>"
      ]
     },
     "metadata": {
      "needs_background": "light"
     },
     "output_type": "display_data"
    }
   ],
   "source": [
    "sns.distplot(df[\"Pregnancies\"])"
   ]
  },
  {
   "cell_type": "code",
   "execution_count": 26,
   "id": "cf1c787b",
   "metadata": {},
   "outputs": [
    {
     "name": "stderr",
     "output_type": "stream",
     "text": [
      "C:\\ProgramData\\Anaconda3\\lib\\site-packages\\seaborn\\distributions.py:2619: FutureWarning: `distplot` is a deprecated function and will be removed in a future version. Please adapt your code to use either `displot` (a figure-level function with similar flexibility) or `histplot` (an axes-level function for histograms).\n",
      "  warnings.warn(msg, FutureWarning)\n"
     ]
    },
    {
     "data": {
      "text/plain": [
       "<AxesSubplot:xlabel='Glucose', ylabel='Density'>"
      ]
     },
     "execution_count": 26,
     "metadata": {},
     "output_type": "execute_result"
    },
    {
     "data": {
      "image/png": "[encoded data removed]",
      "text/plain": [
       "<Figure size 432x288 with 1 Axes>"
      ]
     },
     "metadata": {
      "needs_background": "light"
     },
     "output_type": "display_data"
    }
   ],
   "source": [
    "sns.distplot(df[\"Glucose\"])"
   ]
  },
  {
   "cell_type": "code",
   "execution_count": 27,
   "id": "ba37b1df",
   "metadata": {},
   "outputs": [
    {
     "name": "stderr",
     "output_type": "stream",
     "text": [
      "C:\\ProgramData\\Anaconda3\\lib\\site-packages\\seaborn\\distributions.py:2619: FutureWarning: `distplot` is a deprecated function and will be removed in a future version. Please adapt your code to use either `displot` (a figure-level function with similar flexibility) or `histplot` (an axes-level function for histograms).\n",
      "  warnings.warn(msg, FutureWarning)\n"
     ]
    },
    {
     "data": {
      "text/plain": [
       "<AxesSubplot:xlabel='BloodPressure', ylabel='Density'>"
      ]
     },
     "execution_count": 27,
     "metadata": {},
     "output_type": "execute_result"
    },
    {
     "data": {
      "image/png": "[encoded data removed]",
      "text/plain": [
       "<Figure size 432x288 with 1 Axes>"
      ]
     },
     "metadata": {
      "needs_background": "light"
     },
     "output_type": "display_data"
    }
   ],
   "source": [
    "sns.distplot(df[\"BloodPressure\"])"
   ]
  },
  {
   "cell_type": "code",
   "execution_count": 28,
   "id": "36ab8baa",
   "metadata": {},
   "outputs": [
    {
     "name": "stderr",
     "output_type": "stream",
     "text": [
      "C:\\ProgramData\\Anaconda3\\lib\\site-packages\\seaborn\\distributions.py:2619: FutureWarning: `distplot` is a deprecated function and will be removed in a future version. Please adapt your code to use either `displot` (a figure-level function with similar flexibility) or `histplot` (an axes-level function for histograms).\n",
      "  warnings.warn(msg, FutureWarning)\n"
     ]
    },
    {
     "data": {
      "text/plain": [
       "<AxesSubplot:xlabel='SkinThickness', ylabel='Density'>"
      ]
     },
     "execution_count": 28,
     "metadata": {},
     "output_type": "execute_result"
    },
    {
     "data": {
      "image/png": "[encoded data removed]",
      "text/plain": [
       "<Figure size 432x288 with 1 Axes>"
      ]
     },
     "metadata": {
      "needs_background": "light"
     },
     "output_type": "display_data"
    }
   ],
   "source": [
    "sns.distplot(df[\"SkinThickness\"])"
   ]
  },
  {
   "cell_type": "code",
   "execution_count": 29,
   "id": "944390b0",
   "metadata": {},
   "outputs": [
    {
     "name": "stderr",
     "output_type": "stream",
     "text": [
      "C:\\ProgramData\\Anaconda3\\lib\\site-packages\\seaborn\\distributions.py:2619: FutureWarning: `distplot` is a deprecated function and will be removed in a future version. Please adapt your code to use either `displot` (a figure-level function with similar flexibility) or `histplot` (an axes-level function for histograms).\n",
      "  warnings.warn(msg, FutureWarning)\n"
     ]
    },
    {
     "data": {
      "text/plain": [
       "<AxesSubplot:xlabel='Insulin', ylabel='Density'>"
      ]
     },
     "execution_count": 29,
     "metadata": {},
     "output_type": "execute_result"
    },
    {
     "data": {
      "image/png": "[encoded data removed]",
      "text/plain": [
       "<Figure size 432x288 with 1 Axes>"
      ]
     },
     "metadata": {
      "needs_background": "light"
     },
     "output_type": "display_data"
    }
   ],
   "source": [
    "sns.distplot(df[\"Insulin\"])"
   ]
  },
  {
   "cell_type": "code",
   "execution_count": 30,
   "id": "e2198664",
   "metadata": {},
   "outputs": [
    {
     "name": "stderr",
     "output_type": "stream",
     "text": [
      "C:\\ProgramData\\Anaconda3\\lib\\site-packages\\seaborn\\distributions.py:2619: FutureWarning: `distplot` is a deprecated function and will be removed in a future version. Please adapt your code to use either `displot` (a figure-level function with similar flexibility) or `histplot` (an axes-level function for histograms).\n",
      "  warnings.warn(msg, FutureWarning)\n"
     ]
    },
    {
     "data": {
      "text/plain": [
       "<AxesSubplot:xlabel='BMI', ylabel='Density'>"
      ]
     },
     "execution_count": 30,
     "metadata": {},
     "output_type": "execute_result"
    },
    {
     "data": {
      "image/png": "[encoded data removed]",
      "text/plain": [
       "<Figure size 432x288 with 1 Axes>"
      ]
     },
     "metadata": {
      "needs_background": "light"
     },
     "output_type": "display_data"
    }
   ],
   "source": [
    "sns.distplot(df[\"BMI\"])"
   ]
  },
  {
   "cell_type": "code",
   "execution_count": 31,
   "id": "252e5a2b",
   "metadata": {},
   "outputs": [
    {
     "name": "stderr",
     "output_type": "stream",
     "text": [
      "C:\\ProgramData\\Anaconda3\\lib\\site-packages\\seaborn\\distributions.py:2619: FutureWarning: `distplot` is a deprecated function and will be removed in a future version. Please adapt your code to use either `displot` (a figure-level function with similar flexibility) or `histplot` (an axes-level function for histograms).\n",
      "  warnings.warn(msg, FutureWarning)\n"
     ]
    },
    {
     "data": {
      "text/plain": [
       "<AxesSubplot:xlabel='DiabetesPedigreeFunction', ylabel='Density'>"
      ]
     },
     "execution_count": 31,
     "metadata": {},
     "output_type": "execute_result"
    },
    {
     "data": {
      "image/png": "[encoded data removed]",
      "text/plain": [
       "<Figure size 432x288 with 1 Axes>"
      ]
     },
     "metadata": {
      "needs_background": "light"
     },
     "output_type": "display_data"
    }
   ],
   "source": [
    "sns.distplot(df[\"DiabetesPedigreeFunction\"])"
   ]
  },
  {
   "cell_type": "code",
   "execution_count": 32,
   "id": "88eec73f",
   "metadata": {},
   "outputs": [
    {
     "name": "stderr",
     "output_type": "stream",
     "text": [
      "C:\\ProgramData\\Anaconda3\\lib\\site-packages\\seaborn\\distributions.py:2619: FutureWarning: `distplot` is a deprecated function and will be removed in a future version. Please adapt your code to use either `displot` (a figure-level function with similar flexibility) or `histplot` (an axes-level function for histograms).\n",
      "  warnings.warn(msg, FutureWarning)\n"
     ]
    },
    {
     "data": {
      "text/plain": [
       "<AxesSubplot:xlabel='Age', ylabel='Density'>"
      ]
     },
     "execution_count": 32,
     "metadata": {},
     "output_type": "execute_result"
    },
    {
     "data": {
      "image/png": "[encoded data removed]",
      "text/plain": [
       "<Figure size 432x288 with 1 Axes>"
      ]
     },
     "metadata": {
      "needs_background": "light"
     },
     "output_type": "display_data"
    }
   ],
   "source": [
    "sns.distplot(df[\"Age\"])"
   ]
  },
  {
   "cell_type": "markdown",
   "id": "f1065902",
   "metadata": {},
   "source": [
    "data is not normalised. Building blocks are out of the normal curve.\n",
    "\n",
    "data is also skewwed ,we have seen in density plot."
   ]
  },
  {
   "cell_type": "markdown",
   "id": "cf280866",
   "metadata": {},
   "source": [
    "# normal distributon shows that data is skewed"
   ]
  },
  {
   "cell_type": "markdown",
   "id": "2e42767d",
   "metadata": {},
   "source": [
    "# Cleaning the data"
   ]
  },
  {
   "cell_type": "code",
   "execution_count": 33,
   "id": "b8ee184a",
   "metadata": {},
   "outputs": [],
   "source": [
    "delete=pd.DataFrame([[\"0.065068\",\"Blood Pressure\", \"No\",\"Alot\"],[\"0.074752\",\"SkinThickness\",\"No\",\"Alot\"]],columns=[\"Correlation with Target\",\"Column Name\",\"Normalised\",\"Outliers\"])"
   ]
  },
  {
   "cell_type": "code",
   "execution_count": 34,
   "id": "651c172d",
   "metadata": {},
   "outputs": [
    {
     "data": {
      "text/html": [
       "<div>\n",
       "<style scoped>\n",
       "    .dataframe tbody tr th:only-of-type {\n",
       "        vertical-align: middle;\n",
       "    }\n",
       "\n",
       "    .dataframe tbody tr th {\n",
       "        vertical-align: top;\n",
       "    }\n",
       "\n",
       "    .dataframe thead th {\n",
       "        text-align: right;\n",
       "    }\n",
       "</style>\n",
       "<table border=\"1\" class=\"dataframe\">\n",
       "  <thead>\n",
       "    <tr style=\"text-align: right;\">\n",
       "      <th></th>\n",
       "      <th>Correlation with Target</th>\n",
       "      <th>Column Name</th>\n",
       "      <th>Normalised</th>\n",
       "      <th>Outliers</th>\n",
       "    </tr>\n",
       "  </thead>\n",
       "  <tbody>\n",
       "    <tr>\n",
       "      <th>0</th>\n",
       "      <td>0.065068</td>\n",
       "      <td>Blood Pressure</td>\n",
       "      <td>No</td>\n",
       "      <td>Alot</td>\n",
       "    </tr>\n",
       "    <tr>\n",
       "      <th>1</th>\n",
       "      <td>0.074752</td>\n",
       "      <td>SkinThickness</td>\n",
       "      <td>No</td>\n",
       "      <td>Alot</td>\n",
       "    </tr>\n",
       "  </tbody>\n",
       "</table>\n",
       "</div>"
      ],
      "text/plain": [
       "  Correlation with Target     Column Name Normalised Outliers\n",
       "0                0.065068  Blood Pressure         No     Alot\n",
       "1                0.074752   SkinThickness         No     Alot"
      ]
     },
     "execution_count": 34,
     "metadata": {},
     "output_type": "execute_result"
    }
   ],
   "source": [
    "delete"
   ]
  },
  {
   "cell_type": "markdown",
   "id": "f41de21b",
   "metadata": {},
   "source": [
    "setting threshhold of correlation as +/-0.1"
   ]
  },
  {
   "cell_type": "code",
   "execution_count": 35,
   "id": "b8a3a12c",
   "metadata": {},
   "outputs": [],
   "source": [
    "df=df.drop([\"BloodPressure\",\"SkinThickness\"],axis=1)"
   ]
  },
  {
   "cell_type": "code",
   "execution_count": 36,
   "id": "4e7cb9b2",
   "metadata": {},
   "outputs": [
    {
     "data": {
      "text/html": [
       "<div>\n",
       "<style scoped>\n",
       "    .dataframe tbody tr th:only-of-type {\n",
       "        vertical-align: middle;\n",
       "    }\n",
       "\n",
       "    .dataframe tbody tr th {\n",
       "        vertical-align: top;\n",
       "    }\n",
       "\n",
       "    .dataframe thead th {\n",
       "        text-align: right;\n",
       "    }\n",
       "</style>\n",
       "<table border=\"1\" class=\"dataframe\">\n",
       "  <thead>\n",
       "    <tr style=\"text-align: right;\">\n",
       "      <th></th>\n",
       "      <th>Pregnancies</th>\n",
       "      <th>Glucose</th>\n",
       "      <th>Insulin</th>\n",
       "      <th>BMI</th>\n",
       "      <th>DiabetesPedigreeFunction</th>\n",
       "      <th>Age</th>\n",
       "      <th>Outcome</th>\n",
       "    </tr>\n",
       "  </thead>\n",
       "  <tbody>\n",
       "    <tr>\n",
       "      <th>0</th>\n",
       "      <td>6</td>\n",
       "      <td>148</td>\n",
       "      <td>0</td>\n",
       "      <td>33.6</td>\n",
       "      <td>0.627</td>\n",
       "      <td>50</td>\n",
       "      <td>1</td>\n",
       "    </tr>\n",
       "    <tr>\n",
       "      <th>1</th>\n",
       "      <td>1</td>\n",
       "      <td>85</td>\n",
       "      <td>0</td>\n",
       "      <td>26.6</td>\n",
       "      <td>0.351</td>\n",
       "      <td>31</td>\n",
       "      <td>0</td>\n",
       "    </tr>\n",
       "    <tr>\n",
       "      <th>2</th>\n",
       "      <td>8</td>\n",
       "      <td>183</td>\n",
       "      <td>0</td>\n",
       "      <td>23.3</td>\n",
       "      <td>0.672</td>\n",
       "      <td>32</td>\n",
       "      <td>1</td>\n",
       "    </tr>\n",
       "    <tr>\n",
       "      <th>3</th>\n",
       "      <td>1</td>\n",
       "      <td>89</td>\n",
       "      <td>94</td>\n",
       "      <td>28.1</td>\n",
       "      <td>0.167</td>\n",
       "      <td>21</td>\n",
       "      <td>0</td>\n",
       "    </tr>\n",
       "    <tr>\n",
       "      <th>4</th>\n",
       "      <td>0</td>\n",
       "      <td>137</td>\n",
       "      <td>168</td>\n",
       "      <td>43.1</td>\n",
       "      <td>2.288</td>\n",
       "      <td>33</td>\n",
       "      <td>1</td>\n",
       "    </tr>\n",
       "    <tr>\n",
       "      <th>...</th>\n",
       "      <td>...</td>\n",
       "      <td>...</td>\n",
       "      <td>...</td>\n",
       "      <td>...</td>\n",
       "      <td>...</td>\n",
       "      <td>...</td>\n",
       "      <td>...</td>\n",
       "    </tr>\n",
       "    <tr>\n",
       "      <th>763</th>\n",
       "      <td>10</td>\n",
       "      <td>101</td>\n",
       "      <td>180</td>\n",
       "      <td>32.9</td>\n",
       "      <td>0.171</td>\n",
       "      <td>63</td>\n",
       "      <td>0</td>\n",
       "    </tr>\n",
       "    <tr>\n",
       "      <th>764</th>\n",
       "      <td>2</td>\n",
       "      <td>122</td>\n",
       "      <td>0</td>\n",
       "      <td>36.8</td>\n",
       "      <td>0.340</td>\n",
       "      <td>27</td>\n",
       "      <td>0</td>\n",
       "    </tr>\n",
       "    <tr>\n",
       "      <th>765</th>\n",
       "      <td>5</td>\n",
       "      <td>121</td>\n",
       "      <td>112</td>\n",
       "      <td>26.2</td>\n",
       "      <td>0.245</td>\n",
       "      <td>30</td>\n",
       "      <td>0</td>\n",
       "    </tr>\n",
       "    <tr>\n",
       "      <th>766</th>\n",
       "      <td>1</td>\n",
       "      <td>126</td>\n",
       "      <td>0</td>\n",
       "      <td>30.1</td>\n",
       "      <td>0.349</td>\n",
       "      <td>47</td>\n",
       "      <td>1</td>\n",
       "    </tr>\n",
       "    <tr>\n",
       "      <th>767</th>\n",
       "      <td>1</td>\n",
       "      <td>93</td>\n",
       "      <td>0</td>\n",
       "      <td>30.4</td>\n",
       "      <td>0.315</td>\n",
       "      <td>23</td>\n",
       "      <td>0</td>\n",
       "    </tr>\n",
       "  </tbody>\n",
       "</table>\n",
       "<p>768 rows × 7 columns</p>\n",
       "</div>"
      ],
      "text/plain": [
       "     Pregnancies  Glucose  Insulin   BMI  DiabetesPedigreeFunction  Age  \\\n",
       "0              6      148        0  33.6                     0.627   50   \n",
       "1              1       85        0  26.6                     0.351   31   \n",
       "2              8      183        0  23.3                     0.672   32   \n",
       "3              1       89       94  28.1                     0.167   21   \n",
       "4              0      137      168  43.1                     2.288   33   \n",
       "..           ...      ...      ...   ...                       ...  ...   \n",
       "763           10      101      180  32.9                     0.171   63   \n",
       "764            2      122        0  36.8                     0.340   27   \n",
       "765            5      121      112  26.2                     0.245   30   \n",
       "766            1      126        0  30.1                     0.349   47   \n",
       "767            1       93        0  30.4                     0.315   23   \n",
       "\n",
       "     Outcome  \n",
       "0          1  \n",
       "1          0  \n",
       "2          1  \n",
       "3          0  \n",
       "4          1  \n",
       "..       ...  \n",
       "763        0  \n",
       "764        0  \n",
       "765        0  \n",
       "766        1  \n",
       "767        0  \n",
       "\n",
       "[768 rows x 7 columns]"
      ]
     },
     "execution_count": 36,
     "metadata": {},
     "output_type": "execute_result"
    }
   ],
   "source": [
    "df"
   ]
  },
  {
   "cell_type": "markdown",
   "id": "27920c7d",
   "metadata": {},
   "source": [
    "# Removing Outliers"
   ]
  },
  {
   "cell_type": "markdown",
   "id": "cf3f1d62",
   "metadata": {},
   "source": [
    "Z-score Technique"
   ]
  },
  {
   "cell_type": "code",
   "execution_count": 37,
   "id": "8bd25dca",
   "metadata": {},
   "outputs": [],
   "source": [
    "from scipy.stats import zscore"
   ]
  },
  {
   "cell_type": "code",
   "execution_count": 38,
   "id": "8cbe2455",
   "metadata": {},
   "outputs": [
    {
     "data": {
      "text/plain": [
       "(768, 7)"
      ]
     },
     "execution_count": 38,
     "metadata": {},
     "output_type": "execute_result"
    }
   ],
   "source": [
    "z=np.abs(zscore(df))\n",
    "z.shape"
   ]
  },
  {
   "cell_type": "code",
   "execution_count": 39,
   "id": "06d70994",
   "metadata": {},
   "outputs": [
    {
     "name": "stdout",
     "output_type": "stream",
     "text": [
      "(array([  4,   8,   9,  13,  45,  49,  58,  60,  75,  81,  88, 111, 123,\n",
      "       145, 153, 159, 177, 182, 186, 220, 228, 228, 247, 286, 298, 330,\n",
      "       342, 349, 370, 370, 371, 371, 395, 409, 415, 426, 445, 445, 453,\n",
      "       455, 459, 486, 494, 502, 522, 584, 593, 621, 645, 655, 666, 673,\n",
      "       684, 684, 695, 706, 753], dtype=int64), array([4, 2, 3, 2, 4, 3, 4, 3, 1, 3, 0, 2, 5, 3, 2, 0, 3, 1, 2, 2, 2, 4,\n",
      "       2, 2, 0, 4, 1, 1, 2, 4, 3, 4, 4, 2, 2, 3, 3, 4, 5, 0, 5, 2, 3, 1,\n",
      "       3, 2, 4, 4, 2, 2, 5, 3, 3, 5, 2, 3, 2], dtype=int64))\n"
     ]
    }
   ],
   "source": [
    "threshold=3\n",
    "print(np.where(z>3))"
   ]
  },
  {
   "cell_type": "code",
   "execution_count": 40,
   "id": "1061eb61",
   "metadata": {},
   "outputs": [
    {
     "name": "stdout",
     "output_type": "stream",
     "text": [
      "(768, 7)\n",
      "(716, 7)\n"
     ]
    }
   ],
   "source": [
    "df_new=df[(z<3).all(axis=1)]\n",
    "print(df.shape)\n",
    "print(df_new.shape)"
   ]
  },
  {
   "cell_type": "markdown",
   "id": "d651a96a",
   "metadata": {},
   "source": [
    "# Percentage  Data Loss"
   ]
  },
  {
   "cell_type": "code",
   "execution_count": 41,
   "id": "beb56525",
   "metadata": {},
   "outputs": [
    {
     "name": "stdout",
     "output_type": "stream",
     "text": [
      "6.770833333333333\n"
     ]
    }
   ],
   "source": [
    "loss_percent=(768-716)/768*100\n",
    "print(loss_percent)"
   ]
  },
  {
   "cell_type": "markdown",
   "id": "3a0c9b3d",
   "metadata": {},
   "source": [
    "checcking whether how much outliers are still there"
   ]
  },
  {
   "cell_type": "markdown",
   "id": "79cd0b98",
   "metadata": {},
   "source": [
    "Dividing data in features and vectors"
   ]
  },
  {
   "cell_type": "code",
   "execution_count": 42,
   "id": "2736de16",
   "metadata": {},
   "outputs": [],
   "source": [
    "x=df_new.drop(\"Outcome\",axis=1)\n",
    "y=df_new[\"Outcome\"] "
   ]
  },
  {
   "cell_type": "markdown",
   "id": "b6461cfc",
   "metadata": {},
   "source": [
    "# Transforming the data to remove skewness"
   ]
  },
  {
   "cell_type": "code",
   "execution_count": 43,
   "id": "dc1c61a6",
   "metadata": {},
   "outputs": [],
   "source": [
    "from sklearn.preprocessing import power_transform\n",
    "x=power_transform(x)"
   ]
  },
  {
   "cell_type": "code",
   "execution_count": 44,
   "id": "746cfdab",
   "metadata": {},
   "outputs": [
    {
     "data": {
      "text/plain": [
       "array([[ 0.81766344,  0.95218058, -1.00223104,  0.28114356,  0.86495337,\n",
       "         1.39031405],\n",
       "       [-0.84957557, -1.28238174, -1.00223104, -0.83047682, -0.16002044,\n",
       "         0.12808007],\n",
       "       [ 1.20277392,  1.82893792, -1.00223104, -1.43279399,  0.98450779,\n",
       "         0.23328673],\n",
       "       ...,\n",
       "       [ 0.59040907,  0.13114807,  0.96157194, -0.9003888 , -0.75346236,\n",
       "         0.0156547 ],\n",
       "       [-0.84957557,  0.29534181, -1.00223104, -0.25021575, -0.1698999 ,\n",
       "         1.26101626],\n",
       "       [-0.84957557, -0.92550642, -1.00223104, -0.2028927 , -0.34504064,\n",
       "        -1.05311184]])"
      ]
     },
     "execution_count": 44,
     "metadata": {},
     "output_type": "execute_result"
    }
   ],
   "source": [
    "x"
   ]
  },
  {
   "cell_type": "code",
   "execution_count": 45,
   "id": "4958b175",
   "metadata": {},
   "outputs": [
    {
     "data": {
      "text/plain": [
       "array([[ 0.81766344,  0.95218058, -1.00223104,  0.28114356,  0.86495337,\n",
       "         1.39031405],\n",
       "       [-0.84957557, -1.28238174, -1.00223104, -0.83047682, -0.16002044,\n",
       "         0.12808007],\n",
       "       [ 1.20277392,  1.82893792, -1.00223104, -1.43279399,  0.98450779,\n",
       "         0.23328673],\n",
       "       ...,\n",
       "       [ 0.59040907,  0.13114807,  0.96157194, -0.9003888 , -0.75346236,\n",
       "         0.0156547 ],\n",
       "       [-0.84957557,  0.29534181, -1.00223104, -0.25021575, -0.1698999 ,\n",
       "         1.26101626],\n",
       "       [-0.84957557, -0.92550642, -1.00223104, -0.2028927 , -0.34504064,\n",
       "        -1.05311184]])"
      ]
     },
     "execution_count": 45,
     "metadata": {},
     "output_type": "execute_result"
    }
   ],
   "source": [
    "from sklearn.preprocessing import StandardScaler\n",
    "sc=StandardScaler()\n",
    "x=sc.fit_transform(x)\n",
    "x"
   ]
  },
  {
   "cell_type": "code",
   "execution_count": 1,
   "id": "94940cc5",
   "metadata": {},
   "outputs": [],
   "source": [
    "# Using Binary classification model"
   ]
  },
  {
   "cell_type": "markdown",
   "id": "b9847539",
   "metadata": {},
   "source": [
    "# training Process begins"
   ]
  },
  {
   "cell_type": "markdown",
   "id": "e1595dd8",
   "metadata": {},
   "source": [
    "finding best training state"
   ]
  },
  {
   "cell_type": "code",
   "execution_count": 47,
   "id": "1818bddf",
   "metadata": {},
   "outputs": [],
   "source": [
    "from sklearn.linear_model import LogisticRegression\n",
    "from sklearn.metrics import accuracy_score\n",
    "from sklearn.metrics import confusion_matrix\n",
    "from sklearn.model_selection import train_test_split"
   ]
  },
  {
   "cell_type": "markdown",
   "id": "e734b936",
   "metadata": {},
   "source": [
    "# Best random state"
   ]
  },
  {
   "cell_type": "code",
   "execution_count": 48,
   "id": "8e44f4d2",
   "metadata": {},
   "outputs": [
    {
     "name": "stdout",
     "output_type": "stream",
     "text": [
      "accuracy_score 0.7 random_state 1\n",
      "accuracy 0.7 random_state 1\n",
      "accuracy_score 0.75 random_state 2\n",
      "accuracy 0.75 random_state 2\n",
      "accuracy_score 0.65 random_state 3\n",
      "accuracy_score 0.7 random_state 4\n",
      "accuracy_score 0.8 random_state 5\n",
      "accuracy 0.8 random_state 5\n",
      "accuracy_score 0.85 random_state 6\n",
      "accuracy 0.85 random_state 6\n",
      "accuracy_score 0.9 random_state 7\n",
      "accuracy 0.9 random_state 7\n",
      "accuracy_score 0.9 random_state 8\n",
      "accuracy_score 0.8 random_state 9\n",
      "accuracy_score 0.8 random_state 10\n",
      "accuracy_score 0.95 random_state 11\n",
      "accuracy 0.95 random_state 11\n",
      "accuracy_score 0.65 random_state 12\n",
      "accuracy_score 0.75 random_state 13\n",
      "accuracy_score 0.7 random_state 14\n",
      "accuracy_score 0.75 random_state 15\n",
      "accuracy_score 0.85 random_state 16\n",
      "accuracy_score 0.6 random_state 17\n",
      "accuracy_score 0.9 random_state 18\n",
      "accuracy_score 0.95 random_state 19\n",
      "accuracy_score 0.95 random_state 20\n",
      "accuracy_score 0.8 random_state 21\n",
      "accuracy_score 0.85 random_state 22\n",
      "accuracy_score 0.65 random_state 23\n",
      "accuracy_score 0.8 random_state 24\n",
      "accuracy_score 0.9 random_state 25\n",
      "accuracy_score 0.75 random_state 26\n",
      "accuracy_score 0.65 random_state 27\n",
      "accuracy_score 0.85 random_state 28\n",
      "accuracy_score 0.8 random_state 29\n",
      "accuracy_score 0.65 random_state 30\n",
      "accuracy_score 0.9 random_state 31\n",
      "accuracy_score 0.75 random_state 32\n",
      "accuracy_score 0.85 random_state 33\n",
      "accuracy_score 0.9 random_state 34\n",
      "accuracy_score 0.8 random_state 35\n",
      "accuracy_score 0.7 random_state 36\n",
      "accuracy_score 0.85 random_state 37\n",
      "accuracy_score 0.8 random_state 38\n",
      "accuracy_score 0.75 random_state 39\n",
      "accuracy_score 0.7 random_state 40\n",
      "accuracy_score 0.75 random_state 41\n",
      "accuracy_score 0.9 random_state 42\n",
      "accuracy_score 0.9 random_state 43\n",
      "accuracy_score 0.75 random_state 44\n",
      "accuracy_score 0.85 random_state 45\n",
      "accuracy_score 0.9 random_state 46\n",
      "accuracy_score 0.95 random_state 47\n",
      "accuracy_score 0.75 random_state 48\n",
      "accuracy_score 0.85 random_state 49\n",
      "accuracy_score 0.85 random_state 50\n",
      "accuracy_score 0.85 random_state 51\n",
      "accuracy_score 0.7 random_state 52\n",
      "accuracy_score 0.8 random_state 53\n",
      "accuracy_score 0.9 random_state 54\n",
      "accuracy_score 0.8 random_state 55\n",
      "accuracy_score 0.8 random_state 56\n",
      "accuracy_score 0.9 random_state 57\n",
      "accuracy_score 0.6 random_state 58\n",
      "accuracy_score 0.65 random_state 59\n",
      "accuracy_score 0.55 random_state 60\n",
      "accuracy_score 0.75 random_state 61\n",
      "accuracy_score 0.8 random_state 62\n",
      "accuracy_score 0.45 random_state 63\n",
      "accuracy_score 0.9 random_state 64\n",
      "accuracy_score 0.8 random_state 65\n",
      "accuracy_score 0.7 random_state 66\n",
      "accuracy_score 0.6 random_state 67\n",
      "accuracy_score 0.7 random_state 68\n",
      "accuracy_score 0.85 random_state 69\n",
      "accuracy_score 0.75 random_state 70\n",
      "accuracy_score 0.75 random_state 71\n",
      "accuracy_score 0.75 random_state 72\n",
      "accuracy_score 0.75 random_state 73\n",
      "accuracy_score 0.85 random_state 74\n",
      "accuracy_score 0.7 random_state 75\n",
      "accuracy_score 0.8 random_state 76\n",
      "accuracy_score 0.9 random_state 77\n",
      "accuracy_score 0.5 random_state 78\n",
      "accuracy_score 0.8 random_state 79\n",
      "accuracy_score 0.8 random_state 80\n",
      "accuracy_score 0.95 random_state 81\n",
      "accuracy_score 0.9 random_state 82\n",
      "accuracy_score 0.7 random_state 83\n",
      "accuracy_score 0.8 random_state 84\n",
      "accuracy_score 0.85 random_state 85\n",
      "accuracy_score 0.75 random_state 86\n",
      "accuracy_score 0.85 random_state 87\n",
      "accuracy_score 0.6 random_state 88\n",
      "accuracy_score 0.5 random_state 89\n",
      "accuracy_score 0.9 random_state 90\n",
      "accuracy_score 0.75 random_state 91\n",
      "accuracy_score 0.85 random_state 92\n",
      "accuracy_score 0.75 random_state 93\n",
      "accuracy_score 0.6 random_state 94\n",
      "accuracy_score 0.85 random_state 95\n",
      "accuracy_score 0.8 random_state 96\n",
      "accuracy_score 0.85 random_state 97\n",
      "accuracy_score 0.9 random_state 98\n",
      "accuracy_score 0.7 random_state 99\n",
      "accuracy_score 0.8 random_state 100\n",
      "accuracy_score 0.85 random_state 101\n",
      "accuracy_score 0.75 random_state 102\n",
      "accuracy_score 0.6 random_state 103\n",
      "accuracy_score 0.5 random_state 104\n",
      "accuracy_score 0.75 random_state 105\n",
      "accuracy_score 0.8 random_state 106\n",
      "accuracy_score 0.65 random_state 107\n",
      "accuracy_score 0.6 random_state 108\n",
      "accuracy_score 0.85 random_state 109\n",
      "accuracy_score 0.8 random_state 110\n",
      "accuracy_score 0.9 random_state 111\n",
      "accuracy_score 0.85 random_state 112\n",
      "accuracy_score 0.8 random_state 113\n",
      "accuracy_score 0.85 random_state 114\n",
      "accuracy_score 0.55 random_state 115\n",
      "accuracy_score 0.8 random_state 116\n",
      "accuracy_score 0.85 random_state 117\n",
      "accuracy_score 0.8 random_state 118\n",
      "accuracy_score 0.85 random_state 119\n",
      "accuracy_score 0.65 random_state 120\n",
      "accuracy_score 0.7 random_state 121\n",
      "accuracy_score 0.8 random_state 122\n",
      "accuracy_score 0.65 random_state 123\n",
      "accuracy_score 0.7 random_state 124\n",
      "accuracy_score 0.8 random_state 125\n",
      "accuracy_score 0.8 random_state 126\n",
      "accuracy_score 0.8 random_state 127\n",
      "accuracy_score 0.9 random_state 128\n",
      "accuracy_score 0.75 random_state 129\n",
      "accuracy_score 0.65 random_state 130\n",
      "accuracy_score 0.85 random_state 131\n",
      "accuracy_score 0.75 random_state 132\n",
      "accuracy_score 0.65 random_state 133\n",
      "accuracy_score 0.75 random_state 134\n",
      "accuracy_score 0.75 random_state 135\n",
      "accuracy_score 0.8 random_state 136\n",
      "accuracy_score 0.7 random_state 137\n",
      "accuracy_score 0.8 random_state 138\n",
      "accuracy_score 0.8 random_state 139\n",
      "accuracy_score 0.85 random_state 140\n",
      "accuracy_score 0.6 random_state 141\n",
      "accuracy_score 0.8 random_state 142\n",
      "accuracy_score 0.65 random_state 143\n",
      "accuracy_score 0.85 random_state 144\n",
      "accuracy_score 0.8 random_state 145\n",
      "accuracy_score 0.8 random_state 146\n",
      "accuracy_score 0.9 random_state 147\n",
      "accuracy_score 0.75 random_state 148\n",
      "accuracy_score 0.8 random_state 149\n",
      "accuracy_score 0.8 random_state 150\n",
      "accuracy_score 0.7 random_state 151\n",
      "accuracy_score 0.7 random_state 152\n",
      "accuracy_score 0.95 random_state 153\n",
      "accuracy_score 0.85 random_state 154\n",
      "accuracy_score 0.8 random_state 155\n",
      "accuracy_score 0.75 random_state 156\n",
      "accuracy_score 0.85 random_state 157\n",
      "accuracy_score 0.75 random_state 158\n",
      "accuracy_score 0.85 random_state 159\n",
      "accuracy_score 0.65 random_state 160\n",
      "accuracy_score 0.75 random_state 161\n",
      "accuracy_score 0.75 random_state 162\n",
      "accuracy_score 0.9 random_state 163\n",
      "accuracy_score 0.65 random_state 164\n",
      "accuracy_score 0.7 random_state 165\n",
      "accuracy_score 0.75 random_state 166\n",
      "accuracy_score 0.85 random_state 167\n",
      "accuracy_score 0.8 random_state 168\n",
      "accuracy_score 0.8 random_state 169\n",
      "accuracy_score 1.0 random_state 170\n",
      "accuracy 1.0 random_state 170\n",
      "accuracy_score 0.85 random_state 171\n",
      "accuracy_score 0.75 random_state 172\n",
      "accuracy_score 0.75 random_state 173\n",
      "accuracy_score 0.85 random_state 174\n",
      "accuracy_score 0.8 random_state 175\n",
      "accuracy_score 0.85 random_state 176\n",
      "accuracy_score 0.85 random_state 177\n",
      "accuracy_score 0.45 random_state 178\n",
      "accuracy_score 0.8 random_state 179\n",
      "accuracy_score 0.9 random_state 180\n",
      "accuracy_score 0.85 random_state 181\n",
      "accuracy_score 0.85 random_state 182\n",
      "accuracy_score 0.6 random_state 183\n",
      "accuracy_score 0.7 random_state 184\n",
      "accuracy_score 0.6 random_state 185\n",
      "accuracy_score 0.8 random_state 186\n",
      "accuracy_score 0.7 random_state 187\n",
      "accuracy_score 0.6 random_state 188\n",
      "accuracy_score 0.85 random_state 189\n",
      "accuracy_score 0.95 random_state 190\n",
      "accuracy_score 0.8 random_state 191\n",
      "accuracy_score 0.6 random_state 192\n",
      "accuracy_score 0.75 random_state 193\n",
      "accuracy_score 0.75 random_state 194\n",
      "accuracy_score 0.8 random_state 195\n",
      "accuracy_score 0.85 random_state 196\n",
      "accuracy_score 0.85 random_state 197\n",
      "accuracy_score 0.75 random_state 198\n",
      "accuracy_score 0.7 random_state 199\n"
     ]
    }
   ],
   "source": [
    "maxAccu=0 # maximum accuracy\n",
    "maxRS =0 #best random state for which maximum accuracy is achieved\n",
    "\n",
    "for i in range(1,200):\n",
    "    x_train, x_test, y_train, y_test = train_test_split(x,y,test_size=20, random_state =i)\n",
    "    LR = LogisticRegression()\n",
    "    LR.fit(x_train, y_train)  # fitting the data trains the model\n",
    "    predrf = LR.predict(x_test)  #this is the predicted target variable\n",
    "    acc = accuracy_score(y_test, predrf)  # accuracy score\n",
    "    print('accuracy_score', acc, 'random_state',i)\n",
    "    \n",
    "    if acc>maxAccu:\n",
    "        maxAccu = acc\n",
    "        maxRS = i\n",
    "        print('accuracy', maxAccu, 'random_state',i)"
   ]
  },
  {
   "cell_type": "code",
   "execution_count": 49,
   "id": "bb3806c0",
   "metadata": {},
   "outputs": [
    {
     "name": "stdout",
     "output_type": "stream",
     "text": [
      "Best accuracy is 1.0 on Random state 170\n"
     ]
    }
   ],
   "source": [
    "print('Best accuracy is',maxAccu, 'on Random state',maxRS)"
   ]
  },
  {
   "cell_type": "markdown",
   "id": "16ac3aa3",
   "metadata": {},
   "source": [
    "# Ceating Train_test split"
   ]
  },
  {
   "cell_type": "code",
   "execution_count": 60,
   "id": "24c6c7ac",
   "metadata": {},
   "outputs": [],
   "source": [
    "x_train, x_test, y_train, y_test = train_test_split(x,y, test_size = .20, random_state = 170)"
   ]
  },
  {
   "cell_type": "code",
   "execution_count": 61,
   "id": "7434a650",
   "metadata": {},
   "outputs": [
    {
     "data": {
      "text/plain": [
       "array([[ 0.81766344,  1.32405816, -1.00223104, -1.24386445, -1.21699942,\n",
       "         1.39031405],\n",
       "       [ 0.81766344, -0.55674827, -1.00223104,  0.58011704,  0.98959154,\n",
       "        -0.23397123],\n",
       "       [ 0.59040907,  0.42236718, -1.00223104,  1.03702691,  1.5537216 ,\n",
       "         0.67169905],\n",
       "       ...,\n",
       "       [-0.35286331, -0.84076867,  0.8692619 , -0.91799199,  1.16522367,\n",
       "        -1.26256384],\n",
       "       [ 0.02356998, -0.67617214,  0.74669623, -2.25527175, -0.51741728,\n",
       "         0.0156547 ],\n",
       "       [ 1.36979383,  1.54753234,  1.24985135,  1.8092431 ,  1.10384566,\n",
       "         1.53951955]])"
      ]
     },
     "execution_count": 61,
     "metadata": {},
     "output_type": "execute_result"
    }
   ],
   "source": [
    "x_train"
   ]
  },
  {
   "cell_type": "code",
   "execution_count": 62,
   "id": "0ffee726",
   "metadata": {},
   "outputs": [
    {
     "data": {
      "text/plain": [
       "array([[ 1.36979383,  0.7246037 , -1.00223104,  0.14866438,  1.13376757,\n",
       "         1.16484238],\n",
       "       [-0.84957557,  0.26299648,  0.95469158, -1.24386445, -0.91047808,\n",
       "        -0.68530595],\n",
       "       [ 0.02356998,  1.80615838, -1.00223104, -0.18719673, -0.18979552,\n",
       "        -0.10474232],\n",
       "       [-0.84957557,  0.23040827, -1.00223104,  0.5940176 ,  0.51463184,\n",
       "        -1.49228236],\n",
       "       [ 0.59040907,  1.42478016, -1.00223104,  1.84392305, -0.21492421,\n",
       "        -0.37301916],\n",
       "       [ 0.02356998, -0.14524371, -1.00223104, -1.60808859, -1.51825085,\n",
       "        -1.26256384],\n",
       "       [ 0.33009943, -0.9685146 , -1.00223104,  1.42798877, -0.80475382,\n",
       "        -0.10474232],\n",
       "       [ 0.33009943,  0.1975734 ,  1.13320791,  0.04370368,  0.24966777,\n",
       "         0.42461338],\n",
       "       [-0.35286331, -0.32742887,  0.69511024, -1.07874493, -1.61997826,\n",
       "        -1.49228236],\n",
       "       [ 0.81766344,  0.1975734 ,  1.2339027 ,  0.28114356,  1.13149054,\n",
       "         0.42461338],\n",
       "       [ 0.59040907,  0.69530529,  1.04654304, -0.49231915,  0.11651375,\n",
       "        -0.52302436],\n",
       "       [ 0.59040907,  1.32405816, -1.00223104,  0.85269282, -1.42787081,\n",
       "         1.46790486],\n",
       "       [-0.35286331,  0.39095716, -1.00223104, -0.59184524, -0.51741728,\n",
       "        -0.37301916],\n",
       "       [ 0.33009943,  0.39095716,  1.2355293 , -0.67601807,  0.55906225,\n",
       "         0.12808007],\n",
       "       [ 0.59040907,  0.63611193, -1.00223104,  2.19247795, -0.8703308 ,\n",
       "         0.67169905],\n",
       "       [ 0.33009943, -0.67617214, -1.00223104, -1.0067758 , -0.46041231,\n",
       "        -0.23397123],\n",
       "       [ 0.33009943,  1.16851928, -1.00223104,  2.13742606, -0.7982862 ,\n",
       "         0.23328673],\n",
       "       [ 0.33009943,  0.60621137, -1.00223104, -0.0783997 ,  1.85311149,\n",
       "        -1.26256384],\n",
       "       [-0.84957557, -1.4243333 ,  0.89861023, -1.85018743,  0.13366961,\n",
       "        -1.05311184],\n",
       "       [ 0.33009943,  0.35931858, -1.00223104,  0.38233688, -0.41026183,\n",
       "        -0.86140114],\n",
       "       [ 1.36979383,  0.16448799, -1.00223104,  0.23728564,  1.77336359,\n",
       "         0.3319365 ],\n",
       "       [-0.35286331, -0.67617214, -1.00223104, -1.64775523, -1.7971721 ,\n",
       "        -1.05311184],\n",
       "       [ 0.59040907, -1.23610041,  0.78672131, -0.23440199, -0.09689346,\n",
       "        -0.86140114],\n",
       "       [ 0.02356998,  1.54753234,  1.03272505,  0.23728564, -1.06304913,\n",
       "        -0.86140114],\n",
       "       [ 1.92619308, -1.72336439, -1.00223104,  0.1635196 , -1.20197093,\n",
       "         0.94318954],\n",
       "       [-0.84957557, -0.18106997,  1.13320791,  0.396665  ,  0.56243157,\n",
       "        -0.68530595],\n",
       "       [ 1.01998795,  0.23040827,  1.20859232, -1.02468852, -1.34799742,\n",
       "         0.67169905],\n",
       "       [ 1.52379735, -1.77532769, -1.00223104,  0.23728564, -0.64171227,\n",
       "         0.74511882],\n",
       "       [ 0.59040907, -0.40251732, -1.00223104,  1.08877062, -0.50590636,\n",
       "         0.74511882],\n",
       "       [-0.84957557, -0.92550642, -1.00223104, -1.58835436,  0.14219136,\n",
       "        -1.26256384],\n",
       "       [ 1.92619308,  1.0886366 ,  1.04654304,  1.22903893,  1.84412859,\n",
       "         0.81464807],\n",
       "       [-0.84957557, -0.84076867,  0.5448472 , -2.18939737, -0.24546461,\n",
       "        -0.68530595],\n",
       "       [ 0.59040907, -0.67617214, -1.00223104, -0.42683928, -1.0346648 ,\n",
       "         0.23328673],\n",
       "       [ 0.59040907, -0.84076867, -1.00223104,  0.85269282, -0.06838159,\n",
       "        -0.37301916],\n",
       "       [-0.35286331, -0.32742887, -1.00223104, -0.76135073, -0.66611861,\n",
       "         1.46790486],\n",
       "       [-0.84957557,  1.78326121,  1.14169158,  0.35358541, -0.27643343,\n",
       "         0.74511882],\n",
       "       [-0.84957557, -0.29037033,  1.03272505, -1.07874493,  1.34052594,\n",
       "        -1.05311184],\n",
       "       [-0.84957557, -0.5176681 ,  0.84680188,  1.56145734, -1.17957556,\n",
       "         0.3319365 ],\n",
       "       [ 0.02356998, -1.32917311, -1.00223104,  0.78559816, -0.61754418,\n",
       "        -0.23397123],\n",
       "       [ 0.59040907,  1.42478016,  1.13105608, -0.97110735,  0.74974167,\n",
       "         1.42990136],\n",
       "       [ 0.59040907, -3.82676441, -1.00223104, -1.11505134,  0.74974167,\n",
       "         0.59405986],\n",
       "       [-1.61469943,  0.02956003,  1.2339027 ,  1.85544441,  0.63807912,\n",
       "         0.12808007],\n",
       "       [ 0.81766344, -0.44055902, -1.00223104,  0.11885049,  1.42355537,\n",
       "        -0.52302436],\n",
       "       [-0.35286331, -1.28238174, -1.00223104,  1.10164423,  1.51213851,\n",
       "        -0.37301916],\n",
       "       [ 1.20277392,  1.94111382, -1.00223104,  2.09307011, -1.54337126,\n",
       "         1.05936273],\n",
       "       [ 0.59040907, -0.5176681 , -1.00223104,  1.05000045, -0.3992625 ,\n",
       "         1.85169072],\n",
       "       [-1.61469943,  0.89638619, -1.00223104,  0.87934145, -0.24546461,\n",
       "        -0.23397123],\n",
       "       [-1.61469943,  1.32405816, -1.00223104,  2.27967088, -0.09689346,\n",
       "        -0.52302436],\n",
       "       [-1.61469943, -0.55674827,  0.87788357,  0.41096158, -0.7982862 ,\n",
       "        -0.86140114],\n",
       "       [ 0.59040907, -0.03951519, -1.00223104, -1.0067758 , -1.04882037,\n",
       "         0.0156547 ],\n",
       "       [ 0.33009943,  0.453552  ,  1.11110217,  0.20788052, -1.35588891,\n",
       "        -0.23397123],\n",
       "       [ 0.33009943, -1.05585459,  0.6810439 ,  0.85269282, -0.10648398,\n",
       "        -0.10474232],\n",
       "       [ 0.81766344, -1.01196089, -1.00223104, -0.29789621,  0.46900391,\n",
       "         0.12808007],\n",
       "       [ 0.33009943,  0.89638619, -1.00223104,  0.95865126,  0.53528445,\n",
       "         1.89698764],\n",
       "       [-0.84957557, -0.40251732, -1.00223104,  0.82593656, -1.07735159,\n",
       "        -0.52302436],\n",
       "       [-1.61469943,  0.32744797,  1.19975065,  0.66308172,  1.28358366,\n",
       "        -1.05311184],\n",
       "       [ 1.66685449,  0.66580896,  1.05723828,  0.63554324,  0.6572464 ,\n",
       "         1.39031405],\n",
       "       [-1.61469943,  0.1975734 , -1.00223104,  0.66308172, -0.67225778,\n",
       "         1.46790486],\n",
       "       [-0.35286331,  0.16448799,  0.94053873, -0.29789621,  1.09449743,\n",
       "        -1.26256384],\n",
       "       [ 1.01998795,  0.63611193, -1.00223104,  0.04370368,  0.02842915,\n",
       "         0.81464807],\n",
       "       [ 0.33009943,  1.85160107,  1.30344376,  0.75856841, -0.63564804,\n",
       "         0.12808007],\n",
       "       [ 0.81766344,  1.82893792, -1.00223104,  1.25423064,  2.11218459,\n",
       "         1.16484238],\n",
       "       [-0.84957557,  0.66580896, -1.00223104,  1.1656438 , -0.81123766,\n",
       "        -0.23397123],\n",
       "       [ 0.02356998,  1.61957897,  1.16993167,  0.17834057,  0.76759644,\n",
       "         0.59405986],\n",
       "       [-1.61469943,  0.57610438,  1.26513145,  1.44023111, -0.09211451,\n",
       "        -0.86140114],\n",
       "       [ 0.81766344,  0.54578801,  1.01837276,  0.53823735,  0.60889385,\n",
       "        -0.10474232],\n",
       "       [ 0.02356998, -0.21719632,  0.82291822, -0.52531824,  0.44752913,\n",
       "        -0.10474232],\n",
       "       [ 0.81766344,  0.95218058, -1.00223104,  0.28114356,  0.86495337,\n",
       "         1.39031405],\n",
       "       [-0.35286331,  1.64333599, -1.00223104, -1.51006647, -0.28685296,\n",
       "        -1.26256384],\n",
       "       [ 1.01998795,  0.78261758,  1.16208213, -0.45949352,  1.02218227,\n",
       "         1.75176082],\n",
       "       [-1.61469943, -0.40251732,  1.06763339,  1.0758722 ,  0.80268791,\n",
       "        -1.26256384],\n",
       "       [-0.84957557, -1.98983828, -1.00223104, -1.72789552,  0.13793514,\n",
       "        -0.52302436],\n",
       "       [ 0.33009943, -0.25362798,  0.91825195, -0.52531824, -1.70734799,\n",
       "        -0.37301916],\n",
       "       [ 1.52379735, -0.9685146 , -1.00223104, -0.95335093, -1.30108742,\n",
       "         0.12808007],\n",
       "       [ 1.20277392, -0.25362798, -1.00223104, -0.6253775 , -0.80475382,\n",
       "         1.66734303],\n",
       "       [ 1.66685449,  0.66580896, -1.00223104,  0.22259985,  0.15490434,\n",
       "         0.5118346 ],\n",
       "       [-0.84957557, -1.05585459, -1.00223104, -1.20677993,  1.80240841,\n",
       "         0.59405986],\n",
       "       [-0.84957557, -1.67203332,  0.69511024,  0.23728564,  1.92653333,\n",
       "        -0.86140114],\n",
       "       [-0.35286331,  0.69530529, -1.00223104, -1.0067758 , -1.30108742,\n",
       "        -0.10474232],\n",
       "       [ 0.02356998,  1.76024516,  0.78125566,  0.33916173, -0.59361126,\n",
       "        -0.52302436],\n",
       "       [-0.84957557, -1.98983828,  0.61043361,  0.22259985,  0.16333355,\n",
       "        -1.49228236],\n",
       "       [ 1.52379735,  0.51525922, -1.00223104, -0.76135073, -0.75346236,\n",
       "         0.59405986],\n",
       "       [-0.35286331,  0.32744797,  1.37417481,  0.396665  , -1.23210714,\n",
       "        -1.26256384],\n",
       "       [-0.84957557,  0.13114807,  0.80266025,  1.02402811, -0.65388547,\n",
       "        -0.23397123],\n",
       "       [ 0.33009943, -0.03951519,  0.86487581, -1.66768864,  0.32834962,\n",
       "         0.67169905],\n",
       "       [ 0.33009943,  0.48451494, -1.00223104, -0.59184524,  0.15067592,\n",
       "         1.80338307],\n",
       "       [ 0.02356998, -1.62131882,  0.8692619 , -0.10929478, -0.73449006,\n",
       "        -0.52302436],\n",
       "       [ 0.02356998,  0.75370691, -1.00223104, -0.26606922,  1.19374225,\n",
       "        -0.37301916],\n",
       "       [-0.35286331,  0.78261758,  0.74669623, -1.16992159,  1.19374225,\n",
       "        -1.49228236],\n",
       "       [-0.84957557, -0.92550642, -1.00223104, -0.2028927 , -0.34504064,\n",
       "        -1.05311184],\n",
       "       [ 1.36979383,  1.39981459, -1.00223104, -0.2028927 , -0.41578114,\n",
       "         1.34904389],\n",
       "       [ 0.33009943, -0.67617214,  0.65892295, -1.45201856, -0.89702785,\n",
       "        -1.49228236],\n",
       "       [-1.61469943, -0.00483963, -1.00223104,  0.31021767,  1.51539888,\n",
       "         1.11334655],\n",
       "       [-0.35286331, -0.63599332, -1.00223104, -0.31387019, -0.07784252,\n",
       "        -1.49228236],\n",
       "       [ 0.33009943, -0.21719632,  1.19434129,  0.77209712,  2.05503656,\n",
       "         1.60581152],\n",
       "       [ 0.59040907,  0.35931858, -1.00223104,  0.42522678, -1.48507381,\n",
       "         1.16484238],\n",
       "       [ 1.01998795,  0.26299648, -1.00223104,  0.83932821, -0.40475563,\n",
       "         1.42990136],\n",
       "       [ 0.33009943,  1.22097894, -1.00223104,  0.17834057,  1.28156938,\n",
       "         0.12808007],\n",
       "       [ 0.02356998,  0.78261758, -1.00223104,  0.10389145, -1.05592557,\n",
       "         1.80338307],\n",
       "       [ 0.02356998,  0.23040827,  1.01837276,  0.22259985, -0.3992625 ,\n",
       "        -0.52302436],\n",
       "       [-0.84957557,  0.81133832,  1.36859385, -0.25021575,  1.44814815,\n",
       "        -1.05311184],\n",
       "       [ 1.36979383,  1.5232534 , -1.00223104,  1.64505168,  0.08174635,\n",
       "         1.05936273],\n",
       "       [ 1.80056515,  0.7246037 , -1.00223104,  0.81251775, -0.75981797,\n",
       "         0.94318954],\n",
       "       [-0.35286331,  0.02956003, -1.00223104,  1.51322556,  1.03696342,\n",
       "        -1.49228236],\n",
       "       [-0.35286331, -0.9685146 , -1.00223104, -0.01705586, -1.60279104,\n",
       "        -0.86140114],\n",
       "       [-1.61469943, -0.84076867,  0.52385979,  0.81251775, -0.74079846,\n",
       "        -0.86140114],\n",
       "       [ 0.59040907,  1.47429139, -1.00223104,  0.17834057, -1.56023257,\n",
       "         0.94318954],\n",
       "       [-0.84957557, -0.75767881, -1.00223104, -2.50350436, -1.46042582,\n",
       "        -1.49228236],\n",
       "       [ 1.01998795, -0.36480926, -1.00223104, -0.3298848 , -0.6969663 ,\n",
       "         0.12808007],\n",
       "       [-0.35286331, -0.63599332,  0.87788357,  0.17834057,  1.40383036,\n",
       "        -0.23397123],\n",
       "       [-0.35286331, -1.37648625,  0.65125558,  0.07386826,  0.45471702,\n",
       "        -1.26256384],\n",
       "       [-1.61469943, -1.88121668, -1.00223104, -1.87081937, -0.20483793,\n",
       "        -0.68530595],\n",
       "       [ 0.02356998, -0.21719632, -1.00223104, -0.25021575,  0.6572464 ,\n",
       "         0.0156547 ],\n",
       "       [-0.84957557, -0.40251732,  1.03272505,  0.36797708, -1.50161734,\n",
       "        -1.26256384],\n",
       "       [-1.61469943, -0.84076867,  0.93691521,  1.71590048, -0.08734639,\n",
       "        -1.26256384],\n",
       "       [-0.35286331, -1.05585459, -1.00223104, -1.39452924, -1.12070628,\n",
       "        -0.68530595],\n",
       "       [ 1.36979383,  0.09754956,  0.69511024, -1.93315522,  1.13149054,\n",
       "         1.3059835 ],\n",
       "       [ 0.81766344, -1.28238174, -1.00223104, -0.0783997 , -0.01250348,\n",
       "         1.00270997],\n",
       "       [ 1.01998795,  1.24697597, -1.00223104, -0.2028927 , -0.00791463,\n",
       "         0.59405986],\n",
       "       [-0.35286331, -0.40251732,  1.1088169 , -0.42683928,  0.18008226,\n",
       "        -1.26256384],\n",
       "       [ 1.36979383,  1.16851928,  1.08515053,  0.38233688,  1.86088827,\n",
       "         1.00270997],\n",
       "       [-1.61469943, -1.23610041, -1.00223104,  0.5940176 , -0.7982862 ,\n",
       "        -0.68530595],\n",
       "       [ 0.59040907, -1.88121668, -1.00223104, -0.7958168 , -0.61153902,\n",
       "        -0.37301916],\n",
       "       [-1.61469943, -1.32917311,  1.00344389,  0.91911471, -0.830787  ,\n",
       "        -1.05311184],\n",
       "       [ 1.20277392,  1.03456251,  1.19975065,  1.51322556,  0.52154418,\n",
       "         0.59405986],\n",
       "       [-0.84957557, -0.67617214, -1.00223104, -1.04265405,  0.63807912,\n",
       "        -1.49228236],\n",
       "       [-0.35286331, -0.21719632, -1.00223104, -0.9003888 , -0.19981223,\n",
       "        -1.05311184],\n",
       "       [-1.61469943, -1.32917311,  0.75856919,  0.5940176 ,  0.6186808 ,\n",
       "        -1.49228236],\n",
       "       [-0.35286331, -0.59618772,  1.28691245, -1.26249252,  0.82847801,\n",
       "        -1.05311184],\n",
       "       [ 0.33009943,  0.78261758, -1.00223104,  1.64505168,  0.91399182,\n",
       "        -1.26256384],\n",
       "       [-0.35286331,  0.42236718, -1.00223104, -1.56868553, -0.61153902,\n",
       "        -1.49228236],\n",
       "       [-0.35286331,  0.89638619,  1.40085296, -0.59184524, -0.23014135,\n",
       "        -0.10474232],\n",
       "       [ 1.36979383, -0.55674827, -1.00223104,  0.17834057,  0.96656546,\n",
       "         1.2140153 ],\n",
       "       [ 0.33009943, -0.25362798, -1.00223104,  0.02856788,  0.35889878,\n",
       "        -0.10474232],\n",
       "       [-0.35286331, -0.44055902,  1.1640603 ,  0.29569695,  1.08034796,\n",
       "        -0.10474232],\n",
       "       [-0.84957557, -0.32742887, -1.00223104, -0.74418966,  0.06854965,\n",
       "        -0.86140114],\n",
       "       [-1.61469943,  0.453552  , -1.00223104,  0.38233688, -1.08453062,\n",
       "        -1.26256384],\n",
       "       [-0.84957557,  0.29534181, -1.00223104, -0.25021575, -0.1698999 ,\n",
       "         1.26101626],\n",
       "       [ 1.20277392,  0.51525922, -1.00223104,  0.17834057, -0.59957261,\n",
       "         0.81464807],\n",
       "       [ 0.02356998,  0.48451494, -1.00223104,  0.396665  ,  0.07735717,\n",
       "         1.11334655],\n",
       "       [-0.84957557,  0.16448799,  1.21722534,  2.29049424, -0.292081  ,\n",
       "         0.12808007],\n",
       "       [-0.84957557, -1.14502297,  0.60172107, -0.28196263,  0.16333355,\n",
       "        -1.05311184],\n",
       "       [-0.84957557, -0.21719632,  1.14586117, -1.29992232, -1.53497499,\n",
       "        -1.05311184],\n",
       "       [-1.61469943,  0.92437222, -1.00223104,  1.50111408, -0.04491544,\n",
       "        -0.86140114]])"
      ]
     },
     "execution_count": 62,
     "metadata": {},
     "output_type": "execute_result"
    }
   ],
   "source": [
    "x_test"
   ]
  },
  {
   "cell_type": "code",
   "execution_count": 63,
   "id": "62a6d2f1",
   "metadata": {},
   "outputs": [
    {
     "data": {
      "text/plain": [
       "749    1\n",
       "410    0\n",
       "179    1\n",
       "258    0\n",
       "421    0\n",
       "      ..\n",
       "289    0\n",
       "191    0\n",
       "565    0\n",
       "316    0\n",
       "43     1\n",
       "Name: Outcome, Length: 572, dtype: int64"
      ]
     },
     "execution_count": 63,
     "metadata": {},
     "output_type": "execute_result"
    }
   ],
   "source": [
    "y_train"
   ]
  },
  {
   "cell_type": "code",
   "execution_count": 64,
   "id": "a9a253ec",
   "metadata": {},
   "outputs": [
    {
     "data": {
      "text/plain": [
       "743    1\n",
       "384    0\n",
       "317    1\n",
       "605    0\n",
       "391    1\n",
       "      ..\n",
       "592    1\n",
       "99     1\n",
       "553    0\n",
       "609    0\n",
       "211    0\n",
       "Name: Outcome, Length: 144, dtype: int64"
      ]
     },
     "execution_count": 64,
     "metadata": {},
     "output_type": "execute_result"
    }
   ],
   "source": [
    "y_test"
   ]
  },
  {
   "cell_type": "markdown",
   "id": "3c083c5a",
   "metadata": {},
   "source": [
    "# Logistic Regression"
   ]
  },
  {
   "cell_type": "code",
   "execution_count": 65,
   "id": "c92fc82e",
   "metadata": {},
   "outputs": [
    {
     "name": "stdout",
     "output_type": "stream",
     "text": [
      "Accuracy 81.25\n",
      "[[84 13]\n",
      " [14 33]]\n",
      "              precision    recall  f1-score   support\n",
      "\n",
      "           0       0.86      0.87      0.86        97\n",
      "           1       0.72      0.70      0.71        47\n",
      "\n",
      "    accuracy                           0.81       144\n",
      "   macro avg       0.79      0.78      0.79       144\n",
      "weighted avg       0.81      0.81      0.81       144\n",
      "\n"
     ]
    }
   ],
   "source": [
    "from sklearn.linear_model import LogisticRegression\n",
    "from sklearn.metrics import classification_report\n",
    "\n",
    "LR = LogisticRegression()\n",
    "LR.fit(x_train, y_train)\n",
    "predlr = LR.predict(x_test)\n",
    "print('Accuracy',accuracy_score(y_test,predlr)*100)\n",
    "print(confusion_matrix(y_test,predlr))\n",
    "print(classification_report(y_test,predlr))"
   ]
  },
  {
   "cell_type": "markdown",
   "id": "ae4f77a7",
   "metadata": {},
   "source": [
    "# Decision tree classifier"
   ]
  },
  {
   "cell_type": "code",
   "execution_count": 66,
   "id": "e27ab9c3",
   "metadata": {},
   "outputs": [
    {
     "name": "stdout",
     "output_type": "stream",
     "text": [
      "Accuracy 70.83333333333334\n",
      "[[71 26]\n",
      " [16 31]]\n",
      "              precision    recall  f1-score   support\n",
      "\n",
      "           0       0.82      0.73      0.77        97\n",
      "           1       0.54      0.66      0.60        47\n",
      "\n",
      "    accuracy                           0.71       144\n",
      "   macro avg       0.68      0.70      0.68       144\n",
      "weighted avg       0.73      0.71      0.71       144\n",
      "\n"
     ]
    }
   ],
   "source": [
    "from sklearn.tree import DecisionTreeClassifier\n",
    "\n",
    "dt = DecisionTreeClassifier()\n",
    "dt.fit(x_train, y_train)\n",
    "preddt = dt.predict(x_test)\n",
    "print('Accuracy',accuracy_score(y_test,preddt)*100)\n",
    "print(confusion_matrix(y_test,preddt))\n",
    "print(classification_report(y_test,preddt))"
   ]
  },
  {
   "cell_type": "markdown",
   "id": "1e26e461",
   "metadata": {},
   "source": [
    "# SVC "
   ]
  },
  {
   "cell_type": "code",
   "execution_count": 67,
   "id": "e579d02d",
   "metadata": {},
   "outputs": [
    {
     "name": "stdout",
     "output_type": "stream",
     "text": [
      "Accuracy 80.55555555555556\n",
      "[[86 11]\n",
      " [17 30]]\n",
      "              precision    recall  f1-score   support\n",
      "\n",
      "           0       0.83      0.89      0.86        97\n",
      "           1       0.73      0.64      0.68        47\n",
      "\n",
      "    accuracy                           0.81       144\n",
      "   macro avg       0.78      0.76      0.77       144\n",
      "weighted avg       0.80      0.81      0.80       144\n",
      "\n"
     ]
    }
   ],
   "source": [
    "from sklearn.svm import SVC\n",
    "\n",
    "svc = SVC()\n",
    "svc.fit(x_train, y_train)\n",
    "pred = svc.predict(x_test)\n",
    "print('Accuracy',accuracy_score(y_test,pred)*100)\n",
    "print(confusion_matrix(y_test,pred))\n",
    "print(classification_report(y_test,pred))"
   ]
  },
  {
   "cell_type": "markdown",
   "id": "12a9185b",
   "metadata": {},
   "source": [
    "# Random Forest Clssifier"
   ]
  },
  {
   "cell_type": "code",
   "execution_count": 68,
   "id": "1bb028ee",
   "metadata": {},
   "outputs": [
    {
     "name": "stdout",
     "output_type": "stream",
     "text": [
      "Accuracy 78.47222222222221\n",
      "[[82 15]\n",
      " [16 31]]\n",
      "              precision    recall  f1-score   support\n",
      "\n",
      "           0       0.84      0.85      0.84        97\n",
      "           1       0.67      0.66      0.67        47\n",
      "\n",
      "    accuracy                           0.78       144\n",
      "   macro avg       0.76      0.75      0.75       144\n",
      "weighted avg       0.78      0.78      0.78       144\n",
      "\n"
     ]
    }
   ],
   "source": [
    "from sklearn.ensemble import RandomForestClassifier\n",
    "\n",
    "rf = RandomForestClassifier()\n",
    "rf.fit(x_train, y_train)\n",
    "predrf = rf.predict(x_test)\n",
    "print('Accuracy',accuracy_score(y_test,predrf)*100)\n",
    "print(confusion_matrix(y_test,predrf))\n",
    "print(classification_report(y_test,predrf))"
   ]
  },
  {
   "cell_type": "markdown",
   "id": "c41836c7",
   "metadata": {},
   "source": [
    "Getting good accuracy in RandonForest and SVC, so cross validating to check for overfitting "
   ]
  },
  {
   "cell_type": "markdown",
   "id": "27a67ead",
   "metadata": {},
   "source": [
    "# Cross Validation"
   ]
  },
  {
   "cell_type": "code",
   "execution_count": 72,
   "id": "0a0d6c72",
   "metadata": {},
   "outputs": [
    {
     "name": "stdout",
     "output_type": "stream",
     "text": [
      "cross validation score of Logistic Regression: 0.7709880068532267\n"
     ]
    }
   ],
   "source": [
    "from sklearn.model_selection import cross_val_score\n",
    "\n",
    "scr= cross_val_score(LR, x, y, cv=7)\n",
    "print('cross validation score of Logistic Regression:',scr.mean())"
   ]
  },
  {
   "cell_type": "code",
   "execution_count": 70,
   "id": "ede730e8",
   "metadata": {},
   "outputs": [
    {
     "data": {
      "text/plain": [
       "array([0.72815534, 0.78640777, 0.73529412, 0.7745098 , 0.73529412,\n",
       "       0.85294118, 0.78431373])"
      ]
     },
     "execution_count": 70,
     "metadata": {},
     "output_type": "execute_result"
    }
   ],
   "source": [
    "scr"
   ]
  },
  {
   "cell_type": "code",
   "execution_count": 71,
   "id": "afb80e8d",
   "metadata": {},
   "outputs": [
    {
     "name": "stdout",
     "output_type": "stream",
     "text": [
      "cross validation score of Random forest: 0.7695609945609945\n"
     ]
    }
   ],
   "source": [
    "from sklearn.model_selection import cross_val_score\n",
    "\n",
    "scr2= cross_val_score(rf, x, y, cv=5)\n",
    "print('cross validation score of Random forest:', scr2.mean())"
   ]
  },
  {
   "cell_type": "markdown",
   "id": "424a4b2a",
   "metadata": {},
   "source": [
    "Logistic Regression is performing better than all"
   ]
  },
  {
   "cell_type": "markdown",
   "id": "ac50783c",
   "metadata": {},
   "source": [
    "# AUC ROC_CURVE"
   ]
  },
  {
   "cell_type": "code",
   "execution_count": 80,
   "id": "bbe94075",
   "metadata": {},
   "outputs": [
    {
     "data": {
      "image/png": "[encoded data removed]",
      "text/plain": [
       "<Figure size 432x288 with 1 Axes>"
      ]
     },
     "metadata": {
      "needs_background": "light"
     },
     "output_type": "display_data"
    }
   ],
   "source": [
    "from sklearn.metrics import auc,roc_curve\n",
    "fpr,tpr,thresholds = roc_curve (predlr,y_test)\n",
    "roc_auc= auc(fpr,tpr)\n",
    "\n",
    "plt.figure()\n",
    "plt.plot( fpr, tpr, color='darkorange', linewidth= 10, label= 'ROC curve(area = %0.2f)'% roc_auc)\n",
    "plt.plot([0,1],[0,1], color='navy', linewidth= 10, linestyle='dashed')\n",
    "plt.xlim([0.0,1.0])\n",
    "plt.ylim([0.0,1.1])\n",
    "plt.xlabel('False Positive Rate')\n",
    "plt.ylabel('True Positive Rate')\n",
    "plt.title('Receive Operating Cararteristic')\n",
    "plt.legend(loc='lower right')\n",
    "plt.show()"
   ]
  },
  {
   "cell_type": "markdown",
   "id": "bf3aa6c3",
   "metadata": {},
   "source": [
    "# saving Model"
   ]
  },
  {
   "cell_type": "code",
   "execution_count": 87,
   "id": "144a23e6",
   "metadata": {},
   "outputs": [],
   "source": [
    "import pickle\n",
    "filename = 'inhouse_Diabetes.pkl'\n",
    "pickle.dump(LR, open(filename, 'wb'))"
   ]
  },
  {
   "cell_type": "code",
   "execution_count": 88,
   "id": "97653a17",
   "metadata": {},
   "outputs": [],
   "source": [
    "# conclusion"
   ]
  },
  {
   "cell_type": "code",
   "execution_count": 81,
   "id": "fee1bf40",
   "metadata": {},
   "outputs": [],
   "source": [
    "import numpy as np"
   ]
  },
  {
   "cell_type": "code",
   "execution_count": 85,
   "id": "d7776a7f",
   "metadata": {},
   "outputs": [
    {
     "data": {
      "text/html": [
       "<div>\n",
       "<style scoped>\n",
       "    .dataframe tbody tr th:only-of-type {\n",
       "        vertical-align: middle;\n",
       "    }\n",
       "\n",
       "    .dataframe tbody tr th {\n",
       "        vertical-align: top;\n",
       "    }\n",
       "\n",
       "    .dataframe thead th {\n",
       "        text-align: right;\n",
       "    }\n",
       "</style>\n",
       "<table border=\"1\" class=\"dataframe\">\n",
       "  <thead>\n",
       "    <tr style=\"text-align: right;\">\n",
       "      <th></th>\n",
       "      <th>original</th>\n",
       "      <th>predicted</th>\n",
       "    </tr>\n",
       "  </thead>\n",
       "  <tbody>\n",
       "    <tr>\n",
       "      <th>0</th>\n",
       "      <td>1</td>\n",
       "      <td>1</td>\n",
       "    </tr>\n",
       "    <tr>\n",
       "      <th>1</th>\n",
       "      <td>0</td>\n",
       "      <td>0</td>\n",
       "    </tr>\n",
       "    <tr>\n",
       "      <th>2</th>\n",
       "      <td>1</td>\n",
       "      <td>1</td>\n",
       "    </tr>\n",
       "    <tr>\n",
       "      <th>3</th>\n",
       "      <td>0</td>\n",
       "      <td>0</td>\n",
       "    </tr>\n",
       "    <tr>\n",
       "      <th>4</th>\n",
       "      <td>1</td>\n",
       "      <td>1</td>\n",
       "    </tr>\n",
       "    <tr>\n",
       "      <th>...</th>\n",
       "      <td>...</td>\n",
       "      <td>...</td>\n",
       "    </tr>\n",
       "    <tr>\n",
       "      <th>139</th>\n",
       "      <td>1</td>\n",
       "      <td>1</td>\n",
       "    </tr>\n",
       "    <tr>\n",
       "      <th>140</th>\n",
       "      <td>1</td>\n",
       "      <td>1</td>\n",
       "    </tr>\n",
       "    <tr>\n",
       "      <th>141</th>\n",
       "      <td>0</td>\n",
       "      <td>0</td>\n",
       "    </tr>\n",
       "    <tr>\n",
       "      <th>142</th>\n",
       "      <td>0</td>\n",
       "      <td>0</td>\n",
       "    </tr>\n",
       "    <tr>\n",
       "      <th>143</th>\n",
       "      <td>0</td>\n",
       "      <td>1</td>\n",
       "    </tr>\n",
       "  </tbody>\n",
       "</table>\n",
       "<p>144 rows × 2 columns</p>\n",
       "</div>"
      ],
      "text/plain": [
       "     original  predicted\n",
       "0           1          1\n",
       "1           0          0\n",
       "2           1          1\n",
       "3           0          0\n",
       "4           1          1\n",
       "..        ...        ...\n",
       "139         1          1\n",
       "140         1          1\n",
       "141         0          0\n",
       "142         0          0\n",
       "143         0          1\n",
       "\n",
       "[144 rows x 2 columns]"
      ]
     },
     "execution_count": 85,
     "metadata": {},
     "output_type": "execute_result"
    }
   ],
   "source": [
    "a=np.array(y_test)\n",
    "predicted= np.array(LR.predict(x_test))\n",
    "df_con= pd.DataFrame({'original': a , 'predicted':predicted}, index= range(len(a)))\n",
    "df_con"
   ]
  },
  {
   "cell_type": "code",
   "execution_count": null,
   "id": "9e2a4ca1",
   "metadata": {},
   "outputs": [],
   "source": []
  },
  {
   "cell_type": "code",
   "execution_count": null,
   "id": "5b47ab02",
   "metadata": {},
   "outputs": [],
   "source": []
  }
 ],
 "metadata": {
  "kernelspec": {
   "display_name": "Python 3 (ipykernel)",
   "language": "python",
   "name": "python3"
  },
  "language_info": {
   "codemirror_mode": {
    "name": "ipython",
    "version": 3
   },
   "file_extension": ".py",
   "mimetype": "text/x-python",
   "name": "python",
   "nbconvert_exporter": "python",
   "pygments_lexer": "ipython3",
   "version": "3.9.7"
  }
 },
 "nbformat": 4,
 "nbformat_minor": 5
}
