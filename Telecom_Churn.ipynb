{
 "cells": [
  {
   "cell_type": "code",
   "execution_count": 1,
   "id": "ee37b5f5",
   "metadata": {},
   "outputs": [],
   "source": [
    "import pandas as pd\n",
    "import numpy as np"
   ]
  },
  {
   "cell_type": "code",
   "execution_count": 2,
   "id": "c454744a",
   "metadata": {},
   "outputs": [],
   "source": [
    "df=pd.read_csv(r\"C:\\Users\\SC\\Downloads\\Telco-Customer-Churn.csv\")"
   ]
  },
  {
   "cell_type": "code",
   "execution_count": 3,
   "id": "61bce92d",
   "metadata": {},
   "outputs": [
    {
     "data": {
      "text/html": [
       "<div>\n",
       "<style scoped>\n",
       "    .dataframe tbody tr th:only-of-type {\n",
       "        vertical-align: middle;\n",
       "    }\n",
       "\n",
       "    .dataframe tbody tr th {\n",
       "        vertical-align: top;\n",
       "    }\n",
       "\n",
       "    .dataframe thead th {\n",
       "        text-align: right;\n",
       "    }\n",
       "</style>\n",
       "<table border=\"1\" class=\"dataframe\">\n",
       "  <thead>\n",
       "    <tr style=\"text-align: right;\">\n",
       "      <th></th>\n",
       "      <th>customerID</th>\n",
       "      <th>gender</th>\n",
       "      <th>SeniorCitizen</th>\n",
       "      <th>Partner</th>\n",
       "      <th>Dependents</th>\n",
       "      <th>tenure</th>\n",
       "      <th>PhoneService</th>\n",
       "      <th>MultipleLines</th>\n",
       "      <th>InternetService</th>\n",
       "      <th>OnlineSecurity</th>\n",
       "      <th>...</th>\n",
       "      <th>DeviceProtection</th>\n",
       "      <th>TechSupport</th>\n",
       "      <th>StreamingTV</th>\n",
       "      <th>StreamingMovies</th>\n",
       "      <th>Contract</th>\n",
       "      <th>PaperlessBilling</th>\n",
       "      <th>PaymentMethod</th>\n",
       "      <th>MonthlyCharges</th>\n",
       "      <th>TotalCharges</th>\n",
       "      <th>Churn</th>\n",
       "    </tr>\n",
       "  </thead>\n",
       "  <tbody>\n",
       "    <tr>\n",
       "      <th>0</th>\n",
       "      <td>7590-VHVEG</td>\n",
       "      <td>Female</td>\n",
       "      <td>0</td>\n",
       "      <td>Yes</td>\n",
       "      <td>No</td>\n",
       "      <td>1</td>\n",
       "      <td>No</td>\n",
       "      <td>No phone service</td>\n",
       "      <td>DSL</td>\n",
       "      <td>No</td>\n",
       "      <td>...</td>\n",
       "      <td>No</td>\n",
       "      <td>No</td>\n",
       "      <td>No</td>\n",
       "      <td>No</td>\n",
       "      <td>Month-to-month</td>\n",
       "      <td>Yes</td>\n",
       "      <td>Electronic check</td>\n",
       "      <td>29.85</td>\n",
       "      <td>29.85</td>\n",
       "      <td>No</td>\n",
       "    </tr>\n",
       "    <tr>\n",
       "      <th>1</th>\n",
       "      <td>5575-GNVDE</td>\n",
       "      <td>Male</td>\n",
       "      <td>0</td>\n",
       "      <td>No</td>\n",
       "      <td>No</td>\n",
       "      <td>34</td>\n",
       "      <td>Yes</td>\n",
       "      <td>No</td>\n",
       "      <td>DSL</td>\n",
       "      <td>Yes</td>\n",
       "      <td>...</td>\n",
       "      <td>Yes</td>\n",
       "      <td>No</td>\n",
       "      <td>No</td>\n",
       "      <td>No</td>\n",
       "      <td>One year</td>\n",
       "      <td>No</td>\n",
       "      <td>Mailed check</td>\n",
       "      <td>56.95</td>\n",
       "      <td>1889.5</td>\n",
       "      <td>No</td>\n",
       "    </tr>\n",
       "    <tr>\n",
       "      <th>2</th>\n",
       "      <td>3668-QPYBK</td>\n",
       "      <td>Male</td>\n",
       "      <td>0</td>\n",
       "      <td>No</td>\n",
       "      <td>No</td>\n",
       "      <td>2</td>\n",
       "      <td>Yes</td>\n",
       "      <td>No</td>\n",
       "      <td>DSL</td>\n",
       "      <td>Yes</td>\n",
       "      <td>...</td>\n",
       "      <td>No</td>\n",
       "      <td>No</td>\n",
       "      <td>No</td>\n",
       "      <td>No</td>\n",
       "      <td>Month-to-month</td>\n",
       "      <td>Yes</td>\n",
       "      <td>Mailed check</td>\n",
       "      <td>53.85</td>\n",
       "      <td>108.15</td>\n",
       "      <td>Yes</td>\n",
       "    </tr>\n",
       "    <tr>\n",
       "      <th>3</th>\n",
       "      <td>7795-CFOCW</td>\n",
       "      <td>Male</td>\n",
       "      <td>0</td>\n",
       "      <td>No</td>\n",
       "      <td>No</td>\n",
       "      <td>45</td>\n",
       "      <td>No</td>\n",
       "      <td>No phone service</td>\n",
       "      <td>DSL</td>\n",
       "      <td>Yes</td>\n",
       "      <td>...</td>\n",
       "      <td>Yes</td>\n",
       "      <td>Yes</td>\n",
       "      <td>No</td>\n",
       "      <td>No</td>\n",
       "      <td>One year</td>\n",
       "      <td>No</td>\n",
       "      <td>Bank transfer (automatic)</td>\n",
       "      <td>42.30</td>\n",
       "      <td>1840.75</td>\n",
       "      <td>No</td>\n",
       "    </tr>\n",
       "    <tr>\n",
       "      <th>4</th>\n",
       "      <td>9237-HQITU</td>\n",
       "      <td>Female</td>\n",
       "      <td>0</td>\n",
       "      <td>No</td>\n",
       "      <td>No</td>\n",
       "      <td>2</td>\n",
       "      <td>Yes</td>\n",
       "      <td>No</td>\n",
       "      <td>Fiber optic</td>\n",
       "      <td>No</td>\n",
       "      <td>...</td>\n",
       "      <td>No</td>\n",
       "      <td>No</td>\n",
       "      <td>No</td>\n",
       "      <td>No</td>\n",
       "      <td>Month-to-month</td>\n",
       "      <td>Yes</td>\n",
       "      <td>Electronic check</td>\n",
       "      <td>70.70</td>\n",
       "      <td>151.65</td>\n",
       "      <td>Yes</td>\n",
       "    </tr>\n",
       "  </tbody>\n",
       "</table>\n",
       "<p>5 rows × 21 columns</p>\n",
       "</div>"
      ],
      "text/plain": [
       "   customerID  gender  SeniorCitizen Partner Dependents  tenure PhoneService  \\\n",
       "0  7590-VHVEG  Female              0     Yes         No       1           No   \n",
       "1  5575-GNVDE    Male              0      No         No      34          Yes   \n",
       "2  3668-QPYBK    Male              0      No         No       2          Yes   \n",
       "3  7795-CFOCW    Male              0      No         No      45           No   \n",
       "4  9237-HQITU  Female              0      No         No       2          Yes   \n",
       "\n",
       "      MultipleLines InternetService OnlineSecurity  ... DeviceProtection  \\\n",
       "0  No phone service             DSL             No  ...               No   \n",
       "1                No             DSL            Yes  ...              Yes   \n",
       "2                No             DSL            Yes  ...               No   \n",
       "3  No phone service             DSL            Yes  ...              Yes   \n",
       "4                No     Fiber optic             No  ...               No   \n",
       "\n",
       "  TechSupport StreamingTV StreamingMovies        Contract PaperlessBilling  \\\n",
       "0          No          No              No  Month-to-month              Yes   \n",
       "1          No          No              No        One year               No   \n",
       "2          No          No              No  Month-to-month              Yes   \n",
       "3         Yes          No              No        One year               No   \n",
       "4          No          No              No  Month-to-month              Yes   \n",
       "\n",
       "               PaymentMethod MonthlyCharges  TotalCharges Churn  \n",
       "0           Electronic check          29.85         29.85    No  \n",
       "1               Mailed check          56.95        1889.5    No  \n",
       "2               Mailed check          53.85        108.15   Yes  \n",
       "3  Bank transfer (automatic)          42.30       1840.75    No  \n",
       "4           Electronic check          70.70        151.65   Yes  \n",
       "\n",
       "[5 rows x 21 columns]"
      ]
     },
     "execution_count": 3,
     "metadata": {},
     "output_type": "execute_result"
    }
   ],
   "source": [
    "df.head()"
   ]
  },
  {
   "cell_type": "code",
   "execution_count": 4,
   "id": "8174a014",
   "metadata": {},
   "outputs": [
    {
     "data": {
      "text/plain": [
       "customerID          0\n",
       "gender              0\n",
       "SeniorCitizen       0\n",
       "Partner             0\n",
       "Dependents          0\n",
       "tenure              0\n",
       "PhoneService        0\n",
       "MultipleLines       0\n",
       "InternetService     0\n",
       "OnlineSecurity      0\n",
       "OnlineBackup        0\n",
       "DeviceProtection    0\n",
       "TechSupport         0\n",
       "StreamingTV         0\n",
       "StreamingMovies     0\n",
       "Contract            0\n",
       "PaperlessBilling    0\n",
       "PaymentMethod       0\n",
       "MonthlyCharges      0\n",
       "TotalCharges        0\n",
       "Churn               0\n",
       "dtype: int64"
      ]
     },
     "execution_count": 4,
     "metadata": {},
     "output_type": "execute_result"
    }
   ],
   "source": [
    "df.isnull().sum()"
   ]
  },
  {
   "cell_type": "code",
   "execution_count": 5,
   "id": "515d964b",
   "metadata": {},
   "outputs": [
    {
     "data": {
      "text/plain": [
       "customerID           object\n",
       "gender               object\n",
       "SeniorCitizen         int64\n",
       "Partner              object\n",
       "Dependents           object\n",
       "tenure                int64\n",
       "PhoneService         object\n",
       "MultipleLines        object\n",
       "InternetService      object\n",
       "OnlineSecurity       object\n",
       "OnlineBackup         object\n",
       "DeviceProtection     object\n",
       "TechSupport          object\n",
       "StreamingTV          object\n",
       "StreamingMovies      object\n",
       "Contract             object\n",
       "PaperlessBilling     object\n",
       "PaymentMethod        object\n",
       "MonthlyCharges      float64\n",
       "TotalCharges         object\n",
       "Churn                object\n",
       "dtype: object"
      ]
     },
     "execution_count": 5,
     "metadata": {},
     "output_type": "execute_result"
    }
   ],
   "source": [
    "df.dtypes"
   ]
  },
  {
   "cell_type": "code",
   "execution_count": 6,
   "id": "2e66c1cd",
   "metadata": {},
   "outputs": [
    {
     "data": {
      "text/plain": [
       "array(['29.85', '1889.5', '108.15', ..., '346.45', '306.6', '6844.5'],\n",
       "      dtype=object)"
      ]
     },
     "execution_count": 6,
     "metadata": {},
     "output_type": "execute_result"
    }
   ],
   "source": [
    "df['TotalCharges'].unique()"
   ]
  },
  {
   "cell_type": "code",
   "execution_count": 7,
   "id": "c009b755",
   "metadata": {},
   "outputs": [
    {
     "data": {
      "text/html": [
       "<div>\n",
       "<style scoped>\n",
       "    .dataframe tbody tr th:only-of-type {\n",
       "        vertical-align: middle;\n",
       "    }\n",
       "\n",
       "    .dataframe tbody tr th {\n",
       "        vertical-align: top;\n",
       "    }\n",
       "\n",
       "    .dataframe thead th {\n",
       "        text-align: right;\n",
       "    }\n",
       "</style>\n",
       "<table border=\"1\" class=\"dataframe\">\n",
       "  <thead>\n",
       "    <tr style=\"text-align: right;\">\n",
       "      <th></th>\n",
       "      <th>customerID</th>\n",
       "      <th>gender</th>\n",
       "      <th>SeniorCitizen</th>\n",
       "      <th>Partner</th>\n",
       "      <th>Dependents</th>\n",
       "      <th>tenure</th>\n",
       "      <th>PhoneService</th>\n",
       "      <th>MultipleLines</th>\n",
       "      <th>InternetService</th>\n",
       "      <th>OnlineSecurity</th>\n",
       "      <th>...</th>\n",
       "      <th>DeviceProtection</th>\n",
       "      <th>TechSupport</th>\n",
       "      <th>StreamingTV</th>\n",
       "      <th>StreamingMovies</th>\n",
       "      <th>Contract</th>\n",
       "      <th>PaperlessBilling</th>\n",
       "      <th>PaymentMethod</th>\n",
       "      <th>MonthlyCharges</th>\n",
       "      <th>TotalCharges</th>\n",
       "      <th>Churn</th>\n",
       "    </tr>\n",
       "  </thead>\n",
       "  <tbody>\n",
       "    <tr>\n",
       "      <th>488</th>\n",
       "      <td>4472-LVYGI</td>\n",
       "      <td>Female</td>\n",
       "      <td>0</td>\n",
       "      <td>Yes</td>\n",
       "      <td>Yes</td>\n",
       "      <td>0</td>\n",
       "      <td>No</td>\n",
       "      <td>No phone service</td>\n",
       "      <td>DSL</td>\n",
       "      <td>Yes</td>\n",
       "      <td>...</td>\n",
       "      <td>Yes</td>\n",
       "      <td>Yes</td>\n",
       "      <td>Yes</td>\n",
       "      <td>No</td>\n",
       "      <td>Two year</td>\n",
       "      <td>Yes</td>\n",
       "      <td>Bank transfer (automatic)</td>\n",
       "      <td>52.55</td>\n",
       "      <td></td>\n",
       "      <td>No</td>\n",
       "    </tr>\n",
       "    <tr>\n",
       "      <th>753</th>\n",
       "      <td>3115-CZMZD</td>\n",
       "      <td>Male</td>\n",
       "      <td>0</td>\n",
       "      <td>No</td>\n",
       "      <td>Yes</td>\n",
       "      <td>0</td>\n",
       "      <td>Yes</td>\n",
       "      <td>No</td>\n",
       "      <td>No</td>\n",
       "      <td>No internet service</td>\n",
       "      <td>...</td>\n",
       "      <td>No internet service</td>\n",
       "      <td>No internet service</td>\n",
       "      <td>No internet service</td>\n",
       "      <td>No internet service</td>\n",
       "      <td>Two year</td>\n",
       "      <td>No</td>\n",
       "      <td>Mailed check</td>\n",
       "      <td>20.25</td>\n",
       "      <td></td>\n",
       "      <td>No</td>\n",
       "    </tr>\n",
       "    <tr>\n",
       "      <th>936</th>\n",
       "      <td>5709-LVOEQ</td>\n",
       "      <td>Female</td>\n",
       "      <td>0</td>\n",
       "      <td>Yes</td>\n",
       "      <td>Yes</td>\n",
       "      <td>0</td>\n",
       "      <td>Yes</td>\n",
       "      <td>No</td>\n",
       "      <td>DSL</td>\n",
       "      <td>Yes</td>\n",
       "      <td>...</td>\n",
       "      <td>Yes</td>\n",
       "      <td>No</td>\n",
       "      <td>Yes</td>\n",
       "      <td>Yes</td>\n",
       "      <td>Two year</td>\n",
       "      <td>No</td>\n",
       "      <td>Mailed check</td>\n",
       "      <td>80.85</td>\n",
       "      <td></td>\n",
       "      <td>No</td>\n",
       "    </tr>\n",
       "    <tr>\n",
       "      <th>1082</th>\n",
       "      <td>4367-NUYAO</td>\n",
       "      <td>Male</td>\n",
       "      <td>0</td>\n",
       "      <td>Yes</td>\n",
       "      <td>Yes</td>\n",
       "      <td>0</td>\n",
       "      <td>Yes</td>\n",
       "      <td>Yes</td>\n",
       "      <td>No</td>\n",
       "      <td>No internet service</td>\n",
       "      <td>...</td>\n",
       "      <td>No internet service</td>\n",
       "      <td>No internet service</td>\n",
       "      <td>No internet service</td>\n",
       "      <td>No internet service</td>\n",
       "      <td>Two year</td>\n",
       "      <td>No</td>\n",
       "      <td>Mailed check</td>\n",
       "      <td>25.75</td>\n",
       "      <td></td>\n",
       "      <td>No</td>\n",
       "    </tr>\n",
       "    <tr>\n",
       "      <th>1340</th>\n",
       "      <td>1371-DWPAZ</td>\n",
       "      <td>Female</td>\n",
       "      <td>0</td>\n",
       "      <td>Yes</td>\n",
       "      <td>Yes</td>\n",
       "      <td>0</td>\n",
       "      <td>No</td>\n",
       "      <td>No phone service</td>\n",
       "      <td>DSL</td>\n",
       "      <td>Yes</td>\n",
       "      <td>...</td>\n",
       "      <td>Yes</td>\n",
       "      <td>Yes</td>\n",
       "      <td>Yes</td>\n",
       "      <td>No</td>\n",
       "      <td>Two year</td>\n",
       "      <td>No</td>\n",
       "      <td>Credit card (automatic)</td>\n",
       "      <td>56.05</td>\n",
       "      <td></td>\n",
       "      <td>No</td>\n",
       "    </tr>\n",
       "    <tr>\n",
       "      <th>3331</th>\n",
       "      <td>7644-OMVMY</td>\n",
       "      <td>Male</td>\n",
       "      <td>0</td>\n",
       "      <td>Yes</td>\n",
       "      <td>Yes</td>\n",
       "      <td>0</td>\n",
       "      <td>Yes</td>\n",
       "      <td>No</td>\n",
       "      <td>No</td>\n",
       "      <td>No internet service</td>\n",
       "      <td>...</td>\n",
       "      <td>No internet service</td>\n",
       "      <td>No internet service</td>\n",
       "      <td>No internet service</td>\n",
       "      <td>No internet service</td>\n",
       "      <td>Two year</td>\n",
       "      <td>No</td>\n",
       "      <td>Mailed check</td>\n",
       "      <td>19.85</td>\n",
       "      <td></td>\n",
       "      <td>No</td>\n",
       "    </tr>\n",
       "    <tr>\n",
       "      <th>3826</th>\n",
       "      <td>3213-VVOLG</td>\n",
       "      <td>Male</td>\n",
       "      <td>0</td>\n",
       "      <td>Yes</td>\n",
       "      <td>Yes</td>\n",
       "      <td>0</td>\n",
       "      <td>Yes</td>\n",
       "      <td>Yes</td>\n",
       "      <td>No</td>\n",
       "      <td>No internet service</td>\n",
       "      <td>...</td>\n",
       "      <td>No internet service</td>\n",
       "      <td>No internet service</td>\n",
       "      <td>No internet service</td>\n",
       "      <td>No internet service</td>\n",
       "      <td>Two year</td>\n",
       "      <td>No</td>\n",
       "      <td>Mailed check</td>\n",
       "      <td>25.35</td>\n",
       "      <td></td>\n",
       "      <td>No</td>\n",
       "    </tr>\n",
       "    <tr>\n",
       "      <th>4380</th>\n",
       "      <td>2520-SGTTA</td>\n",
       "      <td>Female</td>\n",
       "      <td>0</td>\n",
       "      <td>Yes</td>\n",
       "      <td>Yes</td>\n",
       "      <td>0</td>\n",
       "      <td>Yes</td>\n",
       "      <td>No</td>\n",
       "      <td>No</td>\n",
       "      <td>No internet service</td>\n",
       "      <td>...</td>\n",
       "      <td>No internet service</td>\n",
       "      <td>No internet service</td>\n",
       "      <td>No internet service</td>\n",
       "      <td>No internet service</td>\n",
       "      <td>Two year</td>\n",
       "      <td>No</td>\n",
       "      <td>Mailed check</td>\n",
       "      <td>20.00</td>\n",
       "      <td></td>\n",
       "      <td>No</td>\n",
       "    </tr>\n",
       "    <tr>\n",
       "      <th>5218</th>\n",
       "      <td>2923-ARZLG</td>\n",
       "      <td>Male</td>\n",
       "      <td>0</td>\n",
       "      <td>Yes</td>\n",
       "      <td>Yes</td>\n",
       "      <td>0</td>\n",
       "      <td>Yes</td>\n",
       "      <td>No</td>\n",
       "      <td>No</td>\n",
       "      <td>No internet service</td>\n",
       "      <td>...</td>\n",
       "      <td>No internet service</td>\n",
       "      <td>No internet service</td>\n",
       "      <td>No internet service</td>\n",
       "      <td>No internet service</td>\n",
       "      <td>One year</td>\n",
       "      <td>Yes</td>\n",
       "      <td>Mailed check</td>\n",
       "      <td>19.70</td>\n",
       "      <td></td>\n",
       "      <td>No</td>\n",
       "    </tr>\n",
       "    <tr>\n",
       "      <th>6670</th>\n",
       "      <td>4075-WKNIU</td>\n",
       "      <td>Female</td>\n",
       "      <td>0</td>\n",
       "      <td>Yes</td>\n",
       "      <td>Yes</td>\n",
       "      <td>0</td>\n",
       "      <td>Yes</td>\n",
       "      <td>Yes</td>\n",
       "      <td>DSL</td>\n",
       "      <td>No</td>\n",
       "      <td>...</td>\n",
       "      <td>Yes</td>\n",
       "      <td>Yes</td>\n",
       "      <td>Yes</td>\n",
       "      <td>No</td>\n",
       "      <td>Two year</td>\n",
       "      <td>No</td>\n",
       "      <td>Mailed check</td>\n",
       "      <td>73.35</td>\n",
       "      <td></td>\n",
       "      <td>No</td>\n",
       "    </tr>\n",
       "    <tr>\n",
       "      <th>6754</th>\n",
       "      <td>2775-SEFEE</td>\n",
       "      <td>Male</td>\n",
       "      <td>0</td>\n",
       "      <td>No</td>\n",
       "      <td>Yes</td>\n",
       "      <td>0</td>\n",
       "      <td>Yes</td>\n",
       "      <td>Yes</td>\n",
       "      <td>DSL</td>\n",
       "      <td>Yes</td>\n",
       "      <td>...</td>\n",
       "      <td>No</td>\n",
       "      <td>Yes</td>\n",
       "      <td>No</td>\n",
       "      <td>No</td>\n",
       "      <td>Two year</td>\n",
       "      <td>Yes</td>\n",
       "      <td>Bank transfer (automatic)</td>\n",
       "      <td>61.90</td>\n",
       "      <td></td>\n",
       "      <td>No</td>\n",
       "    </tr>\n",
       "  </tbody>\n",
       "</table>\n",
       "<p>11 rows × 21 columns</p>\n",
       "</div>"
      ],
      "text/plain": [
       "      customerID  gender  SeniorCitizen Partner Dependents  tenure  \\\n",
       "488   4472-LVYGI  Female              0     Yes        Yes       0   \n",
       "753   3115-CZMZD    Male              0      No        Yes       0   \n",
       "936   5709-LVOEQ  Female              0     Yes        Yes       0   \n",
       "1082  4367-NUYAO    Male              0     Yes        Yes       0   \n",
       "1340  1371-DWPAZ  Female              0     Yes        Yes       0   \n",
       "3331  7644-OMVMY    Male              0     Yes        Yes       0   \n",
       "3826  3213-VVOLG    Male              0     Yes        Yes       0   \n",
       "4380  2520-SGTTA  Female              0     Yes        Yes       0   \n",
       "5218  2923-ARZLG    Male              0     Yes        Yes       0   \n",
       "6670  4075-WKNIU  Female              0     Yes        Yes       0   \n",
       "6754  2775-SEFEE    Male              0      No        Yes       0   \n",
       "\n",
       "     PhoneService     MultipleLines InternetService       OnlineSecurity  ...  \\\n",
       "488            No  No phone service             DSL                  Yes  ...   \n",
       "753           Yes                No              No  No internet service  ...   \n",
       "936           Yes                No             DSL                  Yes  ...   \n",
       "1082          Yes               Yes              No  No internet service  ...   \n",
       "1340           No  No phone service             DSL                  Yes  ...   \n",
       "3331          Yes                No              No  No internet service  ...   \n",
       "3826          Yes               Yes              No  No internet service  ...   \n",
       "4380          Yes                No              No  No internet service  ...   \n",
       "5218          Yes                No              No  No internet service  ...   \n",
       "6670          Yes               Yes             DSL                   No  ...   \n",
       "6754          Yes               Yes             DSL                  Yes  ...   \n",
       "\n",
       "         DeviceProtection          TechSupport          StreamingTV  \\\n",
       "488                   Yes                  Yes                  Yes   \n",
       "753   No internet service  No internet service  No internet service   \n",
       "936                   Yes                   No                  Yes   \n",
       "1082  No internet service  No internet service  No internet service   \n",
       "1340                  Yes                  Yes                  Yes   \n",
       "3331  No internet service  No internet service  No internet service   \n",
       "3826  No internet service  No internet service  No internet service   \n",
       "4380  No internet service  No internet service  No internet service   \n",
       "5218  No internet service  No internet service  No internet service   \n",
       "6670                  Yes                  Yes                  Yes   \n",
       "6754                   No                  Yes                   No   \n",
       "\n",
       "          StreamingMovies  Contract PaperlessBilling  \\\n",
       "488                    No  Two year              Yes   \n",
       "753   No internet service  Two year               No   \n",
       "936                   Yes  Two year               No   \n",
       "1082  No internet service  Two year               No   \n",
       "1340                   No  Two year               No   \n",
       "3331  No internet service  Two year               No   \n",
       "3826  No internet service  Two year               No   \n",
       "4380  No internet service  Two year               No   \n",
       "5218  No internet service  One year              Yes   \n",
       "6670                   No  Two year               No   \n",
       "6754                   No  Two year              Yes   \n",
       "\n",
       "                  PaymentMethod MonthlyCharges  TotalCharges Churn  \n",
       "488   Bank transfer (automatic)          52.55                  No  \n",
       "753                Mailed check          20.25                  No  \n",
       "936                Mailed check          80.85                  No  \n",
       "1082               Mailed check          25.75                  No  \n",
       "1340    Credit card (automatic)          56.05                  No  \n",
       "3331               Mailed check          19.85                  No  \n",
       "3826               Mailed check          25.35                  No  \n",
       "4380               Mailed check          20.00                  No  \n",
       "5218               Mailed check          19.70                  No  \n",
       "6670               Mailed check          73.35                  No  \n",
       "6754  Bank transfer (automatic)          61.90                  No  \n",
       "\n",
       "[11 rows x 21 columns]"
      ]
     },
     "execution_count": 7,
     "metadata": {},
     "output_type": "execute_result"
    }
   ],
   "source": [
    "df.loc[df['TotalCharges']== ' ']"
   ]
  },
  {
   "cell_type": "code",
   "execution_count": 8,
   "id": "cd14b814",
   "metadata": {},
   "outputs": [],
   "source": [
    "df['TotalCharges']=df['TotalCharges'].replace(' ',np.nan)"
   ]
  },
  {
   "cell_type": "code",
   "execution_count": 9,
   "id": "774be5f3",
   "metadata": {},
   "outputs": [
    {
     "data": {
      "text/plain": [
       "customerID           0\n",
       "gender               0\n",
       "SeniorCitizen        0\n",
       "Partner              0\n",
       "Dependents           0\n",
       "tenure               0\n",
       "PhoneService         0\n",
       "MultipleLines        0\n",
       "InternetService      0\n",
       "OnlineSecurity       0\n",
       "OnlineBackup         0\n",
       "DeviceProtection     0\n",
       "TechSupport          0\n",
       "StreamingTV          0\n",
       "StreamingMovies      0\n",
       "Contract             0\n",
       "PaperlessBilling     0\n",
       "PaymentMethod        0\n",
       "MonthlyCharges       0\n",
       "TotalCharges        11\n",
       "Churn                0\n",
       "dtype: int64"
      ]
     },
     "execution_count": 9,
     "metadata": {},
     "output_type": "execute_result"
    }
   ],
   "source": [
    "df.isnull().sum()"
   ]
  },
  {
   "cell_type": "code",
   "execution_count": 10,
   "id": "af83ecd2",
   "metadata": {},
   "outputs": [],
   "source": [
    "df['TotalCharges']=df['TotalCharges'].astype(float)"
   ]
  },
  {
   "cell_type": "code",
   "execution_count": 11,
   "id": "a0c1560c",
   "metadata": {},
   "outputs": [],
   "source": [
    "df['TotalCharges']=df['TotalCharges'].fillna(np.mean(df['TotalCharges']))"
   ]
  },
  {
   "cell_type": "code",
   "execution_count": 12,
   "id": "0ac38b3b",
   "metadata": {},
   "outputs": [
    {
     "data": {
      "text/plain": [
       "customerID          0\n",
       "gender              0\n",
       "SeniorCitizen       0\n",
       "Partner             0\n",
       "Dependents          0\n",
       "tenure              0\n",
       "PhoneService        0\n",
       "MultipleLines       0\n",
       "InternetService     0\n",
       "OnlineSecurity      0\n",
       "OnlineBackup        0\n",
       "DeviceProtection    0\n",
       "TechSupport         0\n",
       "StreamingTV         0\n",
       "StreamingMovies     0\n",
       "Contract            0\n",
       "PaperlessBilling    0\n",
       "PaymentMethod       0\n",
       "MonthlyCharges      0\n",
       "TotalCharges        0\n",
       "Churn               0\n",
       "dtype: int64"
      ]
     },
     "execution_count": 12,
     "metadata": {},
     "output_type": "execute_result"
    }
   ],
   "source": [
    "df.isnull().sum()"
   ]
  },
  {
   "cell_type": "code",
   "execution_count": 13,
   "id": "cc863529",
   "metadata": {},
   "outputs": [
    {
     "data": {
      "text/plain": [
       "customerID           object\n",
       "gender               object\n",
       "SeniorCitizen         int64\n",
       "Partner              object\n",
       "Dependents           object\n",
       "tenure                int64\n",
       "PhoneService         object\n",
       "MultipleLines        object\n",
       "InternetService      object\n",
       "OnlineSecurity       object\n",
       "OnlineBackup         object\n",
       "DeviceProtection     object\n",
       "TechSupport          object\n",
       "StreamingTV          object\n",
       "StreamingMovies      object\n",
       "Contract             object\n",
       "PaperlessBilling     object\n",
       "PaymentMethod        object\n",
       "MonthlyCharges      float64\n",
       "TotalCharges        float64\n",
       "Churn                object\n",
       "dtype: object"
      ]
     },
     "execution_count": 13,
     "metadata": {},
     "output_type": "execute_result"
    }
   ],
   "source": [
    "df.dtypes"
   ]
  },
  {
   "cell_type": "code",
   "execution_count": 14,
   "id": "e90eb4d3",
   "metadata": {},
   "outputs": [],
   "source": [
    "df_visualisation_nominal=df[['gender','SeniorCitizen','Partner','Dependents','PhoneService','MultipleLines',\n",
    "                           'InternetService','OnlineSecurity','DeviceProtection','TechSupport','StreamingTV','StreamingMovies',\n",
    "                          'Contract','PaperlessBilling','PaymentMethod','Churn']].copy()"
   ]
  },
  {
   "cell_type": "code",
   "execution_count": 15,
   "id": "84faecca",
   "metadata": {},
   "outputs": [
    {
     "data": {
      "text/plain": [
       "Index(['gender', 'SeniorCitizen', 'Partner', 'Dependents', 'PhoneService',\n",
       "       'MultipleLines', 'InternetService', 'OnlineSecurity',\n",
       "       'DeviceProtection', 'TechSupport', 'StreamingTV', 'StreamingMovies',\n",
       "       'Contract', 'PaperlessBilling', 'PaymentMethod', 'Churn'],\n",
       "      dtype='object')"
      ]
     },
     "execution_count": 15,
     "metadata": {},
     "output_type": "execute_result"
    }
   ],
   "source": [
    "df_visualisation_nominal.columns"
   ]
  },
  {
   "cell_type": "markdown",
   "id": "c40a24d9",
   "metadata": {},
   "source": [
    "# Visualisation of data"
   ]
  },
  {
   "cell_type": "markdown",
   "id": "64cdc6d1",
   "metadata": {},
   "source": [
    "for nominal catagorical data using coountplot to as it will give frequency of the classes in the columns"
   ]
  },
  {
   "cell_type": "code",
   "execution_count": 16,
   "id": "483416ac",
   "metadata": {},
   "outputs": [],
   "source": [
    "import seaborn as sns"
   ]
  },
  {
   "cell_type": "code",
   "execution_count": 17,
   "id": "07cabac2",
   "metadata": {},
   "outputs": [
    {
     "name": "stdout",
     "output_type": "stream",
     "text": [
      "Male      3555\n",
      "Female    3488\n",
      "Name: gender, dtype: int64\n"
     ]
    },
    {
     "data": {
      "image/png": "[encoded data removed]",
      "text/plain": [
       "<Figure size 432x288 with 1 Axes>"
      ]
     },
     "metadata": {
      "needs_background": "light"
     },
     "output_type": "display_data"
    }
   ],
   "source": [
    "ax = sns.countplot(x='gender',data=df_visualisation_nominal)\n",
    "print(df_visualisation_nominal['gender'].value_counts())"
   ]
  },
  {
   "cell_type": "code",
   "execution_count": 18,
   "id": "1dd978ee",
   "metadata": {},
   "outputs": [
    {
     "name": "stdout",
     "output_type": "stream",
     "text": [
      "0    5901\n",
      "1    1142\n",
      "Name: SeniorCitizen, dtype: int64\n"
     ]
    },
    {
     "data": {
      "image/png": "[encoded data removed]",
      "text/plain": [
       "<Figure size 432x288 with 1 Axes>"
      ]
     },
     "metadata": {
      "needs_background": "light"
     },
     "output_type": "display_data"
    }
   ],
   "source": [
    "ax = sns.countplot(x='SeniorCitizen',data=df_visualisation_nominal)\n",
    "print(df_visualisation_nominal['SeniorCitizen'].value_counts())"
   ]
  },
  {
   "cell_type": "markdown",
   "id": "f052f5c9",
   "metadata": {},
   "source": [
    "seniorcitizen=0=5901\n",
    "youngcitizen=1=1142"
   ]
  },
  {
   "cell_type": "code",
   "execution_count": 19,
   "id": "7da7cc17",
   "metadata": {},
   "outputs": [
    {
     "name": "stdout",
     "output_type": "stream",
     "text": [
      "0    5901\n",
      "1    1142\n",
      "Name: SeniorCitizen, dtype: int64\n"
     ]
    },
    {
     "data": {
      "image/png": "[encoded data removed]",
      "text/plain": [
       "<Figure size 432x288 with 1 Axes>"
      ]
     },
     "metadata": {
      "needs_background": "light"
     },
     "output_type": "display_data"
    }
   ],
   "source": [
    "ax = sns.countplot(x='SeniorCitizen',data=df_visualisation_nominal)\n",
    "print(df_visualisation_nominal['SeniorCitizen'].value_counts())"
   ]
  },
  {
   "cell_type": "code",
   "execution_count": 20,
   "id": "54876d24",
   "metadata": {},
   "outputs": [
    {
     "name": "stdout",
     "output_type": "stream",
     "text": [
      "No     3641\n",
      "Yes    3402\n",
      "Name: Partner, dtype: int64\n"
     ]
    },
    {
     "data": {
      "image/png": "[encoded data removed]",
      "text/plain": [
       "<Figure size 432x288 with 1 Axes>"
      ]
     },
     "metadata": {
      "needs_background": "light"
     },
     "output_type": "display_data"
    }
   ],
   "source": [
    "ax = sns.countplot(x='Partner',data=df_visualisation_nominal)\n",
    "print(df_visualisation_nominal['Partner'].value_counts())"
   ]
  },
  {
   "cell_type": "code",
   "execution_count": 21,
   "id": "2b3584d8",
   "metadata": {},
   "outputs": [
    {
     "name": "stdout",
     "output_type": "stream",
     "text": [
      "No     4933\n",
      "Yes    2110\n",
      "Name: Dependents, dtype: int64\n"
     ]
    },
    {
     "data": {
      "image/png": "[encoded data removed]",
      "text/plain": [
       "<Figure size 432x288 with 1 Axes>"
      ]
     },
     "metadata": {
      "needs_background": "light"
     },
     "output_type": "display_data"
    }
   ],
   "source": [
    "ax = sns.countplot(x='Dependents',data=df_visualisation_nominal)\n",
    "print(df_visualisation_nominal['Dependents'].value_counts())"
   ]
  },
  {
   "cell_type": "code",
   "execution_count": 22,
   "id": "4530a0f7",
   "metadata": {},
   "outputs": [
    {
     "name": "stdout",
     "output_type": "stream",
     "text": [
      "Yes    6361\n",
      "No      682\n",
      "Name: PhoneService, dtype: int64\n"
     ]
    },
    {
     "data": {
      "image/png": "[encoded data removed]",
      "text/plain": [
       "<Figure size 432x288 with 1 Axes>"
      ]
     },
     "metadata": {
      "needs_background": "light"
     },
     "output_type": "display_data"
    }
   ],
   "source": [
    "ax = sns.countplot(x='PhoneService',data=df_visualisation_nominal)\n",
    "print(df_visualisation_nominal['PhoneService'].value_counts())"
   ]
  },
  {
   "cell_type": "code",
   "execution_count": 23,
   "id": "efb98ffd",
   "metadata": {},
   "outputs": [
    {
     "name": "stdout",
     "output_type": "stream",
     "text": [
      "No                  3390\n",
      "Yes                 2971\n",
      "No phone service     682\n",
      "Name: MultipleLines, dtype: int64\n"
     ]
    },
    {
     "data": {
      "image/png": "[encoded data removed]",
      "text/plain": [
       "<Figure size 432x288 with 1 Axes>"
      ]
     },
     "metadata": {
      "needs_background": "light"
     },
     "output_type": "display_data"
    }
   ],
   "source": [
    "ax = sns.countplot(x='MultipleLines',data=df_visualisation_nominal)\n",
    "print(df_visualisation_nominal['MultipleLines'].value_counts())"
   ]
  },
  {
   "cell_type": "code",
   "execution_count": 24,
   "id": "f73e243c",
   "metadata": {},
   "outputs": [
    {
     "name": "stdout",
     "output_type": "stream",
     "text": [
      "Fiber optic    3096\n",
      "DSL            2421\n",
      "No             1526\n",
      "Name: InternetService, dtype: int64\n"
     ]
    },
    {
     "data": {
      "image/png": "[encoded data removed]",
      "text/plain": [
       "<Figure size 432x288 with 1 Axes>"
      ]
     },
     "metadata": {
      "needs_background": "light"
     },
     "output_type": "display_data"
    }
   ],
   "source": [
    "ax = sns.countplot(x='InternetService',data=df_visualisation_nominal)\n",
    "print(df_visualisation_nominal['InternetService'].value_counts())\n"
   ]
  },
  {
   "cell_type": "code",
   "execution_count": 25,
   "id": "14f88608",
   "metadata": {},
   "outputs": [
    {
     "name": "stdout",
     "output_type": "stream",
     "text": [
      "No                     3498\n",
      "Yes                    2019\n",
      "No internet service    1526\n",
      "Name: OnlineSecurity, dtype: int64\n"
     ]
    },
    {
     "data": {
      "image/png": "[encoded data removed]",
      "text/plain": [
       "<Figure size 432x288 with 1 Axes>"
      ]
     },
     "metadata": {
      "needs_background": "light"
     },
     "output_type": "display_data"
    }
   ],
   "source": [
    "ax = sns.countplot(x='OnlineSecurity',data=df_visualisation_nominal)\n",
    "print(df_visualisation_nominal['OnlineSecurity'].value_counts())\n"
   ]
  },
  {
   "cell_type": "code",
   "execution_count": 26,
   "id": "2bdd8726",
   "metadata": {},
   "outputs": [
    {
     "name": "stdout",
     "output_type": "stream",
     "text": [
      "No                     3095\n",
      "Yes                    2422\n",
      "No internet service    1526\n",
      "Name: DeviceProtection, dtype: int64\n"
     ]
    },
    {
     "data": {
      "image/png": "[encoded data removed]",
      "text/plain": [
       "<Figure size 432x288 with 1 Axes>"
      ]
     },
     "metadata": {
      "needs_background": "light"
     },
     "output_type": "display_data"
    }
   ],
   "source": [
    "ax = sns.countplot(x='DeviceProtection',data=df_visualisation_nominal)\n",
    "print(df_visualisation_nominal['DeviceProtection'].value_counts())"
   ]
  },
  {
   "cell_type": "code",
   "execution_count": 27,
   "id": "95d58d34",
   "metadata": {},
   "outputs": [
    {
     "name": "stdout",
     "output_type": "stream",
     "text": [
      "No                     3473\n",
      "Yes                    2044\n",
      "No internet service    1526\n",
      "Name: TechSupport, dtype: int64\n"
     ]
    },
    {
     "data": {
      "image/png": "[encoded data removed]",
      "text/plain": [
       "<Figure size 432x288 with 1 Axes>"
      ]
     },
     "metadata": {
      "needs_background": "light"
     },
     "output_type": "display_data"
    }
   ],
   "source": [
    "ax = sns.countplot(x='TechSupport',data=df_visualisation_nominal)\n",
    "print(df_visualisation_nominal['TechSupport'].value_counts())"
   ]
  },
  {
   "cell_type": "code",
   "execution_count": 28,
   "id": "d41cf86f",
   "metadata": {},
   "outputs": [
    {
     "name": "stdout",
     "output_type": "stream",
     "text": [
      "No                     2810\n",
      "Yes                    2707\n",
      "No internet service    1526\n",
      "Name: StreamingTV, dtype: int64\n"
     ]
    },
    {
     "data": {
      "image/png": "[encoded data removed]",
      "text/plain": [
       "<Figure size 432x288 with 1 Axes>"
      ]
     },
     "metadata": {
      "needs_background": "light"
     },
     "output_type": "display_data"
    }
   ],
   "source": [
    "ax = sns.countplot(x='StreamingTV',data=df_visualisation_nominal)\n",
    "print(df_visualisation_nominal['StreamingTV'].value_counts())"
   ]
  },
  {
   "cell_type": "code",
   "execution_count": 29,
   "id": "450fd26e",
   "metadata": {},
   "outputs": [
    {
     "name": "stdout",
     "output_type": "stream",
     "text": [
      "No                     2785\n",
      "Yes                    2732\n",
      "No internet service    1526\n",
      "Name: StreamingMovies, dtype: int64\n"
     ]
    },
    {
     "data": {
      "image/png": "[encoded data removed]",
      "text/plain": [
       "<Figure size 432x288 with 1 Axes>"
      ]
     },
     "metadata": {
      "needs_background": "light"
     },
     "output_type": "display_data"
    }
   ],
   "source": [
    "ax = sns.countplot(x='StreamingMovies',data=df_visualisation_nominal)\n",
    "print(df_visualisation_nominal['StreamingMovies'].value_counts())"
   ]
  },
  {
   "cell_type": "code",
   "execution_count": 30,
   "id": "7521b613",
   "metadata": {},
   "outputs": [
    {
     "name": "stdout",
     "output_type": "stream",
     "text": [
      "Month-to-month    3875\n",
      "Two year          1695\n",
      "One year          1473\n",
      "Name: Contract, dtype: int64\n"
     ]
    },
    {
     "data": {
      "image/png": "[encoded data removed]",
      "text/plain": [
       "<Figure size 432x288 with 1 Axes>"
      ]
     },
     "metadata": {
      "needs_background": "light"
     },
     "output_type": "display_data"
    }
   ],
   "source": [
    "ax = sns.countplot(x='Contract',data=df_visualisation_nominal)\n",
    "print(df_visualisation_nominal['Contract'].value_counts())"
   ]
  },
  {
   "cell_type": "code",
   "execution_count": 31,
   "id": "62061757",
   "metadata": {},
   "outputs": [
    {
     "name": "stdout",
     "output_type": "stream",
     "text": [
      "Yes    4171\n",
      "No     2872\n",
      "Name: PaperlessBilling, dtype: int64\n"
     ]
    },
    {
     "data": {
      "image/png": "[encoded data removed]",
      "text/plain": [
       "<Figure size 432x288 with 1 Axes>"
      ]
     },
     "metadata": {
      "needs_background": "light"
     },
     "output_type": "display_data"
    }
   ],
   "source": [
    "ax = sns.countplot(x='PaperlessBilling',data=df_visualisation_nominal)\n",
    "print(df_visualisation_nominal['PaperlessBilling'].value_counts())"
   ]
  },
  {
   "cell_type": "code",
   "execution_count": 32,
   "id": "3e0e4f90",
   "metadata": {},
   "outputs": [
    {
     "name": "stdout",
     "output_type": "stream",
     "text": [
      "Electronic check             2365\n",
      "Mailed check                 1612\n",
      "Bank transfer (automatic)    1544\n",
      "Credit card (automatic)      1522\n",
      "Name: PaymentMethod, dtype: int64\n"
     ]
    },
    {
     "data": {
      "image/png": "[encoded data removed]",
      "text/plain": [
       "<Figure size 432x288 with 1 Axes>"
      ]
     },
     "metadata": {
      "needs_background": "light"
     },
     "output_type": "display_data"
    }
   ],
   "source": [
    "ax = sns.countplot(x='PaymentMethod',data=df_visualisation_nominal)\n",
    "print(df_visualisation_nominal['PaymentMethod'].value_counts())"
   ]
  },
  {
   "cell_type": "code",
   "execution_count": 33,
   "id": "4cb591cc",
   "metadata": {},
   "outputs": [
    {
     "name": "stdout",
     "output_type": "stream",
     "text": [
      "No     5174\n",
      "Yes    1869\n",
      "Name: Churn, dtype: int64\n"
     ]
    },
    {
     "data": {
      "image/png": "[encoded data removed]",
      "text/plain": [
       "<Figure size 432x288 with 1 Axes>"
      ]
     },
     "metadata": {
      "needs_background": "light"
     },
     "output_type": "display_data"
    }
   ],
   "source": [
    "ax = sns.countplot(x='Churn',data=df_visualisation_nominal)\n",
    "print(df_visualisation_nominal['Churn'].value_counts())"
   ]
  },
  {
   "cell_type": "markdown",
   "id": "d1b83ed8",
   "metadata": {},
   "source": [
    "# Making dataframe of ordinal data"
   ]
  },
  {
   "cell_type": "code",
   "execution_count": 34,
   "id": "f6774193",
   "metadata": {},
   "outputs": [],
   "source": [
    "df_visualisation_ordinal=df[['customerID','tenure']].copy()"
   ]
  },
  {
   "cell_type": "markdown",
   "id": "a55c00bc",
   "metadata": {},
   "source": [
    "# checking the distribution of the continuous data of float type columns"
   ]
  },
  {
   "cell_type": "code",
   "execution_count": 35,
   "id": "14629676",
   "metadata": {},
   "outputs": [],
   "source": [
    "df_visualisation_continuous=df[['MonthlyCharges','TotalCharges']].copy()"
   ]
  },
  {
   "cell_type": "code",
   "execution_count": 36,
   "id": "6ab3ff93",
   "metadata": {},
   "outputs": [
    {
     "name": "stderr",
     "output_type": "stream",
     "text": [
      "C:\\ProgramData\\Anaconda3\\lib\\site-packages\\seaborn\\distributions.py:2619: FutureWarning: `distplot` is a deprecated function and will be removed in a future version. Please adapt your code to use either `displot` (a figure-level function with similar flexibility) or `histplot` (an axes-level function for histograms).\n",
      "  warnings.warn(msg, FutureWarning)\n"
     ]
    },
    {
     "data": {
      "text/plain": [
       "<AxesSubplot:xlabel='MonthlyCharges', ylabel='Density'>"
      ]
     },
     "execution_count": 36,
     "metadata": {},
     "output_type": "execute_result"
    },
    {
     "data": {
      "image/png": "[encoded data removed]",
      "text/plain": [
       "<Figure size 432x288 with 1 Axes>"
      ]
     },
     "metadata": {
      "needs_background": "light"
     },
     "output_type": "display_data"
    }
   ],
   "source": [
    "import seaborn as sns\n",
    "sns.distplot(df_visualisation_continuous['MonthlyCharges'],kde= True)"
   ]
  },
  {
   "cell_type": "code",
   "execution_count": null,
   "id": "8b3a38e4",
   "metadata": {},
   "outputs": [],
   "source": []
  },
  {
   "cell_type": "markdown",
   "id": "df39f872",
   "metadata": {},
   "source": [
    "since data has alot of strings values,using encoding technique to convert strings into nnumerical values"
   ]
  },
  {
   "cell_type": "markdown",
   "id": "db93c428",
   "metadata": {},
   "source": [
    "# Encoding the Dataframe "
   ]
  },
  {
   "cell_type": "code",
   "execution_count": 37,
   "id": "ccbfb8a5",
   "metadata": {},
   "outputs": [],
   "source": [
    "from sklearn.preprocessing import OrdinalEncoder"
   ]
  },
  {
   "cell_type": "code",
   "execution_count": 38,
   "id": "38245612",
   "metadata": {},
   "outputs": [],
   "source": [
    "enc=OrdinalEncoder()"
   ]
  },
  {
   "cell_type": "code",
   "execution_count": 39,
   "id": "bfbeae18",
   "metadata": {},
   "outputs": [],
   "source": [
    "for i in df.columns:\n",
    "    if df[i].dtypes=='object':\n",
    "        df[i]=enc.fit_transform(df[i].values.reshape(-1,1))"
   ]
  },
  {
   "cell_type": "code",
   "execution_count": 40,
   "id": "e23d114f",
   "metadata": {},
   "outputs": [
    {
     "data": {
      "text/html": [
       "<div>\n",
       "<style scoped>\n",
       "    .dataframe tbody tr th:only-of-type {\n",
       "        vertical-align: middle;\n",
       "    }\n",
       "\n",
       "    .dataframe tbody tr th {\n",
       "        vertical-align: top;\n",
       "    }\n",
       "\n",
       "    .dataframe thead th {\n",
       "        text-align: right;\n",
       "    }\n",
       "</style>\n",
       "<table border=\"1\" class=\"dataframe\">\n",
       "  <thead>\n",
       "    <tr style=\"text-align: right;\">\n",
       "      <th></th>\n",
       "      <th>customerID</th>\n",
       "      <th>gender</th>\n",
       "      <th>SeniorCitizen</th>\n",
       "      <th>Partner</th>\n",
       "      <th>Dependents</th>\n",
       "      <th>tenure</th>\n",
       "      <th>PhoneService</th>\n",
       "      <th>MultipleLines</th>\n",
       "      <th>InternetService</th>\n",
       "      <th>OnlineSecurity</th>\n",
       "      <th>...</th>\n",
       "      <th>DeviceProtection</th>\n",
       "      <th>TechSupport</th>\n",
       "      <th>StreamingTV</th>\n",
       "      <th>StreamingMovies</th>\n",
       "      <th>Contract</th>\n",
       "      <th>PaperlessBilling</th>\n",
       "      <th>PaymentMethod</th>\n",
       "      <th>MonthlyCharges</th>\n",
       "      <th>TotalCharges</th>\n",
       "      <th>Churn</th>\n",
       "    </tr>\n",
       "  </thead>\n",
       "  <tbody>\n",
       "    <tr>\n",
       "      <th>0</th>\n",
       "      <td>5375.0</td>\n",
       "      <td>0.0</td>\n",
       "      <td>0</td>\n",
       "      <td>1.0</td>\n",
       "      <td>0.0</td>\n",
       "      <td>1</td>\n",
       "      <td>0.0</td>\n",
       "      <td>1.0</td>\n",
       "      <td>0.0</td>\n",
       "      <td>0.0</td>\n",
       "      <td>...</td>\n",
       "      <td>0.0</td>\n",
       "      <td>0.0</td>\n",
       "      <td>0.0</td>\n",
       "      <td>0.0</td>\n",
       "      <td>0.0</td>\n",
       "      <td>1.0</td>\n",
       "      <td>2.0</td>\n",
       "      <td>29.85</td>\n",
       "      <td>29.85</td>\n",
       "      <td>0.0</td>\n",
       "    </tr>\n",
       "    <tr>\n",
       "      <th>1</th>\n",
       "      <td>3962.0</td>\n",
       "      <td>1.0</td>\n",
       "      <td>0</td>\n",
       "      <td>0.0</td>\n",
       "      <td>0.0</td>\n",
       "      <td>34</td>\n",
       "      <td>1.0</td>\n",
       "      <td>0.0</td>\n",
       "      <td>0.0</td>\n",
       "      <td>2.0</td>\n",
       "      <td>...</td>\n",
       "      <td>2.0</td>\n",
       "      <td>0.0</td>\n",
       "      <td>0.0</td>\n",
       "      <td>0.0</td>\n",
       "      <td>1.0</td>\n",
       "      <td>0.0</td>\n",
       "      <td>3.0</td>\n",
       "      <td>56.95</td>\n",
       "      <td>1889.50</td>\n",
       "      <td>0.0</td>\n",
       "    </tr>\n",
       "    <tr>\n",
       "      <th>2</th>\n",
       "      <td>2564.0</td>\n",
       "      <td>1.0</td>\n",
       "      <td>0</td>\n",
       "      <td>0.0</td>\n",
       "      <td>0.0</td>\n",
       "      <td>2</td>\n",
       "      <td>1.0</td>\n",
       "      <td>0.0</td>\n",
       "      <td>0.0</td>\n",
       "      <td>2.0</td>\n",
       "      <td>...</td>\n",
       "      <td>0.0</td>\n",
       "      <td>0.0</td>\n",
       "      <td>0.0</td>\n",
       "      <td>0.0</td>\n",
       "      <td>0.0</td>\n",
       "      <td>1.0</td>\n",
       "      <td>3.0</td>\n",
       "      <td>53.85</td>\n",
       "      <td>108.15</td>\n",
       "      <td>1.0</td>\n",
       "    </tr>\n",
       "    <tr>\n",
       "      <th>3</th>\n",
       "      <td>5535.0</td>\n",
       "      <td>1.0</td>\n",
       "      <td>0</td>\n",
       "      <td>0.0</td>\n",
       "      <td>0.0</td>\n",
       "      <td>45</td>\n",
       "      <td>0.0</td>\n",
       "      <td>1.0</td>\n",
       "      <td>0.0</td>\n",
       "      <td>2.0</td>\n",
       "      <td>...</td>\n",
       "      <td>2.0</td>\n",
       "      <td>2.0</td>\n",
       "      <td>0.0</td>\n",
       "      <td>0.0</td>\n",
       "      <td>1.0</td>\n",
       "      <td>0.0</td>\n",
       "      <td>0.0</td>\n",
       "      <td>42.30</td>\n",
       "      <td>1840.75</td>\n",
       "      <td>0.0</td>\n",
       "    </tr>\n",
       "    <tr>\n",
       "      <th>4</th>\n",
       "      <td>6511.0</td>\n",
       "      <td>0.0</td>\n",
       "      <td>0</td>\n",
       "      <td>0.0</td>\n",
       "      <td>0.0</td>\n",
       "      <td>2</td>\n",
       "      <td>1.0</td>\n",
       "      <td>0.0</td>\n",
       "      <td>1.0</td>\n",
       "      <td>0.0</td>\n",
       "      <td>...</td>\n",
       "      <td>0.0</td>\n",
       "      <td>0.0</td>\n",
       "      <td>0.0</td>\n",
       "      <td>0.0</td>\n",
       "      <td>0.0</td>\n",
       "      <td>1.0</td>\n",
       "      <td>2.0</td>\n",
       "      <td>70.70</td>\n",
       "      <td>151.65</td>\n",
       "      <td>1.0</td>\n",
       "    </tr>\n",
       "    <tr>\n",
       "      <th>...</th>\n",
       "      <td>...</td>\n",
       "      <td>...</td>\n",
       "      <td>...</td>\n",
       "      <td>...</td>\n",
       "      <td>...</td>\n",
       "      <td>...</td>\n",
       "      <td>...</td>\n",
       "      <td>...</td>\n",
       "      <td>...</td>\n",
       "      <td>...</td>\n",
       "      <td>...</td>\n",
       "      <td>...</td>\n",
       "      <td>...</td>\n",
       "      <td>...</td>\n",
       "      <td>...</td>\n",
       "      <td>...</td>\n",
       "      <td>...</td>\n",
       "      <td>...</td>\n",
       "      <td>...</td>\n",
       "      <td>...</td>\n",
       "      <td>...</td>\n",
       "    </tr>\n",
       "    <tr>\n",
       "      <th>7038</th>\n",
       "      <td>4853.0</td>\n",
       "      <td>1.0</td>\n",
       "      <td>0</td>\n",
       "      <td>1.0</td>\n",
       "      <td>1.0</td>\n",
       "      <td>24</td>\n",
       "      <td>1.0</td>\n",
       "      <td>2.0</td>\n",
       "      <td>0.0</td>\n",
       "      <td>2.0</td>\n",
       "      <td>...</td>\n",
       "      <td>2.0</td>\n",
       "      <td>2.0</td>\n",
       "      <td>2.0</td>\n",
       "      <td>2.0</td>\n",
       "      <td>1.0</td>\n",
       "      <td>1.0</td>\n",
       "      <td>3.0</td>\n",
       "      <td>84.80</td>\n",
       "      <td>1990.50</td>\n",
       "      <td>0.0</td>\n",
       "    </tr>\n",
       "    <tr>\n",
       "      <th>7039</th>\n",
       "      <td>1525.0</td>\n",
       "      <td>0.0</td>\n",
       "      <td>0</td>\n",
       "      <td>1.0</td>\n",
       "      <td>1.0</td>\n",
       "      <td>72</td>\n",
       "      <td>1.0</td>\n",
       "      <td>2.0</td>\n",
       "      <td>1.0</td>\n",
       "      <td>0.0</td>\n",
       "      <td>...</td>\n",
       "      <td>2.0</td>\n",
       "      <td>0.0</td>\n",
       "      <td>2.0</td>\n",
       "      <td>2.0</td>\n",
       "      <td>1.0</td>\n",
       "      <td>1.0</td>\n",
       "      <td>1.0</td>\n",
       "      <td>103.20</td>\n",
       "      <td>7362.90</td>\n",
       "      <td>0.0</td>\n",
       "    </tr>\n",
       "    <tr>\n",
       "      <th>7040</th>\n",
       "      <td>3367.0</td>\n",
       "      <td>0.0</td>\n",
       "      <td>0</td>\n",
       "      <td>1.0</td>\n",
       "      <td>1.0</td>\n",
       "      <td>11</td>\n",
       "      <td>0.0</td>\n",
       "      <td>1.0</td>\n",
       "      <td>0.0</td>\n",
       "      <td>2.0</td>\n",
       "      <td>...</td>\n",
       "      <td>0.0</td>\n",
       "      <td>0.0</td>\n",
       "      <td>0.0</td>\n",
       "      <td>0.0</td>\n",
       "      <td>0.0</td>\n",
       "      <td>1.0</td>\n",
       "      <td>2.0</td>\n",
       "      <td>29.60</td>\n",
       "      <td>346.45</td>\n",
       "      <td>0.0</td>\n",
       "    </tr>\n",
       "    <tr>\n",
       "      <th>7041</th>\n",
       "      <td>5934.0</td>\n",
       "      <td>1.0</td>\n",
       "      <td>1</td>\n",
       "      <td>1.0</td>\n",
       "      <td>0.0</td>\n",
       "      <td>4</td>\n",
       "      <td>1.0</td>\n",
       "      <td>2.0</td>\n",
       "      <td>1.0</td>\n",
       "      <td>0.0</td>\n",
       "      <td>...</td>\n",
       "      <td>0.0</td>\n",
       "      <td>0.0</td>\n",
       "      <td>0.0</td>\n",
       "      <td>0.0</td>\n",
       "      <td>0.0</td>\n",
       "      <td>1.0</td>\n",
       "      <td>3.0</td>\n",
       "      <td>74.40</td>\n",
       "      <td>306.60</td>\n",
       "      <td>1.0</td>\n",
       "    </tr>\n",
       "    <tr>\n",
       "      <th>7042</th>\n",
       "      <td>2226.0</td>\n",
       "      <td>1.0</td>\n",
       "      <td>0</td>\n",
       "      <td>0.0</td>\n",
       "      <td>0.0</td>\n",
       "      <td>66</td>\n",
       "      <td>1.0</td>\n",
       "      <td>0.0</td>\n",
       "      <td>1.0</td>\n",
       "      <td>2.0</td>\n",
       "      <td>...</td>\n",
       "      <td>2.0</td>\n",
       "      <td>2.0</td>\n",
       "      <td>2.0</td>\n",
       "      <td>2.0</td>\n",
       "      <td>2.0</td>\n",
       "      <td>1.0</td>\n",
       "      <td>0.0</td>\n",
       "      <td>105.65</td>\n",
       "      <td>6844.50</td>\n",
       "      <td>0.0</td>\n",
       "    </tr>\n",
       "  </tbody>\n",
       "</table>\n",
       "<p>7043 rows × 21 columns</p>\n",
       "</div>"
      ],
      "text/plain": [
       "      customerID  gender  SeniorCitizen  Partner  Dependents  tenure  \\\n",
       "0         5375.0     0.0              0      1.0         0.0       1   \n",
       "1         3962.0     1.0              0      0.0         0.0      34   \n",
       "2         2564.0     1.0              0      0.0         0.0       2   \n",
       "3         5535.0     1.0              0      0.0         0.0      45   \n",
       "4         6511.0     0.0              0      0.0         0.0       2   \n",
       "...          ...     ...            ...      ...         ...     ...   \n",
       "7038      4853.0     1.0              0      1.0         1.0      24   \n",
       "7039      1525.0     0.0              0      1.0         1.0      72   \n",
       "7040      3367.0     0.0              0      1.0         1.0      11   \n",
       "7041      5934.0     1.0              1      1.0         0.0       4   \n",
       "7042      2226.0     1.0              0      0.0         0.0      66   \n",
       "\n",
       "      PhoneService  MultipleLines  InternetService  OnlineSecurity  ...  \\\n",
       "0              0.0            1.0              0.0             0.0  ...   \n",
       "1              1.0            0.0              0.0             2.0  ...   \n",
       "2              1.0            0.0              0.0             2.0  ...   \n",
       "3              0.0            1.0              0.0             2.0  ...   \n",
       "4              1.0            0.0              1.0             0.0  ...   \n",
       "...            ...            ...              ...             ...  ...   \n",
       "7038           1.0            2.0              0.0             2.0  ...   \n",
       "7039           1.0            2.0              1.0             0.0  ...   \n",
       "7040           0.0            1.0              0.0             2.0  ...   \n",
       "7041           1.0            2.0              1.0             0.0  ...   \n",
       "7042           1.0            0.0              1.0             2.0  ...   \n",
       "\n",
       "      DeviceProtection  TechSupport  StreamingTV  StreamingMovies  Contract  \\\n",
       "0                  0.0          0.0          0.0              0.0       0.0   \n",
       "1                  2.0          0.0          0.0              0.0       1.0   \n",
       "2                  0.0          0.0          0.0              0.0       0.0   \n",
       "3                  2.0          2.0          0.0              0.0       1.0   \n",
       "4                  0.0          0.0          0.0              0.0       0.0   \n",
       "...                ...          ...          ...              ...       ...   \n",
       "7038               2.0          2.0          2.0              2.0       1.0   \n",
       "7039               2.0          0.0          2.0              2.0       1.0   \n",
       "7040               0.0          0.0          0.0              0.0       0.0   \n",
       "7041               0.0          0.0          0.0              0.0       0.0   \n",
       "7042               2.0          2.0          2.0              2.0       2.0   \n",
       "\n",
       "      PaperlessBilling  PaymentMethod  MonthlyCharges  TotalCharges  Churn  \n",
       "0                  1.0            2.0           29.85         29.85    0.0  \n",
       "1                  0.0            3.0           56.95       1889.50    0.0  \n",
       "2                  1.0            3.0           53.85        108.15    1.0  \n",
       "3                  0.0            0.0           42.30       1840.75    0.0  \n",
       "4                  1.0            2.0           70.70        151.65    1.0  \n",
       "...                ...            ...             ...           ...    ...  \n",
       "7038               1.0            3.0           84.80       1990.50    0.0  \n",
       "7039               1.0            1.0          103.20       7362.90    0.0  \n",
       "7040               1.0            2.0           29.60        346.45    0.0  \n",
       "7041               1.0            3.0           74.40        306.60    1.0  \n",
       "7042               1.0            0.0          105.65       6844.50    0.0  \n",
       "\n",
       "[7043 rows x 21 columns]"
      ]
     },
     "execution_count": 40,
     "metadata": {},
     "output_type": "execute_result"
    }
   ],
   "source": [
    "df"
   ]
  },
  {
   "cell_type": "code",
   "execution_count": 41,
   "id": "288e2370",
   "metadata": {},
   "outputs": [
    {
     "data": {
      "text/html": [
       "<div>\n",
       "<style scoped>\n",
       "    .dataframe tbody tr th:only-of-type {\n",
       "        vertical-align: middle;\n",
       "    }\n",
       "\n",
       "    .dataframe tbody tr th {\n",
       "        vertical-align: top;\n",
       "    }\n",
       "\n",
       "    .dataframe thead th {\n",
       "        text-align: right;\n",
       "    }\n",
       "</style>\n",
       "<table border=\"1\" class=\"dataframe\">\n",
       "  <thead>\n",
       "    <tr style=\"text-align: right;\">\n",
       "      <th></th>\n",
       "      <th>customerID</th>\n",
       "      <th>gender</th>\n",
       "      <th>SeniorCitizen</th>\n",
       "      <th>Partner</th>\n",
       "      <th>Dependents</th>\n",
       "      <th>tenure</th>\n",
       "      <th>PhoneService</th>\n",
       "      <th>MultipleLines</th>\n",
       "      <th>InternetService</th>\n",
       "      <th>OnlineSecurity</th>\n",
       "      <th>...</th>\n",
       "      <th>DeviceProtection</th>\n",
       "      <th>TechSupport</th>\n",
       "      <th>StreamingTV</th>\n",
       "      <th>StreamingMovies</th>\n",
       "      <th>Contract</th>\n",
       "      <th>PaperlessBilling</th>\n",
       "      <th>PaymentMethod</th>\n",
       "      <th>MonthlyCharges</th>\n",
       "      <th>TotalCharges</th>\n",
       "      <th>Churn</th>\n",
       "    </tr>\n",
       "  </thead>\n",
       "  <tbody>\n",
       "    <tr>\n",
       "      <th>count</th>\n",
       "      <td>7043.000000</td>\n",
       "      <td>7043.000000</td>\n",
       "      <td>7043.000000</td>\n",
       "      <td>7043.000000</td>\n",
       "      <td>7043.000000</td>\n",
       "      <td>7043.000000</td>\n",
       "      <td>7043.000000</td>\n",
       "      <td>7043.000000</td>\n",
       "      <td>7043.000000</td>\n",
       "      <td>7043.000000</td>\n",
       "      <td>...</td>\n",
       "      <td>7043.000000</td>\n",
       "      <td>7043.000000</td>\n",
       "      <td>7043.000000</td>\n",
       "      <td>7043.000000</td>\n",
       "      <td>7043.000000</td>\n",
       "      <td>7043.000000</td>\n",
       "      <td>7043.000000</td>\n",
       "      <td>7043.000000</td>\n",
       "      <td>7043.000000</td>\n",
       "      <td>7043.000000</td>\n",
       "    </tr>\n",
       "    <tr>\n",
       "      <th>mean</th>\n",
       "      <td>3521.000000</td>\n",
       "      <td>0.504756</td>\n",
       "      <td>0.162147</td>\n",
       "      <td>0.483033</td>\n",
       "      <td>0.299588</td>\n",
       "      <td>32.371149</td>\n",
       "      <td>0.903166</td>\n",
       "      <td>0.940508</td>\n",
       "      <td>0.872923</td>\n",
       "      <td>0.790004</td>\n",
       "      <td>...</td>\n",
       "      <td>0.904444</td>\n",
       "      <td>0.797104</td>\n",
       "      <td>0.985376</td>\n",
       "      <td>0.992475</td>\n",
       "      <td>0.690473</td>\n",
       "      <td>0.592219</td>\n",
       "      <td>1.574329</td>\n",
       "      <td>64.761692</td>\n",
       "      <td>2283.300441</td>\n",
       "      <td>0.265370</td>\n",
       "    </tr>\n",
       "    <tr>\n",
       "      <th>std</th>\n",
       "      <td>2033.283305</td>\n",
       "      <td>0.500013</td>\n",
       "      <td>0.368612</td>\n",
       "      <td>0.499748</td>\n",
       "      <td>0.458110</td>\n",
       "      <td>24.559481</td>\n",
       "      <td>0.295752</td>\n",
       "      <td>0.948554</td>\n",
       "      <td>0.737796</td>\n",
       "      <td>0.859848</td>\n",
       "      <td>...</td>\n",
       "      <td>0.879949</td>\n",
       "      <td>0.861551</td>\n",
       "      <td>0.885002</td>\n",
       "      <td>0.885091</td>\n",
       "      <td>0.833755</td>\n",
       "      <td>0.491457</td>\n",
       "      <td>1.068104</td>\n",
       "      <td>30.090047</td>\n",
       "      <td>2265.000258</td>\n",
       "      <td>0.441561</td>\n",
       "    </tr>\n",
       "    <tr>\n",
       "      <th>min</th>\n",
       "      <td>0.000000</td>\n",
       "      <td>0.000000</td>\n",
       "      <td>0.000000</td>\n",
       "      <td>0.000000</td>\n",
       "      <td>0.000000</td>\n",
       "      <td>0.000000</td>\n",
       "      <td>0.000000</td>\n",
       "      <td>0.000000</td>\n",
       "      <td>0.000000</td>\n",
       "      <td>0.000000</td>\n",
       "      <td>...</td>\n",
       "      <td>0.000000</td>\n",
       "      <td>0.000000</td>\n",
       "      <td>0.000000</td>\n",
       "      <td>0.000000</td>\n",
       "      <td>0.000000</td>\n",
       "      <td>0.000000</td>\n",
       "      <td>0.000000</td>\n",
       "      <td>18.250000</td>\n",
       "      <td>18.800000</td>\n",
       "      <td>0.000000</td>\n",
       "    </tr>\n",
       "    <tr>\n",
       "      <th>25%</th>\n",
       "      <td>1760.500000</td>\n",
       "      <td>0.000000</td>\n",
       "      <td>0.000000</td>\n",
       "      <td>0.000000</td>\n",
       "      <td>0.000000</td>\n",
       "      <td>9.000000</td>\n",
       "      <td>1.000000</td>\n",
       "      <td>0.000000</td>\n",
       "      <td>0.000000</td>\n",
       "      <td>0.000000</td>\n",
       "      <td>...</td>\n",
       "      <td>0.000000</td>\n",
       "      <td>0.000000</td>\n",
       "      <td>0.000000</td>\n",
       "      <td>0.000000</td>\n",
       "      <td>0.000000</td>\n",
       "      <td>0.000000</td>\n",
       "      <td>1.000000</td>\n",
       "      <td>35.500000</td>\n",
       "      <td>402.225000</td>\n",
       "      <td>0.000000</td>\n",
       "    </tr>\n",
       "    <tr>\n",
       "      <th>50%</th>\n",
       "      <td>3521.000000</td>\n",
       "      <td>1.000000</td>\n",
       "      <td>0.000000</td>\n",
       "      <td>0.000000</td>\n",
       "      <td>0.000000</td>\n",
       "      <td>29.000000</td>\n",
       "      <td>1.000000</td>\n",
       "      <td>1.000000</td>\n",
       "      <td>1.000000</td>\n",
       "      <td>1.000000</td>\n",
       "      <td>...</td>\n",
       "      <td>1.000000</td>\n",
       "      <td>1.000000</td>\n",
       "      <td>1.000000</td>\n",
       "      <td>1.000000</td>\n",
       "      <td>0.000000</td>\n",
       "      <td>1.000000</td>\n",
       "      <td>2.000000</td>\n",
       "      <td>70.350000</td>\n",
       "      <td>1400.550000</td>\n",
       "      <td>0.000000</td>\n",
       "    </tr>\n",
       "    <tr>\n",
       "      <th>75%</th>\n",
       "      <td>5281.500000</td>\n",
       "      <td>1.000000</td>\n",
       "      <td>0.000000</td>\n",
       "      <td>1.000000</td>\n",
       "      <td>1.000000</td>\n",
       "      <td>55.000000</td>\n",
       "      <td>1.000000</td>\n",
       "      <td>2.000000</td>\n",
       "      <td>1.000000</td>\n",
       "      <td>2.000000</td>\n",
       "      <td>...</td>\n",
       "      <td>2.000000</td>\n",
       "      <td>2.000000</td>\n",
       "      <td>2.000000</td>\n",
       "      <td>2.000000</td>\n",
       "      <td>1.000000</td>\n",
       "      <td>1.000000</td>\n",
       "      <td>2.000000</td>\n",
       "      <td>89.850000</td>\n",
       "      <td>3786.600000</td>\n",
       "      <td>1.000000</td>\n",
       "    </tr>\n",
       "    <tr>\n",
       "      <th>max</th>\n",
       "      <td>7042.000000</td>\n",
       "      <td>1.000000</td>\n",
       "      <td>1.000000</td>\n",
       "      <td>1.000000</td>\n",
       "      <td>1.000000</td>\n",
       "      <td>72.000000</td>\n",
       "      <td>1.000000</td>\n",
       "      <td>2.000000</td>\n",
       "      <td>2.000000</td>\n",
       "      <td>2.000000</td>\n",
       "      <td>...</td>\n",
       "      <td>2.000000</td>\n",
       "      <td>2.000000</td>\n",
       "      <td>2.000000</td>\n",
       "      <td>2.000000</td>\n",
       "      <td>2.000000</td>\n",
       "      <td>1.000000</td>\n",
       "      <td>3.000000</td>\n",
       "      <td>118.750000</td>\n",
       "      <td>8684.800000</td>\n",
       "      <td>1.000000</td>\n",
       "    </tr>\n",
       "  </tbody>\n",
       "</table>\n",
       "<p>8 rows × 21 columns</p>\n",
       "</div>"
      ],
      "text/plain": [
       "        customerID       gender  SeniorCitizen      Partner   Dependents  \\\n",
       "count  7043.000000  7043.000000    7043.000000  7043.000000  7043.000000   \n",
       "mean   3521.000000     0.504756       0.162147     0.483033     0.299588   \n",
       "std    2033.283305     0.500013       0.368612     0.499748     0.458110   \n",
       "min       0.000000     0.000000       0.000000     0.000000     0.000000   \n",
       "25%    1760.500000     0.000000       0.000000     0.000000     0.000000   \n",
       "50%    3521.000000     1.000000       0.000000     0.000000     0.000000   \n",
       "75%    5281.500000     1.000000       0.000000     1.000000     1.000000   \n",
       "max    7042.000000     1.000000       1.000000     1.000000     1.000000   \n",
       "\n",
       "            tenure  PhoneService  MultipleLines  InternetService  \\\n",
       "count  7043.000000   7043.000000    7043.000000      7043.000000   \n",
       "mean     32.371149      0.903166       0.940508         0.872923   \n",
       "std      24.559481      0.295752       0.948554         0.737796   \n",
       "min       0.000000      0.000000       0.000000         0.000000   \n",
       "25%       9.000000      1.000000       0.000000         0.000000   \n",
       "50%      29.000000      1.000000       1.000000         1.000000   \n",
       "75%      55.000000      1.000000       2.000000         1.000000   \n",
       "max      72.000000      1.000000       2.000000         2.000000   \n",
       "\n",
       "       OnlineSecurity  ...  DeviceProtection  TechSupport  StreamingTV  \\\n",
       "count     7043.000000  ...       7043.000000  7043.000000  7043.000000   \n",
       "mean         0.790004  ...          0.904444     0.797104     0.985376   \n",
       "std          0.859848  ...          0.879949     0.861551     0.885002   \n",
       "min          0.000000  ...          0.000000     0.000000     0.000000   \n",
       "25%          0.000000  ...          0.000000     0.000000     0.000000   \n",
       "50%          1.000000  ...          1.000000     1.000000     1.000000   \n",
       "75%          2.000000  ...          2.000000     2.000000     2.000000   \n",
       "max          2.000000  ...          2.000000     2.000000     2.000000   \n",
       "\n",
       "       StreamingMovies     Contract  PaperlessBilling  PaymentMethod  \\\n",
       "count      7043.000000  7043.000000       7043.000000    7043.000000   \n",
       "mean          0.992475     0.690473          0.592219       1.574329   \n",
       "std           0.885091     0.833755          0.491457       1.068104   \n",
       "min           0.000000     0.000000          0.000000       0.000000   \n",
       "25%           0.000000     0.000000          0.000000       1.000000   \n",
       "50%           1.000000     0.000000          1.000000       2.000000   \n",
       "75%           2.000000     1.000000          1.000000       2.000000   \n",
       "max           2.000000     2.000000          1.000000       3.000000   \n",
       "\n",
       "       MonthlyCharges  TotalCharges        Churn  \n",
       "count     7043.000000   7043.000000  7043.000000  \n",
       "mean        64.761692   2283.300441     0.265370  \n",
       "std         30.090047   2265.000258     0.441561  \n",
       "min         18.250000     18.800000     0.000000  \n",
       "25%         35.500000    402.225000     0.000000  \n",
       "50%         70.350000   1400.550000     0.000000  \n",
       "75%         89.850000   3786.600000     1.000000  \n",
       "max        118.750000   8684.800000     1.000000  \n",
       "\n",
       "[8 rows x 21 columns]"
      ]
     },
     "execution_count": 41,
     "metadata": {},
     "output_type": "execute_result"
    }
   ],
   "source": [
    "df.describe()"
   ]
  },
  {
   "cell_type": "code",
   "execution_count": 42,
   "id": "c3bec63c",
   "metadata": {},
   "outputs": [],
   "source": [
    "import matplotlib.pyplot as plt\n"
   ]
  },
  {
   "cell_type": "code",
   "execution_count": 43,
   "id": "6dc0138c",
   "metadata": {},
   "outputs": [
    {
     "data": {
      "text/html": [
       "<div>\n",
       "<style scoped>\n",
       "    .dataframe tbody tr th:only-of-type {\n",
       "        vertical-align: middle;\n",
       "    }\n",
       "\n",
       "    .dataframe tbody tr th {\n",
       "        vertical-align: top;\n",
       "    }\n",
       "\n",
       "    .dataframe thead th {\n",
       "        text-align: right;\n",
       "    }\n",
       "</style>\n",
       "<table border=\"1\" class=\"dataframe\">\n",
       "  <thead>\n",
       "    <tr style=\"text-align: right;\">\n",
       "      <th></th>\n",
       "      <th>customerID</th>\n",
       "      <th>gender</th>\n",
       "      <th>SeniorCitizen</th>\n",
       "      <th>Partner</th>\n",
       "      <th>Dependents</th>\n",
       "      <th>tenure</th>\n",
       "      <th>PhoneService</th>\n",
       "      <th>MultipleLines</th>\n",
       "      <th>InternetService</th>\n",
       "      <th>OnlineSecurity</th>\n",
       "      <th>...</th>\n",
       "      <th>DeviceProtection</th>\n",
       "      <th>TechSupport</th>\n",
       "      <th>StreamingTV</th>\n",
       "      <th>StreamingMovies</th>\n",
       "      <th>Contract</th>\n",
       "      <th>PaperlessBilling</th>\n",
       "      <th>PaymentMethod</th>\n",
       "      <th>MonthlyCharges</th>\n",
       "      <th>TotalCharges</th>\n",
       "      <th>Churn</th>\n",
       "    </tr>\n",
       "  </thead>\n",
       "  <tbody>\n",
       "    <tr>\n",
       "      <th>customerID</th>\n",
       "      <td>1.000000</td>\n",
       "      <td>0.006288</td>\n",
       "      <td>-0.002074</td>\n",
       "      <td>-0.026729</td>\n",
       "      <td>-0.012823</td>\n",
       "      <td>0.008035</td>\n",
       "      <td>-0.006483</td>\n",
       "      <td>0.004316</td>\n",
       "      <td>-0.012407</td>\n",
       "      <td>0.013292</td>\n",
       "      <td>...</td>\n",
       "      <td>-0.006918</td>\n",
       "      <td>0.001140</td>\n",
       "      <td>-0.007777</td>\n",
       "      <td>-0.016746</td>\n",
       "      <td>0.015028</td>\n",
       "      <td>-0.001945</td>\n",
       "      <td>0.011604</td>\n",
       "      <td>-0.003916</td>\n",
       "      <td>-0.000270</td>\n",
       "      <td>-0.017447</td>\n",
       "    </tr>\n",
       "    <tr>\n",
       "      <th>gender</th>\n",
       "      <td>0.006288</td>\n",
       "      <td>1.000000</td>\n",
       "      <td>-0.001874</td>\n",
       "      <td>-0.001808</td>\n",
       "      <td>0.010517</td>\n",
       "      <td>0.005106</td>\n",
       "      <td>-0.006488</td>\n",
       "      <td>-0.006739</td>\n",
       "      <td>-0.000863</td>\n",
       "      <td>-0.015017</td>\n",
       "      <td>...</td>\n",
       "      <td>0.000549</td>\n",
       "      <td>-0.006825</td>\n",
       "      <td>-0.006421</td>\n",
       "      <td>-0.008743</td>\n",
       "      <td>0.000126</td>\n",
       "      <td>-0.011754</td>\n",
       "      <td>0.017352</td>\n",
       "      <td>-0.014569</td>\n",
       "      <td>0.000048</td>\n",
       "      <td>-0.008612</td>\n",
       "    </tr>\n",
       "    <tr>\n",
       "      <th>SeniorCitizen</th>\n",
       "      <td>-0.002074</td>\n",
       "      <td>-0.001874</td>\n",
       "      <td>1.000000</td>\n",
       "      <td>0.016479</td>\n",
       "      <td>-0.211185</td>\n",
       "      <td>0.016567</td>\n",
       "      <td>0.008576</td>\n",
       "      <td>0.146185</td>\n",
       "      <td>-0.032310</td>\n",
       "      <td>-0.128221</td>\n",
       "      <td>...</td>\n",
       "      <td>-0.021398</td>\n",
       "      <td>-0.151268</td>\n",
       "      <td>0.030776</td>\n",
       "      <td>0.047266</td>\n",
       "      <td>-0.142554</td>\n",
       "      <td>0.156530</td>\n",
       "      <td>-0.038551</td>\n",
       "      <td>0.220173</td>\n",
       "      <td>0.102395</td>\n",
       "      <td>0.150889</td>\n",
       "    </tr>\n",
       "    <tr>\n",
       "      <th>Partner</th>\n",
       "      <td>-0.026729</td>\n",
       "      <td>-0.001808</td>\n",
       "      <td>0.016479</td>\n",
       "      <td>1.000000</td>\n",
       "      <td>0.452676</td>\n",
       "      <td>0.379697</td>\n",
       "      <td>0.017706</td>\n",
       "      <td>0.142410</td>\n",
       "      <td>0.000891</td>\n",
       "      <td>0.150828</td>\n",
       "      <td>...</td>\n",
       "      <td>0.166330</td>\n",
       "      <td>0.126733</td>\n",
       "      <td>0.137341</td>\n",
       "      <td>0.129574</td>\n",
       "      <td>0.294806</td>\n",
       "      <td>-0.014877</td>\n",
       "      <td>-0.154798</td>\n",
       "      <td>0.096848</td>\n",
       "      <td>0.318812</td>\n",
       "      <td>-0.150448</td>\n",
       "    </tr>\n",
       "    <tr>\n",
       "      <th>Dependents</th>\n",
       "      <td>-0.012823</td>\n",
       "      <td>0.010517</td>\n",
       "      <td>-0.211185</td>\n",
       "      <td>0.452676</td>\n",
       "      <td>1.000000</td>\n",
       "      <td>0.159712</td>\n",
       "      <td>-0.001762</td>\n",
       "      <td>-0.024991</td>\n",
       "      <td>0.044590</td>\n",
       "      <td>0.152166</td>\n",
       "      <td>...</td>\n",
       "      <td>0.080537</td>\n",
       "      <td>0.133524</td>\n",
       "      <td>0.046885</td>\n",
       "      <td>0.021321</td>\n",
       "      <td>0.243187</td>\n",
       "      <td>-0.111377</td>\n",
       "      <td>-0.040292</td>\n",
       "      <td>-0.113890</td>\n",
       "      <td>0.064535</td>\n",
       "      <td>-0.164221</td>\n",
       "    </tr>\n",
       "    <tr>\n",
       "      <th>tenure</th>\n",
       "      <td>0.008035</td>\n",
       "      <td>0.005106</td>\n",
       "      <td>0.016567</td>\n",
       "      <td>0.379697</td>\n",
       "      <td>0.159712</td>\n",
       "      <td>1.000000</td>\n",
       "      <td>0.008448</td>\n",
       "      <td>0.343032</td>\n",
       "      <td>-0.030359</td>\n",
       "      <td>0.325468</td>\n",
       "      <td>...</td>\n",
       "      <td>0.371105</td>\n",
       "      <td>0.322942</td>\n",
       "      <td>0.289373</td>\n",
       "      <td>0.296866</td>\n",
       "      <td>0.671607</td>\n",
       "      <td>0.006152</td>\n",
       "      <td>-0.370436</td>\n",
       "      <td>0.247900</td>\n",
       "      <td>0.824757</td>\n",
       "      <td>-0.352229</td>\n",
       "    </tr>\n",
       "    <tr>\n",
       "      <th>PhoneService</th>\n",
       "      <td>-0.006483</td>\n",
       "      <td>-0.006488</td>\n",
       "      <td>0.008576</td>\n",
       "      <td>0.017706</td>\n",
       "      <td>-0.001762</td>\n",
       "      <td>0.008448</td>\n",
       "      <td>1.000000</td>\n",
       "      <td>-0.020538</td>\n",
       "      <td>0.387436</td>\n",
       "      <td>-0.015198</td>\n",
       "      <td>...</td>\n",
       "      <td>0.003727</td>\n",
       "      <td>-0.019158</td>\n",
       "      <td>0.055353</td>\n",
       "      <td>0.043870</td>\n",
       "      <td>0.002247</td>\n",
       "      <td>0.016505</td>\n",
       "      <td>-0.004184</td>\n",
       "      <td>0.247398</td>\n",
       "      <td>0.112851</td>\n",
       "      <td>0.011942</td>\n",
       "    </tr>\n",
       "    <tr>\n",
       "      <th>MultipleLines</th>\n",
       "      <td>0.004316</td>\n",
       "      <td>-0.006739</td>\n",
       "      <td>0.146185</td>\n",
       "      <td>0.142410</td>\n",
       "      <td>-0.024991</td>\n",
       "      <td>0.343032</td>\n",
       "      <td>-0.020538</td>\n",
       "      <td>1.000000</td>\n",
       "      <td>-0.109216</td>\n",
       "      <td>0.007141</td>\n",
       "      <td>...</td>\n",
       "      <td>0.122318</td>\n",
       "      <td>0.011466</td>\n",
       "      <td>0.175059</td>\n",
       "      <td>0.180957</td>\n",
       "      <td>0.110842</td>\n",
       "      <td>0.165146</td>\n",
       "      <td>-0.176793</td>\n",
       "      <td>0.433576</td>\n",
       "      <td>0.452883</td>\n",
       "      <td>0.038037</td>\n",
       "    </tr>\n",
       "    <tr>\n",
       "      <th>InternetService</th>\n",
       "      <td>-0.012407</td>\n",
       "      <td>-0.000863</td>\n",
       "      <td>-0.032310</td>\n",
       "      <td>0.000891</td>\n",
       "      <td>0.044590</td>\n",
       "      <td>-0.030359</td>\n",
       "      <td>0.387436</td>\n",
       "      <td>-0.109216</td>\n",
       "      <td>1.000000</td>\n",
       "      <td>-0.028416</td>\n",
       "      <td>...</td>\n",
       "      <td>0.044944</td>\n",
       "      <td>-0.026047</td>\n",
       "      <td>0.107417</td>\n",
       "      <td>0.098350</td>\n",
       "      <td>0.099721</td>\n",
       "      <td>-0.138625</td>\n",
       "      <td>0.086140</td>\n",
       "      <td>-0.323260</td>\n",
       "      <td>-0.175429</td>\n",
       "      <td>-0.047291</td>\n",
       "    </tr>\n",
       "    <tr>\n",
       "      <th>OnlineSecurity</th>\n",
       "      <td>0.013292</td>\n",
       "      <td>-0.015017</td>\n",
       "      <td>-0.128221</td>\n",
       "      <td>0.150828</td>\n",
       "      <td>0.152166</td>\n",
       "      <td>0.325468</td>\n",
       "      <td>-0.015198</td>\n",
       "      <td>0.007141</td>\n",
       "      <td>-0.028416</td>\n",
       "      <td>1.000000</td>\n",
       "      <td>...</td>\n",
       "      <td>0.175985</td>\n",
       "      <td>0.285028</td>\n",
       "      <td>0.044669</td>\n",
       "      <td>0.055954</td>\n",
       "      <td>0.374416</td>\n",
       "      <td>-0.157641</td>\n",
       "      <td>-0.096726</td>\n",
       "      <td>-0.053878</td>\n",
       "      <td>0.254308</td>\n",
       "      <td>-0.289309</td>\n",
       "    </tr>\n",
       "    <tr>\n",
       "      <th>OnlineBackup</th>\n",
       "      <td>-0.003334</td>\n",
       "      <td>-0.012057</td>\n",
       "      <td>-0.013632</td>\n",
       "      <td>0.153130</td>\n",
       "      <td>0.091015</td>\n",
       "      <td>0.370876</td>\n",
       "      <td>0.024105</td>\n",
       "      <td>0.117327</td>\n",
       "      <td>0.036138</td>\n",
       "      <td>0.185126</td>\n",
       "      <td>...</td>\n",
       "      <td>0.187757</td>\n",
       "      <td>0.195748</td>\n",
       "      <td>0.147186</td>\n",
       "      <td>0.136722</td>\n",
       "      <td>0.280980</td>\n",
       "      <td>-0.013370</td>\n",
       "      <td>-0.124847</td>\n",
       "      <td>0.119777</td>\n",
       "      <td>0.375362</td>\n",
       "      <td>-0.195525</td>\n",
       "    </tr>\n",
       "    <tr>\n",
       "      <th>DeviceProtection</th>\n",
       "      <td>-0.006918</td>\n",
       "      <td>0.000549</td>\n",
       "      <td>-0.021398</td>\n",
       "      <td>0.166330</td>\n",
       "      <td>0.080537</td>\n",
       "      <td>0.371105</td>\n",
       "      <td>0.003727</td>\n",
       "      <td>0.122318</td>\n",
       "      <td>0.044944</td>\n",
       "      <td>0.175985</td>\n",
       "      <td>...</td>\n",
       "      <td>1.000000</td>\n",
       "      <td>0.240593</td>\n",
       "      <td>0.276652</td>\n",
       "      <td>0.288799</td>\n",
       "      <td>0.350277</td>\n",
       "      <td>-0.038234</td>\n",
       "      <td>-0.135750</td>\n",
       "      <td>0.163652</td>\n",
       "      <td>0.388864</td>\n",
       "      <td>-0.178134</td>\n",
       "    </tr>\n",
       "    <tr>\n",
       "      <th>TechSupport</th>\n",
       "      <td>0.001140</td>\n",
       "      <td>-0.006825</td>\n",
       "      <td>-0.151268</td>\n",
       "      <td>0.126733</td>\n",
       "      <td>0.133524</td>\n",
       "      <td>0.322942</td>\n",
       "      <td>-0.019158</td>\n",
       "      <td>0.011466</td>\n",
       "      <td>-0.026047</td>\n",
       "      <td>0.285028</td>\n",
       "      <td>...</td>\n",
       "      <td>0.240593</td>\n",
       "      <td>1.000000</td>\n",
       "      <td>0.161305</td>\n",
       "      <td>0.161316</td>\n",
       "      <td>0.425367</td>\n",
       "      <td>-0.113600</td>\n",
       "      <td>-0.104670</td>\n",
       "      <td>-0.008682</td>\n",
       "      <td>0.276713</td>\n",
       "      <td>-0.282492</td>\n",
       "    </tr>\n",
       "    <tr>\n",
       "      <th>StreamingTV</th>\n",
       "      <td>-0.007777</td>\n",
       "      <td>-0.006421</td>\n",
       "      <td>0.030776</td>\n",
       "      <td>0.137341</td>\n",
       "      <td>0.046885</td>\n",
       "      <td>0.289373</td>\n",
       "      <td>0.055353</td>\n",
       "      <td>0.175059</td>\n",
       "      <td>0.107417</td>\n",
       "      <td>0.044669</td>\n",
       "      <td>...</td>\n",
       "      <td>0.276652</td>\n",
       "      <td>0.161305</td>\n",
       "      <td>1.000000</td>\n",
       "      <td>0.434772</td>\n",
       "      <td>0.227116</td>\n",
       "      <td>0.096642</td>\n",
       "      <td>-0.104234</td>\n",
       "      <td>0.336706</td>\n",
       "      <td>0.392291</td>\n",
       "      <td>-0.036581</td>\n",
       "    </tr>\n",
       "    <tr>\n",
       "      <th>StreamingMovies</th>\n",
       "      <td>-0.016746</td>\n",
       "      <td>-0.008743</td>\n",
       "      <td>0.047266</td>\n",
       "      <td>0.129574</td>\n",
       "      <td>0.021321</td>\n",
       "      <td>0.296866</td>\n",
       "      <td>0.043870</td>\n",
       "      <td>0.180957</td>\n",
       "      <td>0.098350</td>\n",
       "      <td>0.055954</td>\n",
       "      <td>...</td>\n",
       "      <td>0.288799</td>\n",
       "      <td>0.161316</td>\n",
       "      <td>0.434772</td>\n",
       "      <td>1.000000</td>\n",
       "      <td>0.231226</td>\n",
       "      <td>0.083700</td>\n",
       "      <td>-0.111241</td>\n",
       "      <td>0.335459</td>\n",
       "      <td>0.397909</td>\n",
       "      <td>-0.038492</td>\n",
       "    </tr>\n",
       "    <tr>\n",
       "      <th>Contract</th>\n",
       "      <td>0.015028</td>\n",
       "      <td>0.000126</td>\n",
       "      <td>-0.142554</td>\n",
       "      <td>0.294806</td>\n",
       "      <td>0.243187</td>\n",
       "      <td>0.671607</td>\n",
       "      <td>0.002247</td>\n",
       "      <td>0.110842</td>\n",
       "      <td>0.099721</td>\n",
       "      <td>0.374416</td>\n",
       "      <td>...</td>\n",
       "      <td>0.350277</td>\n",
       "      <td>0.425367</td>\n",
       "      <td>0.227116</td>\n",
       "      <td>0.231226</td>\n",
       "      <td>1.000000</td>\n",
       "      <td>-0.176733</td>\n",
       "      <td>-0.227543</td>\n",
       "      <td>-0.074195</td>\n",
       "      <td>0.449511</td>\n",
       "      <td>-0.396713</td>\n",
       "    </tr>\n",
       "    <tr>\n",
       "      <th>PaperlessBilling</th>\n",
       "      <td>-0.001945</td>\n",
       "      <td>-0.011754</td>\n",
       "      <td>0.156530</td>\n",
       "      <td>-0.014877</td>\n",
       "      <td>-0.111377</td>\n",
       "      <td>0.006152</td>\n",
       "      <td>0.016505</td>\n",
       "      <td>0.165146</td>\n",
       "      <td>-0.138625</td>\n",
       "      <td>-0.157641</td>\n",
       "      <td>...</td>\n",
       "      <td>-0.038234</td>\n",
       "      <td>-0.113600</td>\n",
       "      <td>0.096642</td>\n",
       "      <td>0.083700</td>\n",
       "      <td>-0.176733</td>\n",
       "      <td>1.000000</td>\n",
       "      <td>-0.062904</td>\n",
       "      <td>0.352150</td>\n",
       "      <td>0.157676</td>\n",
       "      <td>0.191825</td>\n",
       "    </tr>\n",
       "    <tr>\n",
       "      <th>PaymentMethod</th>\n",
       "      <td>0.011604</td>\n",
       "      <td>0.017352</td>\n",
       "      <td>-0.038551</td>\n",
       "      <td>-0.154798</td>\n",
       "      <td>-0.040292</td>\n",
       "      <td>-0.370436</td>\n",
       "      <td>-0.004184</td>\n",
       "      <td>-0.176793</td>\n",
       "      <td>0.086140</td>\n",
       "      <td>-0.096726</td>\n",
       "      <td>...</td>\n",
       "      <td>-0.135750</td>\n",
       "      <td>-0.104670</td>\n",
       "      <td>-0.104234</td>\n",
       "      <td>-0.111241</td>\n",
       "      <td>-0.227543</td>\n",
       "      <td>-0.062904</td>\n",
       "      <td>1.000000</td>\n",
       "      <td>-0.193407</td>\n",
       "      <td>-0.330151</td>\n",
       "      <td>0.107062</td>\n",
       "    </tr>\n",
       "    <tr>\n",
       "      <th>MonthlyCharges</th>\n",
       "      <td>-0.003916</td>\n",
       "      <td>-0.014569</td>\n",
       "      <td>0.220173</td>\n",
       "      <td>0.096848</td>\n",
       "      <td>-0.113890</td>\n",
       "      <td>0.247900</td>\n",
       "      <td>0.247398</td>\n",
       "      <td>0.433576</td>\n",
       "      <td>-0.323260</td>\n",
       "      <td>-0.053878</td>\n",
       "      <td>...</td>\n",
       "      <td>0.163652</td>\n",
       "      <td>-0.008682</td>\n",
       "      <td>0.336706</td>\n",
       "      <td>0.335459</td>\n",
       "      <td>-0.074195</td>\n",
       "      <td>0.352150</td>\n",
       "      <td>-0.193407</td>\n",
       "      <td>1.000000</td>\n",
       "      <td>0.650468</td>\n",
       "      <td>0.193356</td>\n",
       "    </tr>\n",
       "    <tr>\n",
       "      <th>TotalCharges</th>\n",
       "      <td>-0.000270</td>\n",
       "      <td>0.000048</td>\n",
       "      <td>0.102395</td>\n",
       "      <td>0.318812</td>\n",
       "      <td>0.064535</td>\n",
       "      <td>0.824757</td>\n",
       "      <td>0.112851</td>\n",
       "      <td>0.452883</td>\n",
       "      <td>-0.175429</td>\n",
       "      <td>0.254308</td>\n",
       "      <td>...</td>\n",
       "      <td>0.388864</td>\n",
       "      <td>0.276713</td>\n",
       "      <td>0.392291</td>\n",
       "      <td>0.397909</td>\n",
       "      <td>0.449511</td>\n",
       "      <td>0.157676</td>\n",
       "      <td>-0.330151</td>\n",
       "      <td>0.650468</td>\n",
       "      <td>1.000000</td>\n",
       "      <td>-0.199428</td>\n",
       "    </tr>\n",
       "    <tr>\n",
       "      <th>Churn</th>\n",
       "      <td>-0.017447</td>\n",
       "      <td>-0.008612</td>\n",
       "      <td>0.150889</td>\n",
       "      <td>-0.150448</td>\n",
       "      <td>-0.164221</td>\n",
       "      <td>-0.352229</td>\n",
       "      <td>0.011942</td>\n",
       "      <td>0.038037</td>\n",
       "      <td>-0.047291</td>\n",
       "      <td>-0.289309</td>\n",
       "      <td>...</td>\n",
       "      <td>-0.178134</td>\n",
       "      <td>-0.282492</td>\n",
       "      <td>-0.036581</td>\n",
       "      <td>-0.038492</td>\n",
       "      <td>-0.396713</td>\n",
       "      <td>0.191825</td>\n",
       "      <td>0.107062</td>\n",
       "      <td>0.193356</td>\n",
       "      <td>-0.199428</td>\n",
       "      <td>1.000000</td>\n",
       "    </tr>\n",
       "  </tbody>\n",
       "</table>\n",
       "<p>21 rows × 21 columns</p>\n",
       "</div>"
      ],
      "text/plain": [
       "                  customerID    gender  SeniorCitizen   Partner  Dependents  \\\n",
       "customerID          1.000000  0.006288      -0.002074 -0.026729   -0.012823   \n",
       "gender              0.006288  1.000000      -0.001874 -0.001808    0.010517   \n",
       "SeniorCitizen      -0.002074 -0.001874       1.000000  0.016479   -0.211185   \n",
       "Partner            -0.026729 -0.001808       0.016479  1.000000    0.452676   \n",
       "Dependents         -0.012823  0.010517      -0.211185  0.452676    1.000000   \n",
       "tenure              0.008035  0.005106       0.016567  0.379697    0.159712   \n",
       "PhoneService       -0.006483 -0.006488       0.008576  0.017706   -0.001762   \n",
       "MultipleLines       0.004316 -0.006739       0.146185  0.142410   -0.024991   \n",
       "InternetService    -0.012407 -0.000863      -0.032310  0.000891    0.044590   \n",
       "OnlineSecurity      0.013292 -0.015017      -0.128221  0.150828    0.152166   \n",
       "OnlineBackup       -0.003334 -0.012057      -0.013632  0.153130    0.091015   \n",
       "DeviceProtection   -0.006918  0.000549      -0.021398  0.166330    0.080537   \n",
       "TechSupport         0.001140 -0.006825      -0.151268  0.126733    0.133524   \n",
       "StreamingTV        -0.007777 -0.006421       0.030776  0.137341    0.046885   \n",
       "StreamingMovies    -0.016746 -0.008743       0.047266  0.129574    0.021321   \n",
       "Contract            0.015028  0.000126      -0.142554  0.294806    0.243187   \n",
       "PaperlessBilling   -0.001945 -0.011754       0.156530 -0.014877   -0.111377   \n",
       "PaymentMethod       0.011604  0.017352      -0.038551 -0.154798   -0.040292   \n",
       "MonthlyCharges     -0.003916 -0.014569       0.220173  0.096848   -0.113890   \n",
       "TotalCharges       -0.000270  0.000048       0.102395  0.318812    0.064535   \n",
       "Churn              -0.017447 -0.008612       0.150889 -0.150448   -0.164221   \n",
       "\n",
       "                    tenure  PhoneService  MultipleLines  InternetService  \\\n",
       "customerID        0.008035     -0.006483       0.004316        -0.012407   \n",
       "gender            0.005106     -0.006488      -0.006739        -0.000863   \n",
       "SeniorCitizen     0.016567      0.008576       0.146185        -0.032310   \n",
       "Partner           0.379697      0.017706       0.142410         0.000891   \n",
       "Dependents        0.159712     -0.001762      -0.024991         0.044590   \n",
       "tenure            1.000000      0.008448       0.343032        -0.030359   \n",
       "PhoneService      0.008448      1.000000      -0.020538         0.387436   \n",
       "MultipleLines     0.343032     -0.020538       1.000000        -0.109216   \n",
       "InternetService  -0.030359      0.387436      -0.109216         1.000000   \n",
       "OnlineSecurity    0.325468     -0.015198       0.007141        -0.028416   \n",
       "OnlineBackup      0.370876      0.024105       0.117327         0.036138   \n",
       "DeviceProtection  0.371105      0.003727       0.122318         0.044944   \n",
       "TechSupport       0.322942     -0.019158       0.011466        -0.026047   \n",
       "StreamingTV       0.289373      0.055353       0.175059         0.107417   \n",
       "StreamingMovies   0.296866      0.043870       0.180957         0.098350   \n",
       "Contract          0.671607      0.002247       0.110842         0.099721   \n",
       "PaperlessBilling  0.006152      0.016505       0.165146        -0.138625   \n",
       "PaymentMethod    -0.370436     -0.004184      -0.176793         0.086140   \n",
       "MonthlyCharges    0.247900      0.247398       0.433576        -0.323260   \n",
       "TotalCharges      0.824757      0.112851       0.452883        -0.175429   \n",
       "Churn            -0.352229      0.011942       0.038037        -0.047291   \n",
       "\n",
       "                  OnlineSecurity  ...  DeviceProtection  TechSupport  \\\n",
       "customerID              0.013292  ...         -0.006918     0.001140   \n",
       "gender                 -0.015017  ...          0.000549    -0.006825   \n",
       "SeniorCitizen          -0.128221  ...         -0.021398    -0.151268   \n",
       "Partner                 0.150828  ...          0.166330     0.126733   \n",
       "Dependents              0.152166  ...          0.080537     0.133524   \n",
       "tenure                  0.325468  ...          0.371105     0.322942   \n",
       "PhoneService           -0.015198  ...          0.003727    -0.019158   \n",
       "MultipleLines           0.007141  ...          0.122318     0.011466   \n",
       "InternetService        -0.028416  ...          0.044944    -0.026047   \n",
       "OnlineSecurity          1.000000  ...          0.175985     0.285028   \n",
       "OnlineBackup            0.185126  ...          0.187757     0.195748   \n",
       "DeviceProtection        0.175985  ...          1.000000     0.240593   \n",
       "TechSupport             0.285028  ...          0.240593     1.000000   \n",
       "StreamingTV             0.044669  ...          0.276652     0.161305   \n",
       "StreamingMovies         0.055954  ...          0.288799     0.161316   \n",
       "Contract                0.374416  ...          0.350277     0.425367   \n",
       "PaperlessBilling       -0.157641  ...         -0.038234    -0.113600   \n",
       "PaymentMethod          -0.096726  ...         -0.135750    -0.104670   \n",
       "MonthlyCharges         -0.053878  ...          0.163652    -0.008682   \n",
       "TotalCharges            0.254308  ...          0.388864     0.276713   \n",
       "Churn                  -0.289309  ...         -0.178134    -0.282492   \n",
       "\n",
       "                  StreamingTV  StreamingMovies  Contract  PaperlessBilling  \\\n",
       "customerID          -0.007777        -0.016746  0.015028         -0.001945   \n",
       "gender              -0.006421        -0.008743  0.000126         -0.011754   \n",
       "SeniorCitizen        0.030776         0.047266 -0.142554          0.156530   \n",
       "Partner              0.137341         0.129574  0.294806         -0.014877   \n",
       "Dependents           0.046885         0.021321  0.243187         -0.111377   \n",
       "tenure               0.289373         0.296866  0.671607          0.006152   \n",
       "PhoneService         0.055353         0.043870  0.002247          0.016505   \n",
       "MultipleLines        0.175059         0.180957  0.110842          0.165146   \n",
       "InternetService      0.107417         0.098350  0.099721         -0.138625   \n",
       "OnlineSecurity       0.044669         0.055954  0.374416         -0.157641   \n",
       "OnlineBackup         0.147186         0.136722  0.280980         -0.013370   \n",
       "DeviceProtection     0.276652         0.288799  0.350277         -0.038234   \n",
       "TechSupport          0.161305         0.161316  0.425367         -0.113600   \n",
       "StreamingTV          1.000000         0.434772  0.227116          0.096642   \n",
       "StreamingMovies      0.434772         1.000000  0.231226          0.083700   \n",
       "Contract             0.227116         0.231226  1.000000         -0.176733   \n",
       "PaperlessBilling     0.096642         0.083700 -0.176733          1.000000   \n",
       "PaymentMethod       -0.104234        -0.111241 -0.227543         -0.062904   \n",
       "MonthlyCharges       0.336706         0.335459 -0.074195          0.352150   \n",
       "TotalCharges         0.392291         0.397909  0.449511          0.157676   \n",
       "Churn               -0.036581        -0.038492 -0.396713          0.191825   \n",
       "\n",
       "                  PaymentMethod  MonthlyCharges  TotalCharges     Churn  \n",
       "customerID             0.011604       -0.003916     -0.000270 -0.017447  \n",
       "gender                 0.017352       -0.014569      0.000048 -0.008612  \n",
       "SeniorCitizen         -0.038551        0.220173      0.102395  0.150889  \n",
       "Partner               -0.154798        0.096848      0.318812 -0.150448  \n",
       "Dependents            -0.040292       -0.113890      0.064535 -0.164221  \n",
       "tenure                -0.370436        0.247900      0.824757 -0.352229  \n",
       "PhoneService          -0.004184        0.247398      0.112851  0.011942  \n",
       "MultipleLines         -0.176793        0.433576      0.452883  0.038037  \n",
       "InternetService        0.086140       -0.323260     -0.175429 -0.047291  \n",
       "OnlineSecurity        -0.096726       -0.053878      0.254308 -0.289309  \n",
       "OnlineBackup          -0.124847        0.119777      0.375362 -0.195525  \n",
       "DeviceProtection      -0.135750        0.163652      0.388864 -0.178134  \n",
       "TechSupport           -0.104670       -0.008682      0.276713 -0.282492  \n",
       "StreamingTV           -0.104234        0.336706      0.392291 -0.036581  \n",
       "StreamingMovies       -0.111241        0.335459      0.397909 -0.038492  \n",
       "Contract              -0.227543       -0.074195      0.449511 -0.396713  \n",
       "PaperlessBilling      -0.062904        0.352150      0.157676  0.191825  \n",
       "PaymentMethod          1.000000       -0.193407     -0.330151  0.107062  \n",
       "MonthlyCharges        -0.193407        1.000000      0.650468  0.193356  \n",
       "TotalCharges          -0.330151        0.650468      1.000000 -0.199428  \n",
       "Churn                  0.107062        0.193356     -0.199428  1.000000  \n",
       "\n",
       "[21 rows x 21 columns]"
      ]
     },
     "execution_count": 43,
     "metadata": {},
     "output_type": "execute_result"
    }
   ],
   "source": [
    "df.corr()"
   ]
  },
  {
   "cell_type": "code",
   "execution_count": 44,
   "id": "4bf51ef7",
   "metadata": {},
   "outputs": [
    {
     "data": {
      "image/png": "[encoded data removed]",
      "text/plain": [
       "<Figure size 1800x720 with 2 Axes>"
      ]
     },
     "metadata": {
      "needs_background": "light"
     },
     "output_type": "display_data"
    }
   ],
   "source": [
    "plt.figure(figsize=(25,10))\n",
    "sns.heatmap(df.corr(),annot=True,linewidths=0.1,linecolor='black',fmt='0.2f')\n",
    "plt.show()"
   ]
  },
  {
   "cell_type": "code",
   "execution_count": null,
   "id": "5e395afc",
   "metadata": {},
   "outputs": [],
   "source": []
  },
  {
   "cell_type": "code",
   "execution_count": 45,
   "id": "e4a6e650",
   "metadata": {},
   "outputs": [
    {
     "name": "stderr",
     "output_type": "stream",
     "text": [
      "C:\\Users\\SC\\AppData\\Local\\Temp/ipykernel_7868/4213898609.py:3: MatplotlibDeprecationWarning: Case-insensitive properties were deprecated in 3.3 and support will be removed two minor releases later\n",
      "  plt.xlabel('features',fontSize=18)\n",
      "C:\\Users\\SC\\AppData\\Local\\Temp/ipykernel_7868/4213898609.py:4: MatplotlibDeprecationWarning: Case-insensitive properties were deprecated in 3.3 and support will be removed two minor releases later\n",
      "  plt.ylabel('column with target name',fontSize=18)\n",
      "C:\\Users\\SC\\AppData\\Local\\Temp/ipykernel_7868/4213898609.py:5: MatplotlibDeprecationWarning: Case-insensitive properties were deprecated in 3.3 and support will be removed two minor releases later\n",
      "  plt.title('Correlation',fontSize=20)\n"
     ]
    },
    {
     "data": {
      "image/png": "[encoded data removed]",
      "text/plain": [
       "<Figure size 1800x720 with 1 Axes>"
      ]
     },
     "metadata": {
      "needs_background": "light"
     },
     "output_type": "display_data"
    }
   ],
   "source": [
    "plt.figure(figsize=(25,10))\n",
    "df.corr()['TotalCharges'].sort_values(ascending = False).drop(['TotalCharges']).plot(kind='bar',color='c')\n",
    "plt.xlabel('features',fontSize=18)\n",
    "plt.ylabel('column with target name',fontSize=18)\n",
    "plt.title('Correlation',fontSize=20)\n",
    "plt.show()\n"
   ]
  },
  {
   "cell_type": "code",
   "execution_count": 46,
   "id": "88b73a95",
   "metadata": {},
   "outputs": [
    {
     "data": {
      "text/plain": [
       "customerID          0.000000\n",
       "gender             -0.019031\n",
       "SeniorCitizen       1.833633\n",
       "Partner             0.067922\n",
       "Dependents          0.875199\n",
       "tenure              0.239540\n",
       "PhoneService       -2.727153\n",
       "MultipleLines       0.118719\n",
       "InternetService     0.205423\n",
       "OnlineSecurity      0.416985\n",
       "OnlineBackup        0.182930\n",
       "DeviceProtection    0.186847\n",
       "TechSupport         0.402365\n",
       "StreamingTV         0.028486\n",
       "StreamingMovies     0.014657\n",
       "Contract            0.630959\n",
       "PaperlessBilling   -0.375396\n",
       "PaymentMethod      -0.170129\n",
       "MonthlyCharges     -0.220524\n",
       "TotalCharges        0.962394\n",
       "Churn               1.063031\n",
       "dtype: float64"
      ]
     },
     "execution_count": 46,
     "metadata": {},
     "output_type": "execute_result"
    }
   ],
   "source": [
    "df.skew()"
   ]
  },
  {
   "cell_type": "markdown",
   "id": "8a6baffd",
   "metadata": {},
   "source": [
    "keeping +/-0.5 as the range for skewness. Columns that lie in this range are:"
   ]
  },
  {
   "cell_type": "markdown",
   "id": "a3691aad",
   "metadata": {},
   "source": [
    "SeniorCitizen ,Dependents,PhoneService and Churn all are categorical data\n",
    "whereas TotalCharges is Target variable"
   ]
  },
  {
   "cell_type": "markdown",
   "id": "f1d836cc",
   "metadata": {},
   "source": [
    "Since no column has skewness no need to treat it"
   ]
  },
  {
   "cell_type": "markdown",
   "id": "457a1889",
   "metadata": {},
   "source": [
    "# Checking Outlier"
   ]
  },
  {
   "cell_type": "code",
   "execution_count": 47,
   "id": "04c0eb0f",
   "metadata": {},
   "outputs": [
    {
     "data": {
      "text/plain": [
       "<AxesSubplot:>"
      ]
     },
     "execution_count": 47,
     "metadata": {},
     "output_type": "execute_result"
    },
    {
     "data": {
      "image/png": "[encoded data removed]",
      "text/plain": [
       "<Figure size 432x288 with 1 Axes>"
      ]
     },
     "metadata": {
      "needs_background": "light"
     },
     "output_type": "display_data"
    }
   ],
   "source": [
    "df['SeniorCitizen'].plot.box()"
   ]
  },
  {
   "cell_type": "code",
   "execution_count": 48,
   "id": "6d7388aa",
   "metadata": {},
   "outputs": [
    {
     "data": {
      "text/plain": [
       "<AxesSubplot:>"
      ]
     },
     "execution_count": 48,
     "metadata": {},
     "output_type": "execute_result"
    },
    {
     "data": {
      "image/png": "[encoded data removed]",
      "text/plain": [
       "<Figure size 432x288 with 1 Axes>"
      ]
     },
     "metadata": {
      "needs_background": "light"
     },
     "output_type": "display_data"
    }
   ],
   "source": [
    "df['TotalCharges'].plot.box()"
   ]
  },
  {
   "cell_type": "code",
   "execution_count": 49,
   "id": "6f9b65a8",
   "metadata": {},
   "outputs": [
    {
     "data": {
      "text/plain": [
       "<AxesSubplot:>"
      ]
     },
     "execution_count": 49,
     "metadata": {},
     "output_type": "execute_result"
    },
    {
     "data": {
      "image/png": "[encoded data removed]",
      "text/plain": [
       "<Figure size 432x288 with 1 Axes>"
      ]
     },
     "metadata": {
      "needs_background": "light"
     },
     "output_type": "display_data"
    }
   ],
   "source": [
    "df['MonthlyCharges'].plot.box()"
   ]
  },
  {
   "cell_type": "code",
   "execution_count": 50,
   "id": "f5b42553",
   "metadata": {},
   "outputs": [
    {
     "data": {
      "text/plain": [
       "<AxesSubplot:>"
      ]
     },
     "execution_count": 50,
     "metadata": {},
     "output_type": "execute_result"
    },
    {
     "data": {
      "image/png": "[encoded data removed]",
      "text/plain": [
       "<Figure size 432x288 with 1 Axes>"
      ]
     },
     "metadata": {
      "needs_background": "light"
     },
     "output_type": "display_data"
    }
   ],
   "source": [
    "df['tenure'].plot.box()"
   ]
  },
  {
   "cell_type": "code",
   "execution_count": 51,
   "id": "d1ff2a1c",
   "metadata": {},
   "outputs": [
    {
     "data": {
      "text/plain": [
       "array([0, 1], dtype=int64)"
      ]
     },
     "execution_count": 51,
     "metadata": {},
     "output_type": "execute_result"
    }
   ],
   "source": [
    "df['SeniorCitizen'].unique()"
   ]
  },
  {
   "cell_type": "markdown",
   "id": "be956d96",
   "metadata": {},
   "source": [
    "no need to remove skewness or outlier for categorical data or target variable "
   ]
  },
  {
   "cell_type": "code",
   "execution_count": 52,
   "id": "96f787c6",
   "metadata": {},
   "outputs": [
    {
     "data": {
      "text/plain": [
       "(7043, 21)"
      ]
     },
     "execution_count": 52,
     "metadata": {},
     "output_type": "execute_result"
    }
   ],
   "source": [
    "df.shape"
   ]
  },
  {
   "cell_type": "markdown",
   "id": "c9b24fb7",
   "metadata": {},
   "source": [
    "# Outlier Removal "
   ]
  },
  {
   "cell_type": "code",
   "execution_count": 53,
   "id": "bae5a976",
   "metadata": {
    "scrolled": true
   },
   "outputs": [
    {
     "data": {
      "text/plain": [
       "(array([   0,    3,    7,   20,   27,   62,   81,   89,  103,  105,  107,\n",
       "         114,  116,  129,  131,  133,  168,  180,  185,  187,  206,  211,\n",
       "         215,  216,  217,  225,  236,  252,  255,  259,  260,  263,  272,\n",
       "         278,  303,  321,  324,  328,  348,  354,  358,  372,  376,  382,\n",
       "         387,  398,  424,  431,  435,  452,  465,  481,  488,  495,  498,\n",
       "         544,  569,  596,  610,  616,  620,  634,  660,  667,  669,  674,\n",
       "         677,  688,  716,  718,  735,  765,  776,  784,  790,  794,  813,\n",
       "         829,  843,  847,  859,  866,  873,  875,  877,  884,  893,  917,\n",
       "         934,  941,  943,  960,  973, 1011, 1018, 1037, 1050, 1051, 1053,\n",
       "        1072, 1110, 1119, 1122, 1144, 1146, 1150, 1161, 1169, 1182, 1204,\n",
       "        1221, 1225, 1242, 1255, 1257, 1271, 1278, 1298, 1311, 1326, 1331,\n",
       "        1333, 1334, 1340, 1349, 1352, 1365, 1379, 1402, 1407, 1416, 1452,\n",
       "        1479, 1480, 1481, 1500, 1506, 1513, 1519, 1560, 1562, 1581, 1584,\n",
       "        1614, 1620, 1634, 1637, 1652, 1689, 1692, 1694, 1703, 1722, 1734,\n",
       "        1789, 1802, 1803, 1819, 1827, 1832, 1845, 1851, 1854, 1862, 1881,\n",
       "        1889, 1892, 1894, 1906, 1910, 1944, 1959, 1969, 1985, 1989, 1998,\n",
       "        2002, 2031, 2046, 2050, 2087, 2089, 2090, 2117, 2124, 2127, 2131,\n",
       "        2188, 2215, 2225, 2226, 2237, 2239, 2290, 2295, 2310, 2340, 2344,\n",
       "        2348, 2362, 2382, 2383, 2385, 2398, 2399, 2409, 2412, 2413, 2417,\n",
       "        2420, 2421, 2426, 2427, 2431, 2433, 2465, 2468, 2492, 2533, 2538,\n",
       "        2541, 2547, 2562, 2608, 2610, 2626, 2637, 2644, 2661, 2662, 2681,\n",
       "        2696, 2700, 2709, 2712, 2718, 2725, 2728, 2748, 2751, 2752, 2754,\n",
       "        2761, 2773, 2781, 2804, 2809, 2814, 2841, 2842, 2889, 2898, 2899,\n",
       "        2903, 2913, 2915, 2916, 2918, 2919, 2929, 2940, 2944, 2962, 2966,\n",
       "        2972, 2990, 2992, 2994, 2995, 3020, 3028, 3036, 3039, 3042, 3043,\n",
       "        3060, 3062, 3070, 3073, 3080, 3092, 3096, 3126, 3127, 3133, 3139,\n",
       "        3150, 3160, 3174, 3177, 3183, 3185, 3190, 3191, 3194, 3213, 3221,\n",
       "        3223, 3233, 3235, 3243, 3258, 3290, 3292, 3311, 3316, 3318, 3342,\n",
       "        3354, 3363, 3370, 3414, 3422, 3444, 3454, 3492, 3502, 3505, 3541,\n",
       "        3542, 3557, 3575, 3583, 3586, 3594, 3613, 3614, 3617, 3620, 3621,\n",
       "        3652, 3653, 3660, 3677, 3680, 3685, 3690, 3722, 3733, 3738, 3753,\n",
       "        3756, 3773, 3819, 3860, 3870, 3873, 3877, 3902, 3905, 3926, 3934,\n",
       "        3940, 3945, 3946, 3955, 3961, 3973, 3976, 3983, 3989, 4008, 4020,\n",
       "        4024, 4027, 4029, 4040, 4041, 4043, 4048, 4052, 4054, 4055, 4056,\n",
       "        4071, 4075, 4085, 4099, 4109, 4128, 4130, 4132, 4141, 4149, 4151,\n",
       "        4162, 4168, 4174, 4178, 4180, 4183, 4200, 4207, 4208, 4233, 4239,\n",
       "        4251, 4281, 4290, 4309, 4310, 4311, 4338, 4369, 4396, 4400, 4402,\n",
       "        4409, 4411, 4424, 4432, 4465, 4474, 4481, 4521, 4537, 4557, 4565,\n",
       "        4603, 4612, 4641, 4653, 4657, 4665, 4670, 4702, 4710, 4726, 4728,\n",
       "        4729, 4740, 4750, 4765, 4773, 4821, 4828, 4831, 4840, 4845, 4849,\n",
       "        4854, 4857, 4860, 4882, 4883, 4897, 4898, 4915, 4919, 4924, 4933,\n",
       "        4949, 4965, 4968, 4970, 4974, 4976, 4981, 4983, 4989, 4992, 4993,\n",
       "        5002, 5013, 5014, 5017, 5034, 5060, 5062, 5064, 5066, 5073, 5085,\n",
       "        5091, 5117, 5130, 5144, 5147, 5163, 5176, 5180, 5186, 5204, 5207,\n",
       "        5210, 5212, 5216, 5249, 5263, 5264, 5284, 5290, 5292, 5296, 5303,\n",
       "        5314, 5329, 5331, 5338, 5343, 5348, 5356, 5359, 5382, 5387, 5391,\n",
       "        5392, 5411, 5456, 5489, 5497, 5501, 5505, 5531, 5536, 5546, 5559,\n",
       "        5565, 5601, 5607, 5631, 5636, 5648, 5665, 5666, 5674, 5682, 5683,\n",
       "        5690, 5717, 5740, 5761, 5788, 5790, 5796, 5799, 5829, 5833, 5837,\n",
       "        5841, 5880, 5884, 5889, 5891, 5900, 5911, 5939, 5941, 5942, 5949,\n",
       "        5950, 5954, 5961, 5967, 5976, 5983, 6001, 6006, 6007, 6020, 6030,\n",
       "        6031, 6039, 6043, 6059, 6064, 6067, 6074, 6080, 6087, 6093, 6108,\n",
       "        6129, 6132, 6133, 6145, 6149, 6162, 6174, 6183, 6204, 6209, 6212,\n",
       "        6218, 6219, 6220, 6235, 6248, 6252, 6253, 6256, 6260, 6263, 6269,\n",
       "        6285, 6296, 6310, 6319, 6326, 6331, 6367, 6377, 6383, 6392, 6406,\n",
       "        6415, 6416, 6424, 6425, 6435, 6455, 6457, 6459, 6493, 6494, 6500,\n",
       "        6503, 6509, 6514, 6515, 6522, 6523, 6530, 6536, 6547, 6553, 6570,\n",
       "        6573, 6593, 6600, 6607, 6624, 6640, 6653, 6661, 6662, 6665, 6677,\n",
       "        6679, 6683, 6684, 6691, 6693, 6703, 6727, 6747, 6750, 6752, 6757,\n",
       "        6777, 6779, 6783, 6791, 6810, 6811, 6813, 6834, 6864, 6881, 6884,\n",
       "        6891, 6895, 6904, 6905, 6937, 6940, 6941, 6943, 6946, 6949, 6964,\n",
       "        6966, 6979, 6980, 6984, 6985, 6999, 7003, 7007, 7029, 7036, 7040],\n",
       "       dtype=int64),\n",
       " array([6, 6, 6, 6, 6, 6, 6, 6, 6, 6, 6, 6, 6, 6, 6, 6, 6, 6, 6, 6, 6, 6,\n",
       "        6, 6, 6, 6, 6, 6, 6, 6, 6, 6, 6, 6, 6, 6, 6, 6, 6, 6, 6, 6, 6, 6,\n",
       "        6, 6, 6, 6, 6, 6, 6, 6, 6, 6, 6, 6, 6, 6, 6, 6, 6, 6, 6, 6, 6, 6,\n",
       "        6, 6, 6, 6, 6, 6, 6, 6, 6, 6, 6, 6, 6, 6, 6, 6, 6, 6, 6, 6, 6, 6,\n",
       "        6, 6, 6, 6, 6, 6, 6, 6, 6, 6, 6, 6, 6, 6, 6, 6, 6, 6, 6, 6, 6, 6,\n",
       "        6, 6, 6, 6, 6, 6, 6, 6, 6, 6, 6, 6, 6, 6, 6, 6, 6, 6, 6, 6, 6, 6,\n",
       "        6, 6, 6, 6, 6, 6, 6, 6, 6, 6, 6, 6, 6, 6, 6, 6, 6, 6, 6, 6, 6, 6,\n",
       "        6, 6, 6, 6, 6, 6, 6, 6, 6, 6, 6, 6, 6, 6, 6, 6, 6, 6, 6, 6, 6, 6,\n",
       "        6, 6, 6, 6, 6, 6, 6, 6, 6, 6, 6, 6, 6, 6, 6, 6, 6, 6, 6, 6, 6, 6,\n",
       "        6, 6, 6, 6, 6, 6, 6, 6, 6, 6, 6, 6, 6, 6, 6, 6, 6, 6, 6, 6, 6, 6,\n",
       "        6, 6, 6, 6, 6, 6, 6, 6, 6, 6, 6, 6, 6, 6, 6, 6, 6, 6, 6, 6, 6, 6,\n",
       "        6, 6, 6, 6, 6, 6, 6, 6, 6, 6, 6, 6, 6, 6, 6, 6, 6, 6, 6, 6, 6, 6,\n",
       "        6, 6, 6, 6, 6, 6, 6, 6, 6, 6, 6, 6, 6, 6, 6, 6, 6, 6, 6, 6, 6, 6,\n",
       "        6, 6, 6, 6, 6, 6, 6, 6, 6, 6, 6, 6, 6, 6, 6, 6, 6, 6, 6, 6, 6, 6,\n",
       "        6, 6, 6, 6, 6, 6, 6, 6, 6, 6, 6, 6, 6, 6, 6, 6, 6, 6, 6, 6, 6, 6,\n",
       "        6, 6, 6, 6, 6, 6, 6, 6, 6, 6, 6, 6, 6, 6, 6, 6, 6, 6, 6, 6, 6, 6,\n",
       "        6, 6, 6, 6, 6, 6, 6, 6, 6, 6, 6, 6, 6, 6, 6, 6, 6, 6, 6, 6, 6, 6,\n",
       "        6, 6, 6, 6, 6, 6, 6, 6, 6, 6, 6, 6, 6, 6, 6, 6, 6, 6, 6, 6, 6, 6,\n",
       "        6, 6, 6, 6, 6, 6, 6, 6, 6, 6, 6, 6, 6, 6, 6, 6, 6, 6, 6, 6, 6, 6,\n",
       "        6, 6, 6, 6, 6, 6, 6, 6, 6, 6, 6, 6, 6, 6, 6, 6, 6, 6, 6, 6, 6, 6,\n",
       "        6, 6, 6, 6, 6, 6, 6, 6, 6, 6, 6, 6, 6, 6, 6, 6, 6, 6, 6, 6, 6, 6,\n",
       "        6, 6, 6, 6, 6, 6, 6, 6, 6, 6, 6, 6, 6, 6, 6, 6, 6, 6, 6, 6, 6, 6,\n",
       "        6, 6, 6, 6, 6, 6, 6, 6, 6, 6, 6, 6, 6, 6, 6, 6, 6, 6, 6, 6, 6, 6,\n",
       "        6, 6, 6, 6, 6, 6, 6, 6, 6, 6, 6, 6, 6, 6, 6, 6, 6, 6, 6, 6, 6, 6,\n",
       "        6, 6, 6, 6, 6, 6, 6, 6, 6, 6, 6, 6, 6, 6, 6, 6, 6, 6, 6, 6, 6, 6,\n",
       "        6, 6, 6, 6, 6, 6, 6, 6, 6, 6, 6, 6, 6, 6, 6, 6, 6, 6, 6, 6, 6, 6,\n",
       "        6, 6, 6, 6, 6, 6, 6, 6, 6, 6, 6, 6, 6, 6, 6, 6, 6, 6, 6, 6, 6, 6,\n",
       "        6, 6, 6, 6, 6, 6, 6, 6, 6, 6, 6, 6, 6, 6, 6, 6, 6, 6, 6, 6, 6, 6,\n",
       "        6, 6, 6, 6, 6, 6, 6, 6, 6, 6, 6, 6, 6, 6, 6, 6, 6, 6, 6, 6, 6, 6,\n",
       "        6, 6, 6, 6, 6, 6, 6, 6, 6, 6, 6, 6, 6, 6, 6, 6, 6, 6, 6, 6, 6, 6,\n",
       "        6, 6, 6, 6, 6, 6, 6, 6, 6, 6, 6, 6, 6, 6, 6, 6, 6, 6, 6, 6, 6, 6],\n",
       "       dtype=int64))"
      ]
     },
     "execution_count": 53,
     "metadata": {},
     "output_type": "execute_result"
    }
   ],
   "source": [
    "from scipy.stats import zscore\n",
    "import numpy as np\n",
    "z=np.abs(zscore(df))\n",
    "threshold=3\n",
    "np.where(z>3)"
   ]
  },
  {
   "cell_type": "code",
   "execution_count": 54,
   "id": "415e6d31",
   "metadata": {},
   "outputs": [
    {
     "data": {
      "text/html": [
       "<div>\n",
       "<style scoped>\n",
       "    .dataframe tbody tr th:only-of-type {\n",
       "        vertical-align: middle;\n",
       "    }\n",
       "\n",
       "    .dataframe tbody tr th {\n",
       "        vertical-align: top;\n",
       "    }\n",
       "\n",
       "    .dataframe thead th {\n",
       "        text-align: right;\n",
       "    }\n",
       "</style>\n",
       "<table border=\"1\" class=\"dataframe\">\n",
       "  <thead>\n",
       "    <tr style=\"text-align: right;\">\n",
       "      <th></th>\n",
       "      <th>customerID</th>\n",
       "      <th>gender</th>\n",
       "      <th>SeniorCitizen</th>\n",
       "      <th>Partner</th>\n",
       "      <th>Dependents</th>\n",
       "      <th>tenure</th>\n",
       "      <th>PhoneService</th>\n",
       "      <th>MultipleLines</th>\n",
       "      <th>InternetService</th>\n",
       "      <th>OnlineSecurity</th>\n",
       "      <th>...</th>\n",
       "      <th>DeviceProtection</th>\n",
       "      <th>TechSupport</th>\n",
       "      <th>StreamingTV</th>\n",
       "      <th>StreamingMovies</th>\n",
       "      <th>Contract</th>\n",
       "      <th>PaperlessBilling</th>\n",
       "      <th>PaymentMethod</th>\n",
       "      <th>MonthlyCharges</th>\n",
       "      <th>TotalCharges</th>\n",
       "      <th>Churn</th>\n",
       "    </tr>\n",
       "  </thead>\n",
       "  <tbody>\n",
       "    <tr>\n",
       "      <th>1</th>\n",
       "      <td>3962.0</td>\n",
       "      <td>1.0</td>\n",
       "      <td>0</td>\n",
       "      <td>0.0</td>\n",
       "      <td>0.0</td>\n",
       "      <td>34</td>\n",
       "      <td>1.0</td>\n",
       "      <td>0.0</td>\n",
       "      <td>0.0</td>\n",
       "      <td>2.0</td>\n",
       "      <td>...</td>\n",
       "      <td>2.0</td>\n",
       "      <td>0.0</td>\n",
       "      <td>0.0</td>\n",
       "      <td>0.0</td>\n",
       "      <td>1.0</td>\n",
       "      <td>0.0</td>\n",
       "      <td>3.0</td>\n",
       "      <td>56.95</td>\n",
       "      <td>1889.50</td>\n",
       "      <td>0.0</td>\n",
       "    </tr>\n",
       "    <tr>\n",
       "      <th>2</th>\n",
       "      <td>2564.0</td>\n",
       "      <td>1.0</td>\n",
       "      <td>0</td>\n",
       "      <td>0.0</td>\n",
       "      <td>0.0</td>\n",
       "      <td>2</td>\n",
       "      <td>1.0</td>\n",
       "      <td>0.0</td>\n",
       "      <td>0.0</td>\n",
       "      <td>2.0</td>\n",
       "      <td>...</td>\n",
       "      <td>0.0</td>\n",
       "      <td>0.0</td>\n",
       "      <td>0.0</td>\n",
       "      <td>0.0</td>\n",
       "      <td>0.0</td>\n",
       "      <td>1.0</td>\n",
       "      <td>3.0</td>\n",
       "      <td>53.85</td>\n",
       "      <td>108.15</td>\n",
       "      <td>1.0</td>\n",
       "    </tr>\n",
       "    <tr>\n",
       "      <th>4</th>\n",
       "      <td>6511.0</td>\n",
       "      <td>0.0</td>\n",
       "      <td>0</td>\n",
       "      <td>0.0</td>\n",
       "      <td>0.0</td>\n",
       "      <td>2</td>\n",
       "      <td>1.0</td>\n",
       "      <td>0.0</td>\n",
       "      <td>1.0</td>\n",
       "      <td>0.0</td>\n",
       "      <td>...</td>\n",
       "      <td>0.0</td>\n",
       "      <td>0.0</td>\n",
       "      <td>0.0</td>\n",
       "      <td>0.0</td>\n",
       "      <td>0.0</td>\n",
       "      <td>1.0</td>\n",
       "      <td>2.0</td>\n",
       "      <td>70.70</td>\n",
       "      <td>151.65</td>\n",
       "      <td>1.0</td>\n",
       "    </tr>\n",
       "    <tr>\n",
       "      <th>5</th>\n",
       "      <td>6551.0</td>\n",
       "      <td>0.0</td>\n",
       "      <td>0</td>\n",
       "      <td>0.0</td>\n",
       "      <td>0.0</td>\n",
       "      <td>8</td>\n",
       "      <td>1.0</td>\n",
       "      <td>2.0</td>\n",
       "      <td>1.0</td>\n",
       "      <td>0.0</td>\n",
       "      <td>...</td>\n",
       "      <td>2.0</td>\n",
       "      <td>0.0</td>\n",
       "      <td>2.0</td>\n",
       "      <td>2.0</td>\n",
       "      <td>0.0</td>\n",
       "      <td>1.0</td>\n",
       "      <td>2.0</td>\n",
       "      <td>99.65</td>\n",
       "      <td>820.50</td>\n",
       "      <td>1.0</td>\n",
       "    </tr>\n",
       "    <tr>\n",
       "      <th>6</th>\n",
       "      <td>1002.0</td>\n",
       "      <td>1.0</td>\n",
       "      <td>0</td>\n",
       "      <td>0.0</td>\n",
       "      <td>1.0</td>\n",
       "      <td>22</td>\n",
       "      <td>1.0</td>\n",
       "      <td>2.0</td>\n",
       "      <td>1.0</td>\n",
       "      <td>0.0</td>\n",
       "      <td>...</td>\n",
       "      <td>0.0</td>\n",
       "      <td>0.0</td>\n",
       "      <td>2.0</td>\n",
       "      <td>0.0</td>\n",
       "      <td>0.0</td>\n",
       "      <td>1.0</td>\n",
       "      <td>1.0</td>\n",
       "      <td>89.10</td>\n",
       "      <td>1949.40</td>\n",
       "      <td>0.0</td>\n",
       "    </tr>\n",
       "    <tr>\n",
       "      <th>...</th>\n",
       "      <td>...</td>\n",
       "      <td>...</td>\n",
       "      <td>...</td>\n",
       "      <td>...</td>\n",
       "      <td>...</td>\n",
       "      <td>...</td>\n",
       "      <td>...</td>\n",
       "      <td>...</td>\n",
       "      <td>...</td>\n",
       "      <td>...</td>\n",
       "      <td>...</td>\n",
       "      <td>...</td>\n",
       "      <td>...</td>\n",
       "      <td>...</td>\n",
       "      <td>...</td>\n",
       "      <td>...</td>\n",
       "      <td>...</td>\n",
       "      <td>...</td>\n",
       "      <td>...</td>\n",
       "      <td>...</td>\n",
       "      <td>...</td>\n",
       "    </tr>\n",
       "    <tr>\n",
       "      <th>7037</th>\n",
       "      <td>1758.0</td>\n",
       "      <td>0.0</td>\n",
       "      <td>0</td>\n",
       "      <td>0.0</td>\n",
       "      <td>0.0</td>\n",
       "      <td>72</td>\n",
       "      <td>1.0</td>\n",
       "      <td>0.0</td>\n",
       "      <td>2.0</td>\n",
       "      <td>1.0</td>\n",
       "      <td>...</td>\n",
       "      <td>1.0</td>\n",
       "      <td>1.0</td>\n",
       "      <td>1.0</td>\n",
       "      <td>1.0</td>\n",
       "      <td>2.0</td>\n",
       "      <td>1.0</td>\n",
       "      <td>0.0</td>\n",
       "      <td>21.15</td>\n",
       "      <td>1419.40</td>\n",
       "      <td>0.0</td>\n",
       "    </tr>\n",
       "    <tr>\n",
       "      <th>7038</th>\n",
       "      <td>4853.0</td>\n",
       "      <td>1.0</td>\n",
       "      <td>0</td>\n",
       "      <td>1.0</td>\n",
       "      <td>1.0</td>\n",
       "      <td>24</td>\n",
       "      <td>1.0</td>\n",
       "      <td>2.0</td>\n",
       "      <td>0.0</td>\n",
       "      <td>2.0</td>\n",
       "      <td>...</td>\n",
       "      <td>2.0</td>\n",
       "      <td>2.0</td>\n",
       "      <td>2.0</td>\n",
       "      <td>2.0</td>\n",
       "      <td>1.0</td>\n",
       "      <td>1.0</td>\n",
       "      <td>3.0</td>\n",
       "      <td>84.80</td>\n",
       "      <td>1990.50</td>\n",
       "      <td>0.0</td>\n",
       "    </tr>\n",
       "    <tr>\n",
       "      <th>7039</th>\n",
       "      <td>1525.0</td>\n",
       "      <td>0.0</td>\n",
       "      <td>0</td>\n",
       "      <td>1.0</td>\n",
       "      <td>1.0</td>\n",
       "      <td>72</td>\n",
       "      <td>1.0</td>\n",
       "      <td>2.0</td>\n",
       "      <td>1.0</td>\n",
       "      <td>0.0</td>\n",
       "      <td>...</td>\n",
       "      <td>2.0</td>\n",
       "      <td>0.0</td>\n",
       "      <td>2.0</td>\n",
       "      <td>2.0</td>\n",
       "      <td>1.0</td>\n",
       "      <td>1.0</td>\n",
       "      <td>1.0</td>\n",
       "      <td>103.20</td>\n",
       "      <td>7362.90</td>\n",
       "      <td>0.0</td>\n",
       "    </tr>\n",
       "    <tr>\n",
       "      <th>7041</th>\n",
       "      <td>5934.0</td>\n",
       "      <td>1.0</td>\n",
       "      <td>1</td>\n",
       "      <td>1.0</td>\n",
       "      <td>0.0</td>\n",
       "      <td>4</td>\n",
       "      <td>1.0</td>\n",
       "      <td>2.0</td>\n",
       "      <td>1.0</td>\n",
       "      <td>0.0</td>\n",
       "      <td>...</td>\n",
       "      <td>0.0</td>\n",
       "      <td>0.0</td>\n",
       "      <td>0.0</td>\n",
       "      <td>0.0</td>\n",
       "      <td>0.0</td>\n",
       "      <td>1.0</td>\n",
       "      <td>3.0</td>\n",
       "      <td>74.40</td>\n",
       "      <td>306.60</td>\n",
       "      <td>1.0</td>\n",
       "    </tr>\n",
       "    <tr>\n",
       "      <th>7042</th>\n",
       "      <td>2226.0</td>\n",
       "      <td>1.0</td>\n",
       "      <td>0</td>\n",
       "      <td>0.0</td>\n",
       "      <td>0.0</td>\n",
       "      <td>66</td>\n",
       "      <td>1.0</td>\n",
       "      <td>0.0</td>\n",
       "      <td>1.0</td>\n",
       "      <td>2.0</td>\n",
       "      <td>...</td>\n",
       "      <td>2.0</td>\n",
       "      <td>2.0</td>\n",
       "      <td>2.0</td>\n",
       "      <td>2.0</td>\n",
       "      <td>2.0</td>\n",
       "      <td>1.0</td>\n",
       "      <td>0.0</td>\n",
       "      <td>105.65</td>\n",
       "      <td>6844.50</td>\n",
       "      <td>0.0</td>\n",
       "    </tr>\n",
       "  </tbody>\n",
       "</table>\n",
       "<p>6361 rows × 21 columns</p>\n",
       "</div>"
      ],
      "text/plain": [
       "      customerID  gender  SeniorCitizen  Partner  Dependents  tenure  \\\n",
       "1         3962.0     1.0              0      0.0         0.0      34   \n",
       "2         2564.0     1.0              0      0.0         0.0       2   \n",
       "4         6511.0     0.0              0      0.0         0.0       2   \n",
       "5         6551.0     0.0              0      0.0         0.0       8   \n",
       "6         1002.0     1.0              0      0.0         1.0      22   \n",
       "...          ...     ...            ...      ...         ...     ...   \n",
       "7037      1758.0     0.0              0      0.0         0.0      72   \n",
       "7038      4853.0     1.0              0      1.0         1.0      24   \n",
       "7039      1525.0     0.0              0      1.0         1.0      72   \n",
       "7041      5934.0     1.0              1      1.0         0.0       4   \n",
       "7042      2226.0     1.0              0      0.0         0.0      66   \n",
       "\n",
       "      PhoneService  MultipleLines  InternetService  OnlineSecurity  ...  \\\n",
       "1              1.0            0.0              0.0             2.0  ...   \n",
       "2              1.0            0.0              0.0             2.0  ...   \n",
       "4              1.0            0.0              1.0             0.0  ...   \n",
       "5              1.0            2.0              1.0             0.0  ...   \n",
       "6              1.0            2.0              1.0             0.0  ...   \n",
       "...            ...            ...              ...             ...  ...   \n",
       "7037           1.0            0.0              2.0             1.0  ...   \n",
       "7038           1.0            2.0              0.0             2.0  ...   \n",
       "7039           1.0            2.0              1.0             0.0  ...   \n",
       "7041           1.0            2.0              1.0             0.0  ...   \n",
       "7042           1.0            0.0              1.0             2.0  ...   \n",
       "\n",
       "      DeviceProtection  TechSupport  StreamingTV  StreamingMovies  Contract  \\\n",
       "1                  2.0          0.0          0.0              0.0       1.0   \n",
       "2                  0.0          0.0          0.0              0.0       0.0   \n",
       "4                  0.0          0.0          0.0              0.0       0.0   \n",
       "5                  2.0          0.0          2.0              2.0       0.0   \n",
       "6                  0.0          0.0          2.0              0.0       0.0   \n",
       "...                ...          ...          ...              ...       ...   \n",
       "7037               1.0          1.0          1.0              1.0       2.0   \n",
       "7038               2.0          2.0          2.0              2.0       1.0   \n",
       "7039               2.0          0.0          2.0              2.0       1.0   \n",
       "7041               0.0          0.0          0.0              0.0       0.0   \n",
       "7042               2.0          2.0          2.0              2.0       2.0   \n",
       "\n",
       "      PaperlessBilling  PaymentMethod  MonthlyCharges  TotalCharges  Churn  \n",
       "1                  0.0            3.0           56.95       1889.50    0.0  \n",
       "2                  1.0            3.0           53.85        108.15    1.0  \n",
       "4                  1.0            2.0           70.70        151.65    1.0  \n",
       "5                  1.0            2.0           99.65        820.50    1.0  \n",
       "6                  1.0            1.0           89.10       1949.40    0.0  \n",
       "...                ...            ...             ...           ...    ...  \n",
       "7037               1.0            0.0           21.15       1419.40    0.0  \n",
       "7038               1.0            3.0           84.80       1990.50    0.0  \n",
       "7039               1.0            1.0          103.20       7362.90    0.0  \n",
       "7041               1.0            3.0           74.40        306.60    1.0  \n",
       "7042               1.0            0.0          105.65       6844.50    0.0  \n",
       "\n",
       "[6361 rows x 21 columns]"
      ]
     },
     "execution_count": 54,
     "metadata": {},
     "output_type": "execute_result"
    }
   ],
   "source": [
    "df_new_z=df[(z<3).all(axis=1)]\n",
    "df_new_z"
   ]
  },
  {
   "cell_type": "code",
   "execution_count": 55,
   "id": "1ac5851c",
   "metadata": {},
   "outputs": [
    {
     "data": {
      "text/plain": [
       "(6361, 21)"
      ]
     },
     "execution_count": 55,
     "metadata": {},
     "output_type": "execute_result"
    }
   ],
   "source": [
    "df_new_z.shape"
   ]
  },
  {
   "cell_type": "code",
   "execution_count": 56,
   "id": "c77ac5f7",
   "metadata": {},
   "outputs": [],
   "source": [
    "## Percentage Loss of data"
   ]
  },
  {
   "cell_type": "code",
   "execution_count": 57,
   "id": "4dc3c33c",
   "metadata": {},
   "outputs": [],
   "source": [
    "Data_loss=((7043-6361)/7043)*100"
   ]
  },
  {
   "cell_type": "code",
   "execution_count": 58,
   "id": "f220000d",
   "metadata": {},
   "outputs": [
    {
     "data": {
      "text/plain": [
       "9.683373562402386"
      ]
     },
     "execution_count": 58,
     "metadata": {},
     "output_type": "execute_result"
    }
   ],
   "source": [
    "Data_loss"
   ]
  },
  {
   "cell_type": "markdown",
   "id": "8fb464e6",
   "metadata": {},
   "source": [
    "Our data is becoming biased as it is not considering the case of Senior Citizen. So not removing Outliers"
   ]
  },
  {
   "cell_type": "markdown",
   "id": "a3f1013a",
   "metadata": {},
   "source": [
    "# Sepertating the columns into features and target"
   ]
  },
  {
   "cell_type": "code",
   "execution_count": 59,
   "id": "8aea378a",
   "metadata": {},
   "outputs": [],
   "source": [
    "feature=df.drop(\"TotalCharges\",axis=1)\n",
    "target=df['TotalCharges']"
   ]
  },
  {
   "cell_type": "markdown",
   "id": "a1949567",
   "metadata": {},
   "source": [
    "# Scaling the data using min_max scaling"
   ]
  },
  {
   "cell_type": "code",
   "execution_count": 60,
   "id": "5c4adee8",
   "metadata": {},
   "outputs": [],
   "source": [
    "from sklearn.preprocessing import MinMaxScaler\n",
    "mms= MinMaxScaler()\n",
    "from sklearn.linear_model import LinearRegression\n",
    "lr=LinearRegression()\n",
    "from sklearn.metrics import r2_score\n",
    "from sklearn.model_selection import train_test_split"
   ]
  },
  {
   "cell_type": "code",
   "execution_count": 61,
   "id": "0970da96",
   "metadata": {},
   "outputs": [],
   "source": [
    "import warnings\n",
    "warnings.filterwarnings('ignore')"
   ]
  },
  {
   "cell_type": "code",
   "execution_count": 62,
   "id": "46de17e7",
   "metadata": {},
   "outputs": [
    {
     "name": "stdout",
     "output_type": "stream",
     "text": [
      "At random state 0,the training accuracy is:- 0.9058706722803965\n",
      "At random state 0,the test accuracy is:- 0.8977317673785854\n",
      "\n",
      "\n",
      "At random state 1,the training accuracy is:- 0.9052277082152647\n",
      "At random state 1,the test accuracy is:- 0.9003132716690803\n",
      "\n",
      "\n",
      "At random state 2,the training accuracy is:- 0.9056858398935238\n",
      "At random state 2,the test accuracy is:- 0.8984735750686543\n",
      "\n",
      "\n",
      "At random state 3,the training accuracy is:- 0.9044956724241888\n",
      "At random state 3,the test accuracy is:- 0.9032713403489678\n",
      "\n",
      "\n",
      "At random state 4,the training accuracy is:- 0.9031354749784841\n",
      "At random state 4,the test accuracy is:- 0.9085937883962479\n",
      "\n",
      "\n",
      "At random state 5,the training accuracy is:- 0.9026338340566922\n",
      "At random state 5,the test accuracy is:- 0.9101290251842342\n",
      "\n",
      "\n",
      "At random state 6,the training accuracy is:- 0.9028087364691222\n",
      "At random state 6,the test accuracy is:- 0.9097783155230829\n",
      "\n",
      "\n",
      "At random state 7,the training accuracy is:- 0.9030731852162728\n",
      "At random state 7,the test accuracy is:- 0.9090152662295625\n",
      "\n",
      "\n",
      "At random state 8,the training accuracy is:- 0.9031695399147395\n",
      "At random state 8,the test accuracy is:- 0.90898402528887\n",
      "\n",
      "\n",
      "At random state 9,the training accuracy is:- 0.9034746951288706\n",
      "At random state 9,the test accuracy is:- 0.9074646730902044\n",
      "\n",
      "\n",
      "At random state 10,the training accuracy is:- 0.9039273530214657\n",
      "At random state 10,the test accuracy is:- 0.9057313444009284\n",
      "\n",
      "\n",
      "At random state 11,the training accuracy is:- 0.90416749132796\n",
      "At random state 11,the test accuracy is:- 0.904768680713289\n",
      "\n",
      "\n",
      "At random state 12,the training accuracy is:- 0.904295058479142\n",
      "At random state 12,the test accuracy is:- 0.9042173834952026\n",
      "\n",
      "\n",
      "At random state 13,the training accuracy is:- 0.9061128342153906\n",
      "At random state 13,the test accuracy is:- 0.897031636227697\n",
      "\n",
      "\n",
      "At random state 14,the training accuracy is:- 0.9032235219356887\n",
      "At random state 14,the test accuracy is:- 0.9085611847383553\n",
      "\n",
      "\n",
      "At random state 15,the training accuracy is:- 0.9036417240520397\n",
      "At random state 15,the test accuracy is:- 0.9065354335769835\n",
      "\n",
      "\n",
      "At random state 16,the training accuracy is:- 0.902513180979179\n",
      "At random state 16,the test accuracy is:- 0.910871863840758\n",
      "\n",
      "\n",
      "At random state 17,the training accuracy is:- 0.9029763238324856\n",
      "At random state 17,the test accuracy is:- 0.9090481298163142\n",
      "\n",
      "\n",
      "At random state 18,the training accuracy is:- 0.9040046108882651\n",
      "At random state 18,the test accuracy is:- 0.9053965803704587\n",
      "\n",
      "\n",
      "At random state 19,the training accuracy is:- 0.9034412311305086\n",
      "At random state 19,the test accuracy is:- 0.9074326529099017\n",
      "\n",
      "\n",
      "At random state 20,the training accuracy is:- 0.9038114387313897\n",
      "At random state 20,the test accuracy is:- 0.9061900564918883\n",
      "\n",
      "\n",
      "At random state 21,the training accuracy is:- 0.9052547201538726\n",
      "At random state 21,the test accuracy is:- 0.9001811940034148\n",
      "\n",
      "\n",
      "At random state 22,the training accuracy is:- 0.9048855878445041\n",
      "At random state 22,the test accuracy is:- 0.9016245686679341\n",
      "\n",
      "\n",
      "At random state 23,the training accuracy is:- 0.9059052667946395\n",
      "At random state 23,the test accuracy is:- 0.8976868590676574\n",
      "\n",
      "\n",
      "At random state 24,the training accuracy is:- 0.9053663827385406\n",
      "At random state 24,the test accuracy is:- 0.899719080201965\n",
      "\n",
      "\n",
      "At random state 25,the training accuracy is:- 0.903685000193504\n",
      "At random state 25,the test accuracy is:- 0.906599529628603\n",
      "\n",
      "\n",
      "At random state 26,the training accuracy is:- 0.9037524003267481\n",
      "At random state 26,the test accuracy is:- 0.9061850448849735\n",
      "\n",
      "\n",
      "At random state 27,the training accuracy is:- 0.9030722283453853\n",
      "At random state 27,the test accuracy is:- 0.9087578489908286\n",
      "\n",
      "\n",
      "At random state 28,the training accuracy is:- 0.9054780543804204\n",
      "At random state 28,the test accuracy is:- 0.8991985090730239\n",
      "\n",
      "\n",
      "At random state 29,the training accuracy is:- 0.9047235288114399\n",
      "At random state 29,the test accuracy is:- 0.9025044586744998\n",
      "\n",
      "\n",
      "At random state 30,the training accuracy is:- 0.9035962408729578\n",
      "At random state 30,the test accuracy is:- 0.9067861658008064\n",
      "\n",
      "\n",
      "At random state 31,the training accuracy is:- 0.9044003239480541\n",
      "At random state 31,the test accuracy is:- 0.903712562074893\n",
      "\n",
      "\n",
      "At random state 32,the training accuracy is:- 0.9028047145643671\n",
      "At random state 32,the test accuracy is:- 0.9098566404249447\n",
      "\n",
      "\n",
      "At random state 33,the training accuracy is:- 0.9047735766069083\n",
      "At random state 33,the test accuracy is:- 0.9021133188918244\n",
      "\n",
      "\n",
      "At random state 34,the training accuracy is:- 0.9049786467757772\n",
      "At random state 34,the test accuracy is:- 0.9011095018903078\n",
      "\n",
      "\n",
      "At random state 35,the training accuracy is:- 0.9037330831087504\n",
      "At random state 35,the test accuracy is:- 0.905903201158931\n",
      "\n",
      "\n",
      "At random state 36,the training accuracy is:- 0.9040782338670283\n",
      "At random state 36,the test accuracy is:- 0.9049467803295627\n",
      "\n",
      "\n",
      "At random state 37,the training accuracy is:- 0.9049346713834419\n",
      "At random state 37,the test accuracy is:- 0.9017136587653213\n",
      "\n",
      "\n",
      "At random state 38,the training accuracy is:- 0.9043316704545361\n",
      "At random state 38,the test accuracy is:- 0.9039556111083564\n",
      "\n",
      "\n",
      "At random state 39,the training accuracy is:- 0.9057209215860212\n",
      "At random state 39,the test accuracy is:- 0.8981082476351732\n",
      "\n",
      "\n",
      "At random state 40,the training accuracy is:- 0.9043830357530264\n",
      "At random state 40,the test accuracy is:- 0.9036195276240676\n",
      "\n",
      "\n",
      "At random state 41,the training accuracy is:- 0.9061788339663605\n",
      "At random state 41,the test accuracy is:- 0.8952155358316556\n",
      "\n",
      "\n",
      "At random state 42,the training accuracy is:- 0.9042763981184584\n",
      "At random state 42,the test accuracy is:- 0.9043375885852347\n",
      "\n",
      "\n",
      "At random state 43,the training accuracy is:- 0.9041690353549867\n",
      "At random state 43,the test accuracy is:- 0.904677748523788\n",
      "\n",
      "\n",
      "At random state 44,the training accuracy is:- 0.9048407302717054\n",
      "At random state 44,the test accuracy is:- 0.9019029244635622\n",
      "\n",
      "\n",
      "At random state 45,the training accuracy is:- 0.9030056669158852\n",
      "At random state 45,the test accuracy is:- 0.909108715874396\n",
      "\n",
      "\n",
      "At random state 46,the training accuracy is:- 0.9024053251978693\n",
      "At random state 46,the test accuracy is:- 0.911608672200972\n",
      "\n",
      "\n",
      "At random state 47,the training accuracy is:- 0.9043177434505593\n",
      "At random state 47,the test accuracy is:- 0.9040394943062147\n",
      "\n",
      "\n",
      "At random state 48,the training accuracy is:- 0.9052833528349797\n",
      "At random state 48,the test accuracy is:- 0.900168337535729\n",
      "\n",
      "\n",
      "At random state 49,the training accuracy is:- 0.9040309769515148\n",
      "At random state 49,the test accuracy is:- 0.9053309511030214\n",
      "\n",
      "\n",
      "At random state 50,the training accuracy is:- 0.9041430357670286\n",
      "At random state 50,the test accuracy is:- 0.9046230242503388\n",
      "\n",
      "\n",
      "At random state 51,the training accuracy is:- 0.9050791909207965\n",
      "At random state 51,the test accuracy is:- 0.9009062115764116\n",
      "\n",
      "\n",
      "At random state 52,the training accuracy is:- 0.9057472494605133\n",
      "At random state 52,the test accuracy is:- 0.8979747318915885\n",
      "\n",
      "\n",
      "At random state 53,the training accuracy is:- 0.9038687373130406\n",
      "At random state 53,the test accuracy is:- 0.9058118603722989\n",
      "\n",
      "\n",
      "At random state 54,the training accuracy is:- 0.9041451902842421\n",
      "At random state 54,the test accuracy is:- 0.9049260764058584\n",
      "\n",
      "\n",
      "At random state 55,the training accuracy is:- 0.9048038386573602\n",
      "At random state 55,the test accuracy is:- 0.9019163290729311\n",
      "\n",
      "\n",
      "At random state 56,the training accuracy is:- 0.9032698863946899\n",
      "At random state 56,the test accuracy is:- 0.9081499952718461\n",
      "\n",
      "\n",
      "At random state 57,the training accuracy is:- 0.9040159421826726\n",
      "At random state 57,the test accuracy is:- 0.9052917838090727\n",
      "\n",
      "\n",
      "At random state 58,the training accuracy is:- 0.9049232212627426\n",
      "At random state 58,the test accuracy is:- 0.9016846424626671\n",
      "\n",
      "\n",
      "At random state 59,the training accuracy is:- 0.9040039362281472\n",
      "At random state 59,the test accuracy is:- 0.9052270944903531\n",
      "\n",
      "\n",
      "At random state 60,the training accuracy is:- 0.9040991531443305\n",
      "At random state 60,the test accuracy is:- 0.9050528820107001\n",
      "\n",
      "\n",
      "At random state 61,the training accuracy is:- 0.9040256222312663\n",
      "At random state 61,the test accuracy is:- 0.9053914732775237\n",
      "\n",
      "\n",
      "At random state 62,the training accuracy is:- 0.9049700265530702\n",
      "At random state 62,the test accuracy is:- 0.9014150456937692\n",
      "\n",
      "\n",
      "At random state 63,the training accuracy is:- 0.9048964501700321\n",
      "At random state 63,the test accuracy is:- 0.9014758874088666\n",
      "\n",
      "\n",
      "At random state 64,the training accuracy is:- 0.9045170165947284\n",
      "At random state 64,the test accuracy is:- 0.9031967303238562\n",
      "\n",
      "\n",
      "At random state 65,the training accuracy is:- 0.9045009415426984\n",
      "At random state 65,the test accuracy is:- 0.9032852823020271\n",
      "\n",
      "\n",
      "At random state 66,the training accuracy is:- 0.9064055684861096\n",
      "At random state 66,the test accuracy is:- 0.8953698509727254\n",
      "\n",
      "\n",
      "At random state 67,the training accuracy is:- 0.9057993770221395\n",
      "At random state 67,the test accuracy is:- 0.898050834773779\n",
      "\n",
      "\n",
      "At random state 68,the training accuracy is:- 0.9044724983486806\n",
      "At random state 68,the test accuracy is:- 0.9035221768135269\n",
      "\n",
      "\n",
      "At random state 69,the training accuracy is:- 0.90348558752445\n",
      "At random state 69,the test accuracy is:- 0.9071884489486348\n",
      "\n",
      "\n",
      "At random state 70,the training accuracy is:- 0.9054404384519646\n",
      "At random state 70,the test accuracy is:- 0.8992328133130174\n",
      "\n",
      "\n",
      "At random state 71,the training accuracy is:- 0.9048853138919165\n",
      "At random state 71,the test accuracy is:- 0.901927424405518\n",
      "\n",
      "\n",
      "At random state 72,the training accuracy is:- 0.9037795522356794\n",
      "At random state 72,the test accuracy is:- 0.9060130441686693\n",
      "\n",
      "\n",
      "At random state 73,the training accuracy is:- 0.9043793318277787\n",
      "At random state 73,the test accuracy is:- 0.9038411202507999\n",
      "\n",
      "\n",
      "At random state 74,the training accuracy is:- 0.9033485778029403\n",
      "At random state 74,the test accuracy is:- 0.9074051047090448\n",
      "\n",
      "\n",
      "At random state 75,the training accuracy is:- 0.9057119465169854\n",
      "At random state 75,the test accuracy is:- 0.8976818783186071\n",
      "\n",
      "\n",
      "At random state 76,the training accuracy is:- 0.9051003915397745\n",
      "At random state 76,the test accuracy is:- 0.9010244334140172\n",
      "\n",
      "\n",
      "At random state 77,the training accuracy is:- 0.9034097271922368\n",
      "At random state 77,the test accuracy is:- 0.9074913676761285\n",
      "\n",
      "\n",
      "At random state 78,the training accuracy is:- 0.905987042620559\n",
      "At random state 78,the test accuracy is:- 0.8970084184465956\n",
      "\n",
      "\n",
      "At random state 79,the training accuracy is:- 0.9043756629933156\n",
      "At random state 79,the test accuracy is:- 0.9036897034456826\n",
      "\n",
      "\n",
      "At random state 80,the training accuracy is:- 0.9053112833890031\n",
      "At random state 80,the test accuracy is:- 0.9002320463451685\n",
      "\n",
      "\n",
      "At random state 81,the training accuracy is:- 0.9028680398042733\n",
      "At random state 81,the test accuracy is:- 0.9098705450239994\n",
      "\n",
      "\n",
      "At random state 82,the training accuracy is:- 0.9037206884943083\n",
      "At random state 82,the test accuracy is:- 0.9063213748017843\n",
      "\n",
      "\n",
      "At random state 83,the training accuracy is:- 0.9042451140153229\n",
      "At random state 83,the test accuracy is:- 0.9041776566705203\n",
      "\n",
      "\n",
      "At random state 84,the training accuracy is:- 0.9042650538479906\n",
      "At random state 84,the test accuracy is:- 0.9039071924779171\n",
      "\n",
      "\n",
      "At random state 85,the training accuracy is:- 0.9038522237073595\n",
      "At random state 85,the test accuracy is:- 0.9058382750965496\n",
      "\n",
      "\n",
      "At random state 86,the training accuracy is:- 0.90572692459061\n",
      "At random state 86,the test accuracy is:- 0.8984555261710994\n",
      "\n",
      "\n",
      "At random state 87,the training accuracy is:- 0.905477719618739\n",
      "At random state 87,the test accuracy is:- 0.8988482887032028\n",
      "\n",
      "\n",
      "At random state 88,the training accuracy is:- 0.9047030889566885\n",
      "At random state 88,the test accuracy is:- 0.9024957406033969\n",
      "\n",
      "\n",
      "At random state 89,the training accuracy is:- 0.9045420586102183\n",
      "At random state 89,the test accuracy is:- 0.9031864925483946\n",
      "\n",
      "\n",
      "At random state 90,the training accuracy is:- 0.9048069320572603\n",
      "At random state 90,the test accuracy is:- 0.9022157368686377\n",
      "\n",
      "\n",
      "At random state 91,the training accuracy is:- 0.9049367064481671\n",
      "At random state 91,the test accuracy is:- 0.9013048820312388\n",
      "\n",
      "\n",
      "At random state 92,the training accuracy is:- 0.9042675540815928\n",
      "At random state 92,the test accuracy is:- 0.9043618095945535\n",
      "\n",
      "\n",
      "At random state 93,the training accuracy is:- 0.9042303863846126\n",
      "At random state 93,the test accuracy is:- 0.9044657307246111\n",
      "\n",
      "\n",
      "At random state 94,the training accuracy is:- 0.9053735146691095\n",
      "At random state 94,the test accuracy is:- 0.8995056721418931\n",
      "\n",
      "\n",
      "At random state 95,the training accuracy is:- 0.9037717180603756\n",
      "At random state 95,the test accuracy is:- 0.9062435677509014\n",
      "\n",
      "\n",
      "At random state 96,the training accuracy is:- 0.9033742333995305\n",
      "At random state 96,the test accuracy is:- 0.9076253111656026\n",
      "\n",
      "\n",
      "At random state 97,the training accuracy is:- 0.9048874762725879\n",
      "At random state 97,the test accuracy is:- 0.9018859022273354\n",
      "\n",
      "\n",
      "At random state 98,the training accuracy is:- 0.9039706568500258\n",
      "At random state 98,the test accuracy is:- 0.90546308124478\n",
      "\n",
      "\n",
      "At random state 99,the training accuracy is:- 0.9034341582897005\n",
      "At random state 99,the test accuracy is:- 0.907603041316329\n",
      "\n",
      "\n"
     ]
    }
   ],
   "source": [
    "for i in range(0,100):\n",
    "    feature_train,feature_test,target_train,target_test = train_test_split(feature,target,test_size=0.2,random_state=i)\n",
    "    lr.fit(feature_train,target_train)\n",
    "    pred_train = lr.predict(feature_train)\n",
    "    pred_test = lr.predict(feature_test)\n",
    "    print(f\"At random state {i},the training accuracy is:- {r2_score(target_train,pred_train)}\")\n",
    "    print(f\"At random state {i},the test accuracy is:- {r2_score(target_test,pred_test)}\")\n",
    "    print(\"\\n\")"
   ]
  },
  {
   "cell_type": "code",
   "execution_count": 63,
   "id": "ab12a301",
   "metadata": {},
   "outputs": [],
   "source": [
    "feature_train,feature_test,target_train,target_test = train_test_split(feature,target,test_size=0.2,random_state=12)"
   ]
  },
  {
   "cell_type": "code",
   "execution_count": 64,
   "id": "4e3a042f",
   "metadata": {},
   "outputs": [
    {
     "data": {
      "text/plain": [
       "LinearRegression()"
      ]
     },
     "execution_count": 64,
     "metadata": {},
     "output_type": "execute_result"
    }
   ],
   "source": [
    " lr.fit(feature_train,target_train)"
   ]
  },
  {
   "cell_type": "code",
   "execution_count": 65,
   "id": "3b3a2b4a",
   "metadata": {},
   "outputs": [],
   "source": [
    "pred_test= lr.predict(feature_test)"
   ]
  },
  {
   "cell_type": "code",
   "execution_count": 66,
   "id": "8589c062",
   "metadata": {},
   "outputs": [
    {
     "name": "stdout",
     "output_type": "stream",
     "text": [
      "0.9042173834952026\n"
     ]
    }
   ],
   "source": [
    "print(r2_score(target_test,pred_test))"
   ]
  },
  {
   "cell_type": "markdown",
   "id": "50f5ba2b",
   "metadata": {},
   "source": [
    "# Cross validation of the model"
   ]
  },
  {
   "cell_type": "code",
   "execution_count": 67,
   "id": "7f22030d",
   "metadata": {},
   "outputs": [],
   "source": [
    "Train_accuracy=r2_score(target_train,pred_train)\n",
    "Test_accuracy=r2_score(target_test,pred_test)"
   ]
  },
  {
   "cell_type": "code",
   "execution_count": 68,
   "id": "dac3e291",
   "metadata": {},
   "outputs": [
    {
     "name": "stdout",
     "output_type": "stream",
     "text": [
      "At cross fold 2 the cv score is 0.9033382537767014 and accuracyscore for training is-0.8911218980191129 and accuracy for testing is0.9042173834952026\n",
      "\n",
      "\n",
      "At cross fold 3 the cv score is 0.9037012261875313 and accuracyscore for training is-0.8911218980191129 and accuracy for testing is0.9042173834952026\n",
      "\n",
      "\n",
      "At cross fold 4 the cv score is 0.9037044584134895 and accuracyscore for training is-0.8911218980191129 and accuracy for testing is0.9042173834952026\n",
      "\n",
      "\n",
      "At cross fold 5 the cv score is 0.9036665825623267 and accuracyscore for training is-0.8911218980191129 and accuracy for testing is0.9042173834952026\n",
      "\n",
      "\n",
      "At cross fold 6 the cv score is 0.9037349024389357 and accuracyscore for training is-0.8911218980191129 and accuracy for testing is0.9042173834952026\n",
      "\n",
      "\n",
      "At cross fold 7 the cv score is 0.9035677539347997 and accuracyscore for training is-0.8911218980191129 and accuracy for testing is0.9042173834952026\n",
      "\n",
      "\n",
      "At cross fold 8 the cv score is 0.9035565941557734 and accuracyscore for training is-0.8911218980191129 and accuracy for testing is0.9042173834952026\n",
      "\n",
      "\n",
      "At cross fold 9 the cv score is 0.9036018659661281 and accuracyscore for training is-0.8911218980191129 and accuracy for testing is0.9042173834952026\n",
      "\n",
      "\n"
     ]
    }
   ],
   "source": [
    "from sklearn.model_selection import cross_val_score\n",
    "for j in range(2,10):\n",
    "    cv_score= cross_val_score(lr,feature,target,cv=j)\n",
    "    cv_mean=cv_score.mean()\n",
    "    print(f\"At cross fold {j} the cv score is {cv_mean} and accuracyscore for training is{Train_accuracy} and accuracy for testing is{Test_accuracy}\")\n",
    "    print(\"\\n\")"
   ]
  },
  {
   "cell_type": "markdown",
   "id": "f675e0bd",
   "metadata": {},
   "source": [
    "Since number of folds don't have much impact on accuracy and cv_score. S cv=5 selected"
   ]
  },
  {
   "cell_type": "code",
   "execution_count": 69,
   "id": "a9406571",
   "metadata": {},
   "outputs": [
    {
     "data": {
      "image/png": "[encoded data removed]",
      "text/plain": [
       "<Figure size 576x432 with 1 Axes>"
      ]
     },
     "metadata": {
      "needs_background": "light"
     },
     "output_type": "display_data"
    }
   ],
   "source": [
    "import matplotlib.pyplot as plt\n",
    "plt.figure(figsize=(8,6))\n",
    "plt.scatter(x=target_test, y=pred_test,color='c')\n",
    "plt.scatter(target_test,target_test,color='black')\n",
    "plt.xlabel('Actual charges',fontsize=14)\n",
    "plt.ylabel('Predicted charges',fontsize=14)\n",
    "plt.title('linear Regression',fontsize=18)\n",
    "plt.show()\n"
   ]
  },
  {
   "cell_type": "markdown",
   "id": "7c560dc1",
   "metadata": {},
   "source": [
    "# Ensemble"
   ]
  },
  {
   "cell_type": "code",
   "execution_count": 70,
   "id": "6ddde77a",
   "metadata": {},
   "outputs": [],
   "source": [
    "from sklearn.model_selection import GridSearchCV\n",
    "from sklearn.ensemble import RandomForestRegressor"
   ]
  },
  {
   "cell_type": "code",
   "execution_count": 71,
   "id": "ee28f470",
   "metadata": {},
   "outputs": [
    {
     "name": "stdout",
     "output_type": "stream",
     "text": [
      "{'criterion': 'mse', 'max_features': 'auto'}\n"
     ]
    }
   ],
   "source": [
    "parameters = {'criterion':['mse','mae'],'max_features':['auto','sqrt','log2']}\n",
    "rf = RandomForestRegressor()\n",
    "clf = GridSearchCV(rf,parameters)\n",
    "clf.fit(feature_train,target_train)\n",
    "print(clf.best_params_)\n",
    "      "
   ]
  },
  {
   "cell_type": "code",
   "execution_count": 72,
   "id": "e416e791",
   "metadata": {},
   "outputs": [
    {
     "name": "stdout",
     "output_type": "stream",
     "text": [
      "R2 Score: 99.88510097466653\n",
      "Cross validation score: 99.87211593168495\n"
     ]
    }
   ],
   "source": [
    "rf= RandomForestRegressor()\n",
    "rf.fit(feature_train,target_train)\n",
    "rf.score(feature_train,target_train)\n",
    "pred_decision = rf.predict(feature_test)\n",
    "\n",
    "rfs= r2_score(target_test,pred_decision)\n",
    "print('R2 Score:',rfs*100)\n",
    "\n",
    "rfscore = cross_val_score(rf,feature,target,cv=5)\n",
    "rfc = rfscore.mean()\n",
    "print('Cross validation score:',rfc*100)"
   ]
  },
  {
   "cell_type": "markdown",
   "id": "43ad4b44",
   "metadata": {},
   "source": [
    "getting accuracy and cross validation boyh as 99.8% which shows that the model is performing is performing extremely well"
   ]
  },
  {
   "cell_type": "markdown",
   "id": "f72445b9",
   "metadata": {},
   "source": [
    "Hence no need for hyperparameter tuning"
   ]
  },
  {
   "cell_type": "code",
   "execution_count": 73,
   "id": "46c3a9eb",
   "metadata": {},
   "outputs": [],
   "source": [
    "import pickle\n",
    "filename = 'Churn.pkl'\n",
    "pickle.dump(rf, open(filename, 'wb'))"
   ]
  }
 ],
 "metadata": {
  "kernelspec": {
   "display_name": "Python 3 (ipykernel)",
   "language": "python",
   "name": "python3"
  },
  "language_info": {
   "codemirror_mode": {
    "name": "ipython",
    "version": 3
   },
   "file_extension": ".py",
   "mimetype": "text/x-python",
   "name": "python",
   "nbconvert_exporter": "python",
   "pygments_lexer": "ipython3",
   "version": "3.9.7"
  }
 },
 "nbformat": 4,
 "nbformat_minor": 5
}
