{
 "cells": [
  {
   "cell_type": "markdown",
   "id": "eb94ec30",
   "metadata": {},
   "source": [
    "# Wine Quality "
   ]
  },
  {
   "cell_type": "code",
   "execution_count": 1,
   "id": "9e3e6018",
   "metadata": {},
   "outputs": [],
   "source": [
    "import pandas as pd \n",
    "import numpy as np\n",
    "import matplotlib.pyplot as plt\n",
    "import seaborn as sns\n",
    "\n",
    "import warnings\n",
    "warnings.filterwarnings('ignore')"
   ]
  },
  {
   "cell_type": "code",
   "execution_count": 2,
   "id": "87839294",
   "metadata": {},
   "outputs": [],
   "source": [
    "df=pd.read_csv(r\"C:\\Users\\SC\\Downloads\\winequality-red.csv\")"
   ]
  },
  {
   "cell_type": "code",
   "execution_count": 3,
   "id": "9e8850a2",
   "metadata": {},
   "outputs": [
    {
     "data": {
      "text/html": [
       "<div>\n",
       "<style scoped>\n",
       "    .dataframe tbody tr th:only-of-type {\n",
       "        vertical-align: middle;\n",
       "    }\n",
       "\n",
       "    .dataframe tbody tr th {\n",
       "        vertical-align: top;\n",
       "    }\n",
       "\n",
       "    .dataframe thead th {\n",
       "        text-align: right;\n",
       "    }\n",
       "</style>\n",
       "<table border=\"1\" class=\"dataframe\">\n",
       "  <thead>\n",
       "    <tr style=\"text-align: right;\">\n",
       "      <th></th>\n",
       "      <th>fixed acidity</th>\n",
       "      <th>volatile acidity</th>\n",
       "      <th>citric acid</th>\n",
       "      <th>residual sugar</th>\n",
       "      <th>chlorides</th>\n",
       "      <th>free sulfur dioxide</th>\n",
       "      <th>total sulfur dioxide</th>\n",
       "      <th>density</th>\n",
       "      <th>pH</th>\n",
       "      <th>sulphates</th>\n",
       "      <th>alcohol</th>\n",
       "      <th>quality</th>\n",
       "    </tr>\n",
       "  </thead>\n",
       "  <tbody>\n",
       "    <tr>\n",
       "      <th>0</th>\n",
       "      <td>7.4</td>\n",
       "      <td>0.70</td>\n",
       "      <td>0.00</td>\n",
       "      <td>1.9</td>\n",
       "      <td>0.076</td>\n",
       "      <td>11.0</td>\n",
       "      <td>34.0</td>\n",
       "      <td>0.9978</td>\n",
       "      <td>3.51</td>\n",
       "      <td>0.56</td>\n",
       "      <td>9.4</td>\n",
       "      <td>5</td>\n",
       "    </tr>\n",
       "    <tr>\n",
       "      <th>1</th>\n",
       "      <td>7.8</td>\n",
       "      <td>0.88</td>\n",
       "      <td>0.00</td>\n",
       "      <td>2.6</td>\n",
       "      <td>0.098</td>\n",
       "      <td>25.0</td>\n",
       "      <td>67.0</td>\n",
       "      <td>0.9968</td>\n",
       "      <td>3.20</td>\n",
       "      <td>0.68</td>\n",
       "      <td>9.8</td>\n",
       "      <td>5</td>\n",
       "    </tr>\n",
       "    <tr>\n",
       "      <th>2</th>\n",
       "      <td>7.8</td>\n",
       "      <td>0.76</td>\n",
       "      <td>0.04</td>\n",
       "      <td>2.3</td>\n",
       "      <td>0.092</td>\n",
       "      <td>15.0</td>\n",
       "      <td>54.0</td>\n",
       "      <td>0.9970</td>\n",
       "      <td>3.26</td>\n",
       "      <td>0.65</td>\n",
       "      <td>9.8</td>\n",
       "      <td>5</td>\n",
       "    </tr>\n",
       "    <tr>\n",
       "      <th>3</th>\n",
       "      <td>11.2</td>\n",
       "      <td>0.28</td>\n",
       "      <td>0.56</td>\n",
       "      <td>1.9</td>\n",
       "      <td>0.075</td>\n",
       "      <td>17.0</td>\n",
       "      <td>60.0</td>\n",
       "      <td>0.9980</td>\n",
       "      <td>3.16</td>\n",
       "      <td>0.58</td>\n",
       "      <td>9.8</td>\n",
       "      <td>6</td>\n",
       "    </tr>\n",
       "    <tr>\n",
       "      <th>4</th>\n",
       "      <td>7.4</td>\n",
       "      <td>0.70</td>\n",
       "      <td>0.00</td>\n",
       "      <td>1.9</td>\n",
       "      <td>0.076</td>\n",
       "      <td>11.0</td>\n",
       "      <td>34.0</td>\n",
       "      <td>0.9978</td>\n",
       "      <td>3.51</td>\n",
       "      <td>0.56</td>\n",
       "      <td>9.4</td>\n",
       "      <td>5</td>\n",
       "    </tr>\n",
       "    <tr>\n",
       "      <th>5</th>\n",
       "      <td>7.4</td>\n",
       "      <td>0.66</td>\n",
       "      <td>0.00</td>\n",
       "      <td>1.8</td>\n",
       "      <td>0.075</td>\n",
       "      <td>13.0</td>\n",
       "      <td>40.0</td>\n",
       "      <td>0.9978</td>\n",
       "      <td>3.51</td>\n",
       "      <td>0.56</td>\n",
       "      <td>9.4</td>\n",
       "      <td>5</td>\n",
       "    </tr>\n",
       "    <tr>\n",
       "      <th>6</th>\n",
       "      <td>7.9</td>\n",
       "      <td>0.60</td>\n",
       "      <td>0.06</td>\n",
       "      <td>1.6</td>\n",
       "      <td>0.069</td>\n",
       "      <td>15.0</td>\n",
       "      <td>59.0</td>\n",
       "      <td>0.9964</td>\n",
       "      <td>3.30</td>\n",
       "      <td>0.46</td>\n",
       "      <td>9.4</td>\n",
       "      <td>5</td>\n",
       "    </tr>\n",
       "    <tr>\n",
       "      <th>7</th>\n",
       "      <td>7.3</td>\n",
       "      <td>0.65</td>\n",
       "      <td>0.00</td>\n",
       "      <td>1.2</td>\n",
       "      <td>0.065</td>\n",
       "      <td>15.0</td>\n",
       "      <td>21.0</td>\n",
       "      <td>0.9946</td>\n",
       "      <td>3.39</td>\n",
       "      <td>0.47</td>\n",
       "      <td>10.0</td>\n",
       "      <td>7</td>\n",
       "    </tr>\n",
       "    <tr>\n",
       "      <th>8</th>\n",
       "      <td>7.8</td>\n",
       "      <td>0.58</td>\n",
       "      <td>0.02</td>\n",
       "      <td>2.0</td>\n",
       "      <td>0.073</td>\n",
       "      <td>9.0</td>\n",
       "      <td>18.0</td>\n",
       "      <td>0.9968</td>\n",
       "      <td>3.36</td>\n",
       "      <td>0.57</td>\n",
       "      <td>9.5</td>\n",
       "      <td>7</td>\n",
       "    </tr>\n",
       "    <tr>\n",
       "      <th>9</th>\n",
       "      <td>7.5</td>\n",
       "      <td>0.50</td>\n",
       "      <td>0.36</td>\n",
       "      <td>6.1</td>\n",
       "      <td>0.071</td>\n",
       "      <td>17.0</td>\n",
       "      <td>102.0</td>\n",
       "      <td>0.9978</td>\n",
       "      <td>3.35</td>\n",
       "      <td>0.80</td>\n",
       "      <td>10.5</td>\n",
       "      <td>5</td>\n",
       "    </tr>\n",
       "  </tbody>\n",
       "</table>\n",
       "</div>"
      ],
      "text/plain": [
       "   fixed acidity  volatile acidity  citric acid  residual sugar  chlorides  \\\n",
       "0            7.4              0.70         0.00             1.9      0.076   \n",
       "1            7.8              0.88         0.00             2.6      0.098   \n",
       "2            7.8              0.76         0.04             2.3      0.092   \n",
       "3           11.2              0.28         0.56             1.9      0.075   \n",
       "4            7.4              0.70         0.00             1.9      0.076   \n",
       "5            7.4              0.66         0.00             1.8      0.075   \n",
       "6            7.9              0.60         0.06             1.6      0.069   \n",
       "7            7.3              0.65         0.00             1.2      0.065   \n",
       "8            7.8              0.58         0.02             2.0      0.073   \n",
       "9            7.5              0.50         0.36             6.1      0.071   \n",
       "\n",
       "   free sulfur dioxide  total sulfur dioxide  density    pH  sulphates  \\\n",
       "0                 11.0                  34.0   0.9978  3.51       0.56   \n",
       "1                 25.0                  67.0   0.9968  3.20       0.68   \n",
       "2                 15.0                  54.0   0.9970  3.26       0.65   \n",
       "3                 17.0                  60.0   0.9980  3.16       0.58   \n",
       "4                 11.0                  34.0   0.9978  3.51       0.56   \n",
       "5                 13.0                  40.0   0.9978  3.51       0.56   \n",
       "6                 15.0                  59.0   0.9964  3.30       0.46   \n",
       "7                 15.0                  21.0   0.9946  3.39       0.47   \n",
       "8                  9.0                  18.0   0.9968  3.36       0.57   \n",
       "9                 17.0                 102.0   0.9978  3.35       0.80   \n",
       "\n",
       "   alcohol  quality  \n",
       "0      9.4        5  \n",
       "1      9.8        5  \n",
       "2      9.8        5  \n",
       "3      9.8        6  \n",
       "4      9.4        5  \n",
       "5      9.4        5  \n",
       "6      9.4        5  \n",
       "7     10.0        7  \n",
       "8      9.5        7  \n",
       "9     10.5        5  "
      ]
     },
     "execution_count": 3,
     "metadata": {},
     "output_type": "execute_result"
    }
   ],
   "source": [
    "df.head(10)"
   ]
  },
  {
   "cell_type": "code",
   "execution_count": 4,
   "id": "536acd8c",
   "metadata": {},
   "outputs": [
    {
     "data": {
      "text/plain": [
       "(1599, 12)"
      ]
     },
     "execution_count": 4,
     "metadata": {},
     "output_type": "execute_result"
    }
   ],
   "source": [
    "df.shape"
   ]
  },
  {
   "cell_type": "code",
   "execution_count": 5,
   "id": "b5dabee0",
   "metadata": {},
   "outputs": [
    {
     "data": {
      "text/plain": [
       "fixed acidity           0\n",
       "volatile acidity        0\n",
       "citric acid             0\n",
       "residual sugar          0\n",
       "chlorides               0\n",
       "free sulfur dioxide     0\n",
       "total sulfur dioxide    0\n",
       "density                 0\n",
       "pH                      0\n",
       "sulphates               0\n",
       "alcohol                 0\n",
       "quality                 0\n",
       "dtype: int64"
      ]
     },
     "execution_count": 5,
     "metadata": {},
     "output_type": "execute_result"
    }
   ],
   "source": [
    "df.isnull().sum()"
   ]
  },
  {
   "cell_type": "code",
   "execution_count": 6,
   "id": "1b8efb95",
   "metadata": {},
   "outputs": [
    {
     "name": "stdout",
     "output_type": "stream",
     "text": [
      "<class 'pandas.core.frame.DataFrame'>\n",
      "RangeIndex: 1599 entries, 0 to 1598\n",
      "Data columns (total 12 columns):\n",
      " #   Column                Non-Null Count  Dtype  \n",
      "---  ------                --------------  -----  \n",
      " 0   fixed acidity         1599 non-null   float64\n",
      " 1   volatile acidity      1599 non-null   float64\n",
      " 2   citric acid           1599 non-null   float64\n",
      " 3   residual sugar        1599 non-null   float64\n",
      " 4   chlorides             1599 non-null   float64\n",
      " 5   free sulfur dioxide   1599 non-null   float64\n",
      " 6   total sulfur dioxide  1599 non-null   float64\n",
      " 7   density               1599 non-null   float64\n",
      " 8   pH                    1599 non-null   float64\n",
      " 9   sulphates             1599 non-null   float64\n",
      " 10  alcohol               1599 non-null   float64\n",
      " 11  quality               1599 non-null   int64  \n",
      "dtypes: float64(11), int64(1)\n",
      "memory usage: 150.0 KB\n"
     ]
    }
   ],
   "source": [
    "df.info()"
   ]
  },
  {
   "cell_type": "code",
   "execution_count": 7,
   "id": "57b87f6d",
   "metadata": {},
   "outputs": [
    {
     "data": {
      "text/html": [
       "<div>\n",
       "<style scoped>\n",
       "    .dataframe tbody tr th:only-of-type {\n",
       "        vertical-align: middle;\n",
       "    }\n",
       "\n",
       "    .dataframe tbody tr th {\n",
       "        vertical-align: top;\n",
       "    }\n",
       "\n",
       "    .dataframe thead th {\n",
       "        text-align: right;\n",
       "    }\n",
       "</style>\n",
       "<table border=\"1\" class=\"dataframe\">\n",
       "  <thead>\n",
       "    <tr style=\"text-align: right;\">\n",
       "      <th></th>\n",
       "      <th>count</th>\n",
       "      <th>mean</th>\n",
       "      <th>std</th>\n",
       "      <th>min</th>\n",
       "      <th>25%</th>\n",
       "      <th>50%</th>\n",
       "      <th>75%</th>\n",
       "      <th>max</th>\n",
       "    </tr>\n",
       "  </thead>\n",
       "  <tbody>\n",
       "    <tr>\n",
       "      <th>fixed acidity</th>\n",
       "      <td>1599.0</td>\n",
       "      <td>8.319637</td>\n",
       "      <td>1.741096</td>\n",
       "      <td>4.60000</td>\n",
       "      <td>7.1000</td>\n",
       "      <td>7.90000</td>\n",
       "      <td>9.200000</td>\n",
       "      <td>15.90000</td>\n",
       "    </tr>\n",
       "    <tr>\n",
       "      <th>volatile acidity</th>\n",
       "      <td>1599.0</td>\n",
       "      <td>0.527821</td>\n",
       "      <td>0.179060</td>\n",
       "      <td>0.12000</td>\n",
       "      <td>0.3900</td>\n",
       "      <td>0.52000</td>\n",
       "      <td>0.640000</td>\n",
       "      <td>1.58000</td>\n",
       "    </tr>\n",
       "    <tr>\n",
       "      <th>citric acid</th>\n",
       "      <td>1599.0</td>\n",
       "      <td>0.270976</td>\n",
       "      <td>0.194801</td>\n",
       "      <td>0.00000</td>\n",
       "      <td>0.0900</td>\n",
       "      <td>0.26000</td>\n",
       "      <td>0.420000</td>\n",
       "      <td>1.00000</td>\n",
       "    </tr>\n",
       "    <tr>\n",
       "      <th>residual sugar</th>\n",
       "      <td>1599.0</td>\n",
       "      <td>2.538806</td>\n",
       "      <td>1.409928</td>\n",
       "      <td>0.90000</td>\n",
       "      <td>1.9000</td>\n",
       "      <td>2.20000</td>\n",
       "      <td>2.600000</td>\n",
       "      <td>15.50000</td>\n",
       "    </tr>\n",
       "    <tr>\n",
       "      <th>chlorides</th>\n",
       "      <td>1599.0</td>\n",
       "      <td>0.087467</td>\n",
       "      <td>0.047065</td>\n",
       "      <td>0.01200</td>\n",
       "      <td>0.0700</td>\n",
       "      <td>0.07900</td>\n",
       "      <td>0.090000</td>\n",
       "      <td>0.61100</td>\n",
       "    </tr>\n",
       "    <tr>\n",
       "      <th>free sulfur dioxide</th>\n",
       "      <td>1599.0</td>\n",
       "      <td>15.874922</td>\n",
       "      <td>10.460157</td>\n",
       "      <td>1.00000</td>\n",
       "      <td>7.0000</td>\n",
       "      <td>14.00000</td>\n",
       "      <td>21.000000</td>\n",
       "      <td>72.00000</td>\n",
       "    </tr>\n",
       "    <tr>\n",
       "      <th>total sulfur dioxide</th>\n",
       "      <td>1599.0</td>\n",
       "      <td>46.467792</td>\n",
       "      <td>32.895324</td>\n",
       "      <td>6.00000</td>\n",
       "      <td>22.0000</td>\n",
       "      <td>38.00000</td>\n",
       "      <td>62.000000</td>\n",
       "      <td>289.00000</td>\n",
       "    </tr>\n",
       "    <tr>\n",
       "      <th>density</th>\n",
       "      <td>1599.0</td>\n",
       "      <td>0.996747</td>\n",
       "      <td>0.001887</td>\n",
       "      <td>0.99007</td>\n",
       "      <td>0.9956</td>\n",
       "      <td>0.99675</td>\n",
       "      <td>0.997835</td>\n",
       "      <td>1.00369</td>\n",
       "    </tr>\n",
       "    <tr>\n",
       "      <th>pH</th>\n",
       "      <td>1599.0</td>\n",
       "      <td>3.311113</td>\n",
       "      <td>0.154386</td>\n",
       "      <td>2.74000</td>\n",
       "      <td>3.2100</td>\n",
       "      <td>3.31000</td>\n",
       "      <td>3.400000</td>\n",
       "      <td>4.01000</td>\n",
       "    </tr>\n",
       "    <tr>\n",
       "      <th>sulphates</th>\n",
       "      <td>1599.0</td>\n",
       "      <td>0.658149</td>\n",
       "      <td>0.169507</td>\n",
       "      <td>0.33000</td>\n",
       "      <td>0.5500</td>\n",
       "      <td>0.62000</td>\n",
       "      <td>0.730000</td>\n",
       "      <td>2.00000</td>\n",
       "    </tr>\n",
       "    <tr>\n",
       "      <th>alcohol</th>\n",
       "      <td>1599.0</td>\n",
       "      <td>10.422983</td>\n",
       "      <td>1.065668</td>\n",
       "      <td>8.40000</td>\n",
       "      <td>9.5000</td>\n",
       "      <td>10.20000</td>\n",
       "      <td>11.100000</td>\n",
       "      <td>14.90000</td>\n",
       "    </tr>\n",
       "    <tr>\n",
       "      <th>quality</th>\n",
       "      <td>1599.0</td>\n",
       "      <td>5.636023</td>\n",
       "      <td>0.807569</td>\n",
       "      <td>3.00000</td>\n",
       "      <td>5.0000</td>\n",
       "      <td>6.00000</td>\n",
       "      <td>6.000000</td>\n",
       "      <td>8.00000</td>\n",
       "    </tr>\n",
       "  </tbody>\n",
       "</table>\n",
       "</div>"
      ],
      "text/plain": [
       "                       count       mean        std      min      25%  \\\n",
       "fixed acidity         1599.0   8.319637   1.741096  4.60000   7.1000   \n",
       "volatile acidity      1599.0   0.527821   0.179060  0.12000   0.3900   \n",
       "citric acid           1599.0   0.270976   0.194801  0.00000   0.0900   \n",
       "residual sugar        1599.0   2.538806   1.409928  0.90000   1.9000   \n",
       "chlorides             1599.0   0.087467   0.047065  0.01200   0.0700   \n",
       "free sulfur dioxide   1599.0  15.874922  10.460157  1.00000   7.0000   \n",
       "total sulfur dioxide  1599.0  46.467792  32.895324  6.00000  22.0000   \n",
       "density               1599.0   0.996747   0.001887  0.99007   0.9956   \n",
       "pH                    1599.0   3.311113   0.154386  2.74000   3.2100   \n",
       "sulphates             1599.0   0.658149   0.169507  0.33000   0.5500   \n",
       "alcohol               1599.0  10.422983   1.065668  8.40000   9.5000   \n",
       "quality               1599.0   5.636023   0.807569  3.00000   5.0000   \n",
       "\n",
       "                           50%        75%        max  \n",
       "fixed acidity          7.90000   9.200000   15.90000  \n",
       "volatile acidity       0.52000   0.640000    1.58000  \n",
       "citric acid            0.26000   0.420000    1.00000  \n",
       "residual sugar         2.20000   2.600000   15.50000  \n",
       "chlorides              0.07900   0.090000    0.61100  \n",
       "free sulfur dioxide   14.00000  21.000000   72.00000  \n",
       "total sulfur dioxide  38.00000  62.000000  289.00000  \n",
       "density                0.99675   0.997835    1.00369  \n",
       "pH                     3.31000   3.400000    4.01000  \n",
       "sulphates              0.62000   0.730000    2.00000  \n",
       "alcohol               10.20000  11.100000   14.90000  \n",
       "quality                6.00000   6.000000    8.00000  "
      ]
     },
     "execution_count": 7,
     "metadata": {},
     "output_type": "execute_result"
    }
   ],
   "source": [
    "df.describe().T"
   ]
  },
  {
   "cell_type": "code",
   "execution_count": 8,
   "id": "b7445d98",
   "metadata": {},
   "outputs": [
    {
     "data": {
      "text/plain": [
       "array([5, 6, 7, 4, 8, 3], dtype=int64)"
      ]
     },
     "execution_count": 8,
     "metadata": {},
     "output_type": "execute_result"
    }
   ],
   "source": [
    "df['quality'].unique()"
   ]
  },
  {
   "cell_type": "code",
   "execution_count": 9,
   "id": "4df5a877",
   "metadata": {},
   "outputs": [
    {
     "data": {
      "image/png": "[encoded data removed]",
      "text/plain": [
       "<Figure size 1152x1296 with 12 Axes>"
      ]
     },
     "metadata": {
      "needs_background": "light"
     },
     "output_type": "display_data"
    }
   ],
   "source": [
    "df.hist( layout = (4,3), figsize=(16,18),sharex= False)\n",
    "plt.show()\n"
   ]
  },
  {
   "cell_type": "markdown",
   "id": "c6e9e46f",
   "metadata": {},
   "source": [
    "pH looks fine.\n",
    "\n",
    "density is also workable.\n",
    "\n",
    "Rest all the feature seems to be skewed."
   ]
  },
  {
   "cell_type": "code",
   "execution_count": 10,
   "id": "de773a04",
   "metadata": {},
   "outputs": [
    {
     "data": {
      "image/png": "[encoded data removed]",
      "text/plain": [
       "<Figure size 1152x1584 with 12 Axes>"
      ]
     },
     "metadata": {
      "needs_background": "light"
     },
     "output_type": "display_data"
    }
   ],
   "source": [
    "df.plot( kind = 'box',layout = (4,3), figsize=(16,22),sharex= False,subplots = True)\n",
    "plt.show()"
   ]
  },
  {
   "cell_type": "markdown",
   "id": "4e4d5205",
   "metadata": {},
   "source": [
    "citric acid and alcohol does not have that many outliers\n",
    "\n",
    "rest all the columns have alot of outliers"
   ]
  },
  {
   "cell_type": "code",
   "execution_count": 11,
   "id": "159ca692",
   "metadata": {},
   "outputs": [
    {
     "data": {
      "text/html": [
       "<div>\n",
       "<style scoped>\n",
       "    .dataframe tbody tr th:only-of-type {\n",
       "        vertical-align: middle;\n",
       "    }\n",
       "\n",
       "    .dataframe tbody tr th {\n",
       "        vertical-align: top;\n",
       "    }\n",
       "\n",
       "    .dataframe thead th {\n",
       "        text-align: right;\n",
       "    }\n",
       "</style>\n",
       "<table border=\"1\" class=\"dataframe\">\n",
       "  <thead>\n",
       "    <tr style=\"text-align: right;\">\n",
       "      <th></th>\n",
       "      <th>fixed acidity</th>\n",
       "      <th>volatile acidity</th>\n",
       "      <th>citric acid</th>\n",
       "      <th>residual sugar</th>\n",
       "      <th>chlorides</th>\n",
       "      <th>free sulfur dioxide</th>\n",
       "      <th>total sulfur dioxide</th>\n",
       "      <th>density</th>\n",
       "      <th>pH</th>\n",
       "      <th>sulphates</th>\n",
       "      <th>alcohol</th>\n",
       "      <th>quality</th>\n",
       "    </tr>\n",
       "  </thead>\n",
       "  <tbody>\n",
       "    <tr>\n",
       "      <th>fixed acidity</th>\n",
       "      <td>1.000000</td>\n",
       "      <td>-0.256131</td>\n",
       "      <td>0.671703</td>\n",
       "      <td>0.114777</td>\n",
       "      <td>0.093705</td>\n",
       "      <td>-0.153794</td>\n",
       "      <td>-0.113181</td>\n",
       "      <td>0.668047</td>\n",
       "      <td>-0.682978</td>\n",
       "      <td>0.183006</td>\n",
       "      <td>-0.061668</td>\n",
       "      <td>0.124052</td>\n",
       "    </tr>\n",
       "    <tr>\n",
       "      <th>volatile acidity</th>\n",
       "      <td>-0.256131</td>\n",
       "      <td>1.000000</td>\n",
       "      <td>-0.552496</td>\n",
       "      <td>0.001918</td>\n",
       "      <td>0.061298</td>\n",
       "      <td>-0.010504</td>\n",
       "      <td>0.076470</td>\n",
       "      <td>0.022026</td>\n",
       "      <td>0.234937</td>\n",
       "      <td>-0.260987</td>\n",
       "      <td>-0.202288</td>\n",
       "      <td>-0.390558</td>\n",
       "    </tr>\n",
       "    <tr>\n",
       "      <th>citric acid</th>\n",
       "      <td>0.671703</td>\n",
       "      <td>-0.552496</td>\n",
       "      <td>1.000000</td>\n",
       "      <td>0.143577</td>\n",
       "      <td>0.203823</td>\n",
       "      <td>-0.060978</td>\n",
       "      <td>0.035533</td>\n",
       "      <td>0.364947</td>\n",
       "      <td>-0.541904</td>\n",
       "      <td>0.312770</td>\n",
       "      <td>0.109903</td>\n",
       "      <td>0.226373</td>\n",
       "    </tr>\n",
       "    <tr>\n",
       "      <th>residual sugar</th>\n",
       "      <td>0.114777</td>\n",
       "      <td>0.001918</td>\n",
       "      <td>0.143577</td>\n",
       "      <td>1.000000</td>\n",
       "      <td>0.055610</td>\n",
       "      <td>0.187049</td>\n",
       "      <td>0.203028</td>\n",
       "      <td>0.355283</td>\n",
       "      <td>-0.085652</td>\n",
       "      <td>0.005527</td>\n",
       "      <td>0.042075</td>\n",
       "      <td>0.013732</td>\n",
       "    </tr>\n",
       "    <tr>\n",
       "      <th>chlorides</th>\n",
       "      <td>0.093705</td>\n",
       "      <td>0.061298</td>\n",
       "      <td>0.203823</td>\n",
       "      <td>0.055610</td>\n",
       "      <td>1.000000</td>\n",
       "      <td>0.005562</td>\n",
       "      <td>0.047400</td>\n",
       "      <td>0.200632</td>\n",
       "      <td>-0.265026</td>\n",
       "      <td>0.371260</td>\n",
       "      <td>-0.221141</td>\n",
       "      <td>-0.128907</td>\n",
       "    </tr>\n",
       "    <tr>\n",
       "      <th>free sulfur dioxide</th>\n",
       "      <td>-0.153794</td>\n",
       "      <td>-0.010504</td>\n",
       "      <td>-0.060978</td>\n",
       "      <td>0.187049</td>\n",
       "      <td>0.005562</td>\n",
       "      <td>1.000000</td>\n",
       "      <td>0.667666</td>\n",
       "      <td>-0.021946</td>\n",
       "      <td>0.070377</td>\n",
       "      <td>0.051658</td>\n",
       "      <td>-0.069408</td>\n",
       "      <td>-0.050656</td>\n",
       "    </tr>\n",
       "    <tr>\n",
       "      <th>total sulfur dioxide</th>\n",
       "      <td>-0.113181</td>\n",
       "      <td>0.076470</td>\n",
       "      <td>0.035533</td>\n",
       "      <td>0.203028</td>\n",
       "      <td>0.047400</td>\n",
       "      <td>0.667666</td>\n",
       "      <td>1.000000</td>\n",
       "      <td>0.071269</td>\n",
       "      <td>-0.066495</td>\n",
       "      <td>0.042947</td>\n",
       "      <td>-0.205654</td>\n",
       "      <td>-0.185100</td>\n",
       "    </tr>\n",
       "    <tr>\n",
       "      <th>density</th>\n",
       "      <td>0.668047</td>\n",
       "      <td>0.022026</td>\n",
       "      <td>0.364947</td>\n",
       "      <td>0.355283</td>\n",
       "      <td>0.200632</td>\n",
       "      <td>-0.021946</td>\n",
       "      <td>0.071269</td>\n",
       "      <td>1.000000</td>\n",
       "      <td>-0.341699</td>\n",
       "      <td>0.148506</td>\n",
       "      <td>-0.496180</td>\n",
       "      <td>-0.174919</td>\n",
       "    </tr>\n",
       "    <tr>\n",
       "      <th>pH</th>\n",
       "      <td>-0.682978</td>\n",
       "      <td>0.234937</td>\n",
       "      <td>-0.541904</td>\n",
       "      <td>-0.085652</td>\n",
       "      <td>-0.265026</td>\n",
       "      <td>0.070377</td>\n",
       "      <td>-0.066495</td>\n",
       "      <td>-0.341699</td>\n",
       "      <td>1.000000</td>\n",
       "      <td>-0.196648</td>\n",
       "      <td>0.205633</td>\n",
       "      <td>-0.057731</td>\n",
       "    </tr>\n",
       "    <tr>\n",
       "      <th>sulphates</th>\n",
       "      <td>0.183006</td>\n",
       "      <td>-0.260987</td>\n",
       "      <td>0.312770</td>\n",
       "      <td>0.005527</td>\n",
       "      <td>0.371260</td>\n",
       "      <td>0.051658</td>\n",
       "      <td>0.042947</td>\n",
       "      <td>0.148506</td>\n",
       "      <td>-0.196648</td>\n",
       "      <td>1.000000</td>\n",
       "      <td>0.093595</td>\n",
       "      <td>0.251397</td>\n",
       "    </tr>\n",
       "    <tr>\n",
       "      <th>alcohol</th>\n",
       "      <td>-0.061668</td>\n",
       "      <td>-0.202288</td>\n",
       "      <td>0.109903</td>\n",
       "      <td>0.042075</td>\n",
       "      <td>-0.221141</td>\n",
       "      <td>-0.069408</td>\n",
       "      <td>-0.205654</td>\n",
       "      <td>-0.496180</td>\n",
       "      <td>0.205633</td>\n",
       "      <td>0.093595</td>\n",
       "      <td>1.000000</td>\n",
       "      <td>0.476166</td>\n",
       "    </tr>\n",
       "    <tr>\n",
       "      <th>quality</th>\n",
       "      <td>0.124052</td>\n",
       "      <td>-0.390558</td>\n",
       "      <td>0.226373</td>\n",
       "      <td>0.013732</td>\n",
       "      <td>-0.128907</td>\n",
       "      <td>-0.050656</td>\n",
       "      <td>-0.185100</td>\n",
       "      <td>-0.174919</td>\n",
       "      <td>-0.057731</td>\n",
       "      <td>0.251397</td>\n",
       "      <td>0.476166</td>\n",
       "      <td>1.000000</td>\n",
       "    </tr>\n",
       "  </tbody>\n",
       "</table>\n",
       "</div>"
      ],
      "text/plain": [
       "                      fixed acidity  volatile acidity  citric acid  \\\n",
       "fixed acidity              1.000000         -0.256131     0.671703   \n",
       "volatile acidity          -0.256131          1.000000    -0.552496   \n",
       "citric acid                0.671703         -0.552496     1.000000   \n",
       "residual sugar             0.114777          0.001918     0.143577   \n",
       "chlorides                  0.093705          0.061298     0.203823   \n",
       "free sulfur dioxide       -0.153794         -0.010504    -0.060978   \n",
       "total sulfur dioxide      -0.113181          0.076470     0.035533   \n",
       "density                    0.668047          0.022026     0.364947   \n",
       "pH                        -0.682978          0.234937    -0.541904   \n",
       "sulphates                  0.183006         -0.260987     0.312770   \n",
       "alcohol                   -0.061668         -0.202288     0.109903   \n",
       "quality                    0.124052         -0.390558     0.226373   \n",
       "\n",
       "                      residual sugar  chlorides  free sulfur dioxide  \\\n",
       "fixed acidity               0.114777   0.093705            -0.153794   \n",
       "volatile acidity            0.001918   0.061298            -0.010504   \n",
       "citric acid                 0.143577   0.203823            -0.060978   \n",
       "residual sugar              1.000000   0.055610             0.187049   \n",
       "chlorides                   0.055610   1.000000             0.005562   \n",
       "free sulfur dioxide         0.187049   0.005562             1.000000   \n",
       "total sulfur dioxide        0.203028   0.047400             0.667666   \n",
       "density                     0.355283   0.200632            -0.021946   \n",
       "pH                         -0.085652  -0.265026             0.070377   \n",
       "sulphates                   0.005527   0.371260             0.051658   \n",
       "alcohol                     0.042075  -0.221141            -0.069408   \n",
       "quality                     0.013732  -0.128907            -0.050656   \n",
       "\n",
       "                      total sulfur dioxide   density        pH  sulphates  \\\n",
       "fixed acidity                    -0.113181  0.668047 -0.682978   0.183006   \n",
       "volatile acidity                  0.076470  0.022026  0.234937  -0.260987   \n",
       "citric acid                       0.035533  0.364947 -0.541904   0.312770   \n",
       "residual sugar                    0.203028  0.355283 -0.085652   0.005527   \n",
       "chlorides                         0.047400  0.200632 -0.265026   0.371260   \n",
       "free sulfur dioxide               0.667666 -0.021946  0.070377   0.051658   \n",
       "total sulfur dioxide              1.000000  0.071269 -0.066495   0.042947   \n",
       "density                           0.071269  1.000000 -0.341699   0.148506   \n",
       "pH                               -0.066495 -0.341699  1.000000  -0.196648   \n",
       "sulphates                         0.042947  0.148506 -0.196648   1.000000   \n",
       "alcohol                          -0.205654 -0.496180  0.205633   0.093595   \n",
       "quality                          -0.185100 -0.174919 -0.057731   0.251397   \n",
       "\n",
       "                       alcohol   quality  \n",
       "fixed acidity        -0.061668  0.124052  \n",
       "volatile acidity     -0.202288 -0.390558  \n",
       "citric acid           0.109903  0.226373  \n",
       "residual sugar        0.042075  0.013732  \n",
       "chlorides            -0.221141 -0.128907  \n",
       "free sulfur dioxide  -0.069408 -0.050656  \n",
       "total sulfur dioxide -0.205654 -0.185100  \n",
       "density              -0.496180 -0.174919  \n",
       "pH                    0.205633 -0.057731  \n",
       "sulphates             0.093595  0.251397  \n",
       "alcohol               1.000000  0.476166  \n",
       "quality               0.476166  1.000000  "
      ]
     },
     "execution_count": 11,
     "metadata": {},
     "output_type": "execute_result"
    }
   ],
   "source": [
    "df.corr()"
   ]
  },
  {
   "cell_type": "code",
   "execution_count": 12,
   "id": "bd8e2e46",
   "metadata": {},
   "outputs": [
    {
     "data": {
      "image/png": "[encoded data removed]",
      "text/plain": [
       "<Figure size 1584x720 with 2 Axes>"
      ]
     },
     "metadata": {
      "needs_background": "light"
     },
     "output_type": "display_data"
    }
   ],
   "source": [
    "plt.figure(figsize=(22,10))\n",
    "sns.heatmap(df.corr(),annot=True,linewidths=0.1,linecolor='black',fmt='0.2f', cmap = 'BuPu')\n",
    "plt.show()"
   ]
  },
  {
   "cell_type": "markdown",
   "id": "bd5900af",
   "metadata": {},
   "source": [
    " alcohol have moderate correlation\n",
    "\n",
    "rest are having low +/- correlation"
   ]
  },
  {
   "cell_type": "markdown",
   "id": "54429d04",
   "metadata": {},
   "source": [
    "# Cleaning the data"
   ]
  },
  {
   "cell_type": "markdown",
   "id": "fbccfe95",
   "metadata": {},
   "source": [
    "# Removing Outliers\n",
    "Z-score Technique"
   ]
  },
  {
   "cell_type": "code",
   "execution_count": 13,
   "id": "94d0da4e",
   "metadata": {},
   "outputs": [
    {
     "data": {
      "text/plain": [
       "(1599, 12)"
      ]
     },
     "execution_count": 13,
     "metadata": {},
     "output_type": "execute_result"
    }
   ],
   "source": [
    "from scipy.stats import zscore\n",
    "\n",
    "z=np.abs(zscore(df))\n",
    "z.shape"
   ]
  },
  {
   "cell_type": "code",
   "execution_count": 14,
   "id": "efb0b74e",
   "metadata": {},
   "outputs": [
    {
     "name": "stdout",
     "output_type": "stream",
     "text": [
      "(array([  13,   14,   15,   15,   17,   17,   19,   33,   38,   42,   43,\n",
      "         45,   57,   81,   81,   83,   86,   88,   91,   92,   95,  106,\n",
      "        106,  109,  120,  126,  127,  142,  144,  147,  151,  151,  151,\n",
      "        151,  163,  164,  169,  169,  181,  199,  226,  226,  240,  243,\n",
      "        244,  258,  258,  274,  281,  291,  324,  325,  339,  340,  347,\n",
      "        354,  374,  381,  391,  396,  396,  400,  400,  442,  442,  451,\n",
      "        459,  467,  480,  480,  494,  515,  517,  544,  554,  554,  555,\n",
      "        555,  557,  557,  568,  584,  588,  591,  595,  608,  614,  636,\n",
      "        639,  649,  649,  651,  652,  652,  652,  672,  672,  684,  690,\n",
      "        690,  692,  692,  695,  723,  724,  730,  754,  776,  777,  795,\n",
      "        821,  832,  836,  837,  889,  899,  911,  917,  923,  925,  926,\n",
      "        982, 1017, 1018, 1043, 1051, 1051, 1071, 1074, 1079, 1079, 1081,\n",
      "       1081, 1111, 1114, 1131, 1154, 1165, 1175, 1186, 1231, 1235, 1244,\n",
      "       1244, 1244, 1260, 1269, 1269, 1270, 1270, 1288, 1289, 1295, 1296,\n",
      "       1299, 1299, 1300, 1312, 1316, 1319, 1319, 1321, 1358, 1367, 1370,\n",
      "       1370, 1372, 1372, 1374, 1374, 1434, 1434, 1434, 1435, 1435, 1435,\n",
      "       1469, 1474, 1474, 1474, 1476, 1476, 1476, 1478, 1493, 1496, 1505,\n",
      "       1558, 1558, 1570, 1574, 1589], dtype=int64), array([ 9,  5,  5,  6,  4,  9,  4,  3,  1,  4,  9,  8,  5,  4,  9,  4,  9,\n",
      "        9,  9,  9,  8,  4,  9,  6,  1,  1,  1, 10, 10,  4,  2,  4,  8,  9,\n",
      "        3,  3,  4,  9,  4,  1,  4,  9,  4,  0,  0,  4,  9,  3,  4,  4,  3,\n",
      "        3,  9,  9,  0,  6,  0,  0,  0,  3,  5,  3,  5,  0,  7,  4, 11, 10,\n",
      "        3,  7,  3,  6, 11,  0,  0,  7,  0,  7,  0,  7,  4,  5, 10,  6,  3,\n",
      "        7,  9,  6,  9,  3,  6,  6,  0,  3, 10,  1,  6,  6,  1, 11,  4,  9,\n",
      "        8,  9,  1,  4,  4,  4,  4,  9, 10, 11,  7,  7,  7, 11,  3,  3,  3,\n",
      "        5,  5,  5,  7,  7,  3,  4,  9,  3,  3,  3,  6,  3,  6,  8,  7,  5,\n",
      "        5,  4,  5,  3,  5,  3,  3,  5,  6,  4,  7, 10,  7, 10,  9,  9,  5,\n",
      "        5,  1, 11,  8,  1,  8,  4,  9,  8,  5,  9,  4,  9,  4,  9,  4, 11,\n",
      "        3,  5,  7,  3,  5,  7, 11,  3,  5,  7,  3,  5,  7, 11,  6,  6, 11,\n",
      "        4,  5,  4,  3,  3], dtype=int64))\n"
     ]
    }
   ],
   "source": [
    "threshold=3\n",
    "print(np.where(z>3))"
   ]
  },
  {
   "cell_type": "code",
   "execution_count": 15,
   "id": "a2221933",
   "metadata": {},
   "outputs": [
    {
     "name": "stdout",
     "output_type": "stream",
     "text": [
      "(1599, 12)\n",
      "(1451, 12)\n"
     ]
    }
   ],
   "source": [
    "df_new=df[(z<3).all(axis=1)]\n",
    "print(df.shape)\n",
    "print(df_new.shape)"
   ]
  },
  {
   "cell_type": "markdown",
   "id": "63c9f23a",
   "metadata": {},
   "source": [
    "# Percentage Data Loss"
   ]
  },
  {
   "cell_type": "code",
   "execution_count": 16,
   "id": "e071f657",
   "metadata": {},
   "outputs": [],
   "source": [
    "Data_loss=((1599-1451)/1599)*100"
   ]
  },
  {
   "cell_type": "code",
   "execution_count": 17,
   "id": "4549658e",
   "metadata": {},
   "outputs": [
    {
     "data": {
      "text/plain": [
       "9.255784865540964"
      ]
     },
     "execution_count": 17,
     "metadata": {},
     "output_type": "execute_result"
    }
   ],
   "source": [
    "Data_loss"
   ]
  },
  {
   "cell_type": "code",
   "execution_count": 18,
   "id": "7708cdc8",
   "metadata": {},
   "outputs": [],
   "source": [
    "feature=df_new.drop('quality',axis=1)\n",
    "target=df_new[\"quality\"] "
   ]
  },
  {
   "cell_type": "code",
   "execution_count": 19,
   "id": "f3d82917",
   "metadata": {},
   "outputs": [
    {
     "data": {
      "text/plain": [
       "fixed acidity           0.823934\n",
       "volatile acidity        0.380659\n",
       "citric acid             0.291297\n",
       "residual sugar          2.456107\n",
       "chlorides               2.275162\n",
       "free sulfur dioxide     0.869250\n",
       "total sulfur dioxide    1.183161\n",
       "density                 0.055738\n",
       "pH                      0.114705\n",
       "sulphates               0.891492\n",
       "alcohol                 0.758958\n",
       "quality                 0.407865\n",
       "dtype: float64"
      ]
     },
     "execution_count": 19,
     "metadata": {},
     "output_type": "execute_result"
    }
   ],
   "source": [
    "df_new.skew()"
   ]
  },
  {
   "cell_type": "raw",
   "id": "00241749",
   "metadata": {},
   "source": [
    "keeping +/-0.5 as the threshhold value"
   ]
  },
  {
   "cell_type": "code",
   "execution_count": 20,
   "id": "04104a73",
   "metadata": {},
   "outputs": [],
   "source": [
    "#df.drop('density',axis=1)"
   ]
  },
  {
   "cell_type": "markdown",
   "id": "9d5ba43c",
   "metadata": {},
   "source": [
    "# Transforming the data to remove skewness"
   ]
  },
  {
   "cell_type": "code",
   "execution_count": 21,
   "id": "3c87380b",
   "metadata": {},
   "outputs": [],
   "source": [
    "from sklearn.preprocessing import power_transform\n",
    "feature=power_transform(feature)"
   ]
  },
  {
   "cell_type": "code",
   "execution_count": 22,
   "id": "e3b8cf78",
   "metadata": {},
   "outputs": [
    {
     "data": {
      "text/plain": [
       "array([[-0.46787818,  1.05573967, -1.52450588, ...,  1.36086042,\n",
       "        -0.58965734, -1.12042399],\n",
       "       [-0.17080535,  1.91974976, -1.52450588, ..., -0.81650738,\n",
       "         0.45152416, -0.5303401 ],\n",
       "       [-0.17080535,  1.35706712, -1.24543379, ..., -0.38097654,\n",
       "         0.22000451, -0.5303401 ],\n",
       "       ...,\n",
       "       [-1.45100718, -0.00286664, -0.66625579, ...,  0.74685493,\n",
       "         0.93043194,  0.74288203],\n",
       "       [-1.88546393,  0.76651828, -0.72755539, ...,  1.76243705,\n",
       "         0.666655  , -0.03416625],\n",
       "       [-1.7722373 , -1.33320495,  1.07130142, ...,  0.53899166,\n",
       "         0.29909273,  0.74288203]])"
      ]
     },
     "execution_count": 22,
     "metadata": {},
     "output_type": "execute_result"
    }
   ],
   "source": [
    "feature"
   ]
  },
  {
   "cell_type": "code",
   "execution_count": 23,
   "id": "cb760cf8",
   "metadata": {},
   "outputs": [
    {
     "data": {
      "text/plain": [
       "array([[-0.46787818,  1.05573967, -1.52450588, ...,  1.36086042,\n",
       "        -0.58965734, -1.12042399],\n",
       "       [-0.17080535,  1.91974976, -1.52450588, ..., -0.81650738,\n",
       "         0.45152416, -0.5303401 ],\n",
       "       [-0.17080535,  1.35706712, -1.24543379, ..., -0.38097654,\n",
       "         0.22000451, -0.5303401 ],\n",
       "       ...,\n",
       "       [-1.45100718, -0.00286664, -0.66625579, ...,  0.74685493,\n",
       "         0.93043194,  0.74288203],\n",
       "       [-1.88546393,  0.76651828, -0.72755539, ...,  1.76243705,\n",
       "         0.666655  , -0.03416625],\n",
       "       [-1.7722373 , -1.33320495,  1.07130142, ...,  0.53899166,\n",
       "         0.29909273,  0.74288203]])"
      ]
     },
     "execution_count": 23,
     "metadata": {},
     "output_type": "execute_result"
    }
   ],
   "source": [
    "from sklearn.preprocessing import StandardScaler\n",
    "sc=StandardScaler()\n",
    "feature=sc.fit_transform(feature)\n",
    "feature"
   ]
  },
  {
   "cell_type": "markdown",
   "id": "6ef53b9e",
   "metadata": {},
   "source": [
    "# Training Process begins\n",
    "\n",
    "finding best training state"
   ]
  },
  {
   "cell_type": "code",
   "execution_count": 24,
   "id": "51dd4c1c",
   "metadata": {},
   "outputs": [],
   "source": [
    "from sklearn.linear_model import LogisticRegression\n",
    "from sklearn.metrics import accuracy_score\n",
    "from sklearn.metrics import confusion_matrix\n",
    "from sklearn.model_selection import train_test_split"
   ]
  },
  {
   "cell_type": "markdown",
   "id": "3e63adc9",
   "metadata": {},
   "source": [
    "# Best Random state"
   ]
  },
  {
   "cell_type": "code",
   "execution_count": 25,
   "id": "de9427ea",
   "metadata": {},
   "outputs": [
    {
     "name": "stdout",
     "output_type": "stream",
     "text": [
      "accuracy_score 0.7 random_state 1\n",
      "accuracy 0.7 random_state 1\n",
      "accuracy_score 0.6 random_state 2\n",
      "accuracy_score 0.65 random_state 3\n",
      "accuracy_score 0.55 random_state 4\n",
      "accuracy_score 0.55 random_state 5\n",
      "accuracy_score 0.45 random_state 6\n",
      "accuracy_score 0.5 random_state 7\n",
      "accuracy_score 0.7 random_state 8\n",
      "accuracy_score 0.7 random_state 9\n",
      "accuracy_score 0.65 random_state 10\n",
      "accuracy_score 0.4 random_state 11\n",
      "accuracy_score 0.5 random_state 12\n",
      "accuracy_score 0.7 random_state 13\n",
      "accuracy_score 0.5 random_state 14\n",
      "accuracy_score 0.55 random_state 15\n",
      "accuracy_score 0.6 random_state 16\n",
      "accuracy_score 0.7 random_state 17\n",
      "accuracy_score 0.75 random_state 18\n",
      "accuracy 0.75 random_state 18\n",
      "accuracy_score 0.4 random_state 19\n",
      "accuracy_score 0.7 random_state 20\n",
      "accuracy_score 0.55 random_state 21\n",
      "accuracy_score 0.6 random_state 22\n",
      "accuracy_score 0.8 random_state 23\n",
      "accuracy 0.8 random_state 23\n",
      "accuracy_score 0.7 random_state 24\n",
      "accuracy_score 0.5 random_state 25\n",
      "accuracy_score 0.7 random_state 26\n",
      "accuracy_score 0.5 random_state 27\n",
      "accuracy_score 0.75 random_state 28\n",
      "accuracy_score 0.65 random_state 29\n",
      "accuracy_score 0.45 random_state 30\n",
      "accuracy_score 0.65 random_state 31\n",
      "accuracy_score 0.65 random_state 32\n",
      "accuracy_score 0.55 random_state 33\n",
      "accuracy_score 0.45 random_state 34\n",
      "accuracy_score 0.75 random_state 35\n",
      "accuracy_score 0.5 random_state 36\n",
      "accuracy_score 0.6 random_state 37\n",
      "accuracy_score 0.6 random_state 38\n",
      "accuracy_score 0.6 random_state 39\n",
      "accuracy_score 0.4 random_state 40\n",
      "accuracy_score 0.6 random_state 41\n",
      "accuracy_score 0.7 random_state 42\n",
      "accuracy_score 0.75 random_state 43\n",
      "accuracy_score 0.7 random_state 44\n",
      "accuracy_score 0.6 random_state 45\n",
      "accuracy_score 0.55 random_state 46\n",
      "accuracy_score 0.65 random_state 47\n",
      "accuracy_score 0.7 random_state 48\n",
      "accuracy_score 0.5 random_state 49\n",
      "accuracy_score 0.65 random_state 50\n",
      "accuracy_score 0.45 random_state 51\n",
      "accuracy_score 0.7 random_state 52\n",
      "accuracy_score 0.6 random_state 53\n",
      "accuracy_score 0.6 random_state 54\n",
      "accuracy_score 0.65 random_state 55\n",
      "accuracy_score 0.8 random_state 56\n",
      "accuracy_score 0.7 random_state 57\n",
      "accuracy_score 0.45 random_state 58\n",
      "accuracy_score 0.55 random_state 59\n",
      "accuracy_score 0.6 random_state 60\n",
      "accuracy_score 0.5 random_state 61\n",
      "accuracy_score 0.55 random_state 62\n",
      "accuracy_score 0.55 random_state 63\n",
      "accuracy_score 0.6 random_state 64\n",
      "accuracy_score 0.6 random_state 65\n",
      "accuracy_score 0.7 random_state 66\n",
      "accuracy_score 0.55 random_state 67\n",
      "accuracy_score 0.5 random_state 68\n",
      "accuracy_score 0.55 random_state 69\n",
      "accuracy_score 0.75 random_state 70\n",
      "accuracy_score 0.55 random_state 71\n",
      "accuracy_score 0.75 random_state 72\n",
      "accuracy_score 0.6 random_state 73\n",
      "accuracy_score 0.55 random_state 74\n",
      "accuracy_score 0.6 random_state 75\n",
      "accuracy_score 0.6 random_state 76\n",
      "accuracy_score 0.75 random_state 77\n",
      "accuracy_score 0.7 random_state 78\n",
      "accuracy_score 0.55 random_state 79\n",
      "accuracy_score 0.7 random_state 80\n",
      "accuracy_score 0.65 random_state 81\n",
      "accuracy_score 0.6 random_state 82\n",
      "accuracy_score 0.75 random_state 83\n",
      "accuracy_score 0.5 random_state 84\n",
      "accuracy_score 0.75 random_state 85\n",
      "accuracy_score 0.55 random_state 86\n",
      "accuracy_score 0.55 random_state 87\n",
      "accuracy_score 0.5 random_state 88\n",
      "accuracy_score 0.4 random_state 89\n",
      "accuracy_score 0.55 random_state 90\n",
      "accuracy_score 0.55 random_state 91\n",
      "accuracy_score 0.55 random_state 92\n",
      "accuracy_score 0.6 random_state 93\n",
      "accuracy_score 0.7 random_state 94\n",
      "accuracy_score 0.75 random_state 95\n",
      "accuracy_score 0.75 random_state 96\n",
      "accuracy_score 0.75 random_state 97\n",
      "accuracy_score 0.7 random_state 98\n",
      "accuracy_score 0.5 random_state 99\n",
      "accuracy_score 0.4 random_state 100\n",
      "accuracy_score 0.6 random_state 101\n",
      "accuracy_score 0.6 random_state 102\n",
      "accuracy_score 0.5 random_state 103\n",
      "accuracy_score 0.6 random_state 104\n",
      "accuracy_score 0.65 random_state 105\n",
      "accuracy_score 0.75 random_state 106\n",
      "accuracy_score 0.5 random_state 107\n",
      "accuracy_score 0.55 random_state 108\n",
      "accuracy_score 0.45 random_state 109\n",
      "accuracy_score 0.5 random_state 110\n",
      "accuracy_score 0.6 random_state 111\n",
      "accuracy_score 0.65 random_state 112\n",
      "accuracy_score 0.55 random_state 113\n",
      "accuracy_score 0.7 random_state 114\n",
      "accuracy_score 0.7 random_state 115\n",
      "accuracy_score 0.7 random_state 116\n",
      "accuracy_score 0.65 random_state 117\n",
      "accuracy_score 0.75 random_state 118\n",
      "accuracy_score 0.5 random_state 119\n",
      "accuracy_score 0.5 random_state 120\n",
      "accuracy_score 0.8 random_state 121\n",
      "accuracy_score 0.5 random_state 122\n",
      "accuracy_score 0.7 random_state 123\n",
      "accuracy_score 0.55 random_state 124\n",
      "accuracy_score 0.55 random_state 125\n",
      "accuracy_score 0.75 random_state 126\n",
      "accuracy_score 0.75 random_state 127\n",
      "accuracy_score 0.6 random_state 128\n",
      "accuracy_score 0.55 random_state 129\n",
      "accuracy_score 0.8 random_state 130\n",
      "accuracy_score 0.6 random_state 131\n",
      "accuracy_score 0.35 random_state 132\n",
      "accuracy_score 0.65 random_state 133\n",
      "accuracy_score 0.4 random_state 134\n",
      "accuracy_score 0.7 random_state 135\n",
      "accuracy_score 0.55 random_state 136\n",
      "accuracy_score 0.65 random_state 137\n",
      "accuracy_score 0.75 random_state 138\n",
      "accuracy_score 0.6 random_state 139\n",
      "accuracy_score 0.75 random_state 140\n",
      "accuracy_score 0.65 random_state 141\n",
      "accuracy_score 0.55 random_state 142\n",
      "accuracy_score 0.6 random_state 143\n",
      "accuracy_score 0.7 random_state 144\n",
      "accuracy_score 0.55 random_state 145\n",
      "accuracy_score 0.5 random_state 146\n",
      "accuracy_score 0.55 random_state 147\n",
      "accuracy_score 0.65 random_state 148\n",
      "accuracy_score 0.5 random_state 149\n",
      "accuracy_score 0.45 random_state 150\n",
      "accuracy_score 0.55 random_state 151\n",
      "accuracy_score 0.6 random_state 152\n",
      "accuracy_score 0.55 random_state 153\n",
      "accuracy_score 0.8 random_state 154\n",
      "accuracy_score 0.55 random_state 155\n",
      "accuracy_score 0.65 random_state 156\n",
      "accuracy_score 0.65 random_state 157\n",
      "accuracy_score 0.4 random_state 158\n",
      "accuracy_score 0.75 random_state 159\n",
      "accuracy_score 0.5 random_state 160\n",
      "accuracy_score 0.55 random_state 161\n",
      "accuracy_score 0.45 random_state 162\n",
      "accuracy_score 0.55 random_state 163\n",
      "accuracy_score 0.7 random_state 164\n",
      "accuracy_score 0.65 random_state 165\n",
      "accuracy_score 0.7 random_state 166\n",
      "accuracy_score 0.75 random_state 167\n",
      "accuracy_score 0.5 random_state 168\n",
      "accuracy_score 0.7 random_state 169\n",
      "accuracy_score 0.45 random_state 170\n",
      "accuracy_score 0.5 random_state 171\n",
      "accuracy_score 0.5 random_state 172\n",
      "accuracy_score 0.7 random_state 173\n",
      "accuracy_score 0.55 random_state 174\n",
      "accuracy_score 0.7 random_state 175\n",
      "accuracy_score 0.5 random_state 176\n",
      "accuracy_score 0.6 random_state 177\n",
      "accuracy_score 0.5 random_state 178\n",
      "accuracy_score 0.8 random_state 179\n",
      "accuracy_score 0.4 random_state 180\n",
      "accuracy_score 0.65 random_state 181\n",
      "accuracy_score 0.5 random_state 182\n",
      "accuracy_score 0.65 random_state 183\n",
      "accuracy_score 0.55 random_state 184\n",
      "accuracy_score 0.6 random_state 185\n",
      "accuracy_score 0.65 random_state 186\n",
      "accuracy_score 0.8 random_state 187\n",
      "accuracy_score 0.45 random_state 188\n",
      "accuracy_score 0.6 random_state 189\n",
      "accuracy_score 0.65 random_state 190\n",
      "accuracy_score 0.6 random_state 191\n",
      "accuracy_score 0.45 random_state 192\n",
      "accuracy_score 0.55 random_state 193\n",
      "accuracy_score 0.65 random_state 194\n",
      "accuracy_score 0.6 random_state 195\n",
      "accuracy_score 0.6 random_state 196\n",
      "accuracy_score 0.65 random_state 197\n",
      "accuracy_score 0.65 random_state 198\n",
      "accuracy_score 0.6 random_state 199\n"
     ]
    }
   ],
   "source": [
    "maxAccu=0 # maximum accuracy\n",
    "maxRS =0 #best random state for which maximum accuracy is achieved\n",
    "\n",
    "for i in range(1,200):\n",
    "    feature_train, feature_test,target_train, target_test = train_test_split(feature,target,test_size=20, random_state =i)\n",
    "    LR = LogisticRegression()\n",
    "    LR.fit( feature_train, target_train)  # fitting the data trains the model\n",
    "    predrf = LR.predict( feature_test)  #this is the predicted target variable\n",
    "    acc = accuracy_score(target_test, predrf)  # accuracy score\n",
    "    print('accuracy_score', acc, 'random_state',i)\n",
    "    \n",
    "    if acc>maxAccu:\n",
    "        maxAccu = acc\n",
    "        maxRS = i\n",
    "        print('accuracy', maxAccu, 'random_state',i)"
   ]
  },
  {
   "cell_type": "code",
   "execution_count": 26,
   "id": "b95d19ef",
   "metadata": {},
   "outputs": [
    {
     "name": "stdout",
     "output_type": "stream",
     "text": [
      "Best accuracy is 0.8 on Random state 23\n"
     ]
    }
   ],
   "source": [
    "print('Best accuracy is',maxAccu, 'on Random state',maxRS)"
   ]
  },
  {
   "cell_type": "markdown",
   "id": "90405abd",
   "metadata": {},
   "source": [
    "# Ceating Train_test split"
   ]
  },
  {
   "cell_type": "code",
   "execution_count": 27,
   "id": "7112ab34",
   "metadata": {},
   "outputs": [],
   "source": [
    "feature_train, feature_test,target_train, target_test = train_test_split(feature,target,test_size=.20, random_state =23)"
   ]
  },
  {
   "cell_type": "markdown",
   "id": "950d3a38",
   "metadata": {},
   "source": [
    "# Logistic Regression"
   ]
  },
  {
   "cell_type": "code",
   "execution_count": 28,
   "id": "df243dd2",
   "metadata": {},
   "outputs": [
    {
     "name": "stdout",
     "output_type": "stream",
     "text": [
      "Accuracy 57.0446735395189\n",
      "[[ 0  7  3  0  0]\n",
      " [ 0 82 31  0  0]\n",
      " [ 0 56 72 10  0]\n",
      " [ 0  1 15 12  0]\n",
      " [ 0  0  2  0  0]]\n",
      "              precision    recall  f1-score   support\n",
      "\n",
      "           4       0.00      0.00      0.00        10\n",
      "           5       0.56      0.73      0.63       113\n",
      "           6       0.59      0.52      0.55       138\n",
      "           7       0.55      0.43      0.48        28\n",
      "           8       0.00      0.00      0.00         2\n",
      "\n",
      "    accuracy                           0.57       291\n",
      "   macro avg       0.34      0.34      0.33       291\n",
      "weighted avg       0.55      0.57      0.55       291\n",
      "\n"
     ]
    }
   ],
   "source": [
    "from sklearn.linear_model import LogisticRegression\n",
    "from sklearn.metrics import classification_report\n",
    "\n",
    "LR = LogisticRegression()\n",
    "LR.fit(feature_train, target_train)\n",
    "predlr = LR.predict(feature_test)\n",
    "print('Accuracy',accuracy_score(target_test,predlr)*100)\n",
    "print(confusion_matrix(target_test,predlr))\n",
    "print(classification_report(target_test,predlr))"
   ]
  },
  {
   "cell_type": "markdown",
   "id": "43e82eaa",
   "metadata": {},
   "source": [
    "#  SVC"
   ]
  },
  {
   "cell_type": "code",
   "execution_count": 29,
   "id": "f0b7c161",
   "metadata": {},
   "outputs": [
    {
     "name": "stdout",
     "output_type": "stream",
     "text": [
      "Accuracy 64.26116838487972\n",
      "[[ 0  7  3  0  0]\n",
      " [ 0 95 17  1  0]\n",
      " [ 0 49 82  7  0]\n",
      " [ 0  0 18 10  0]\n",
      " [ 0  0  2  0  0]]\n",
      "              precision    recall  f1-score   support\n",
      "\n",
      "           4       0.00      0.00      0.00        10\n",
      "           5       0.63      0.84      0.72       113\n",
      "           6       0.67      0.59      0.63       138\n",
      "           7       0.56      0.36      0.43        28\n",
      "           8       0.00      0.00      0.00         2\n",
      "\n",
      "    accuracy                           0.64       291\n",
      "   macro avg       0.37      0.36      0.36       291\n",
      "weighted avg       0.62      0.64      0.62       291\n",
      "\n"
     ]
    }
   ],
   "source": [
    "from sklearn.svm import SVC\n",
    "\n",
    "svc = SVC()\n",
    "svc.fit(feature_train, target_train)\n",
    "pred = svc.predict(feature_test)\n",
    "print('Accuracy',accuracy_score(target_test,pred)*100)\n",
    "print(confusion_matrix(target_test,pred))\n",
    "print(classification_report(target_test,pred))"
   ]
  },
  {
   "cell_type": "markdown",
   "id": "0cd43f13",
   "metadata": {},
   "source": [
    "# KNeighbors Classifier "
   ]
  },
  {
   "cell_type": "code",
   "execution_count": 30,
   "id": "38701c31",
   "metadata": {},
   "outputs": [
    {
     "name": "stdout",
     "output_type": "stream",
     "text": [
      "Accuracy 59.79381443298969\n",
      "[[ 0  9  1  0  0]\n",
      " [ 0 85 23  5  0]\n",
      " [ 1 46 75 16  0]\n",
      " [ 0  2 12 14  0]\n",
      " [ 0  0  1  1  0]]\n",
      "              precision    recall  f1-score   support\n",
      "\n",
      "           4       0.00      0.00      0.00        10\n",
      "           5       0.60      0.75      0.67       113\n",
      "           6       0.67      0.54      0.60       138\n",
      "           7       0.39      0.50      0.44        28\n",
      "           8       0.00      0.00      0.00         2\n",
      "\n",
      "    accuracy                           0.60       291\n",
      "   macro avg       0.33      0.36      0.34       291\n",
      "weighted avg       0.59      0.60      0.59       291\n",
      "\n"
     ]
    }
   ],
   "source": [
    "from sklearn.neighbors import KNeighborsClassifier\n",
    "\n",
    "knn = KNeighborsClassifier(7)\n",
    "knn.fit(feature_train, target_train)\n",
    "pred = knn.predict(feature_test)\n",
    "print('Accuracy',accuracy_score(target_test,pred)*100)\n",
    "print(confusion_matrix(target_test,pred))\n",
    "print(classification_report(target_test,pred))"
   ]
  },
  {
   "cell_type": "code",
   "execution_count": 31,
   "id": "de428790",
   "metadata": {},
   "outputs": [
    {
     "name": "stdout",
     "output_type": "stream",
     "text": [
      "Accuracy 71.8213058419244\n",
      "[[ 0  7  3  0  0]\n",
      " [ 0 95 17  1  0]\n",
      " [ 0 35 98  5  0]\n",
      " [ 0  0 13 15  0]\n",
      " [ 0  0  0  1  1]]\n",
      "              precision    recall  f1-score   support\n",
      "\n",
      "           4       0.00      0.00      0.00        10\n",
      "           5       0.69      0.84      0.76       113\n",
      "           6       0.75      0.71      0.73       138\n",
      "           7       0.68      0.54      0.60        28\n",
      "           8       1.00      0.50      0.67         2\n",
      "\n",
      "    accuracy                           0.72       291\n",
      "   macro avg       0.62      0.52      0.55       291\n",
      "weighted avg       0.70      0.72      0.70       291\n",
      "\n"
     ]
    }
   ],
   "source": [
    "from sklearn.ensemble import RandomForestClassifier\n",
    "\n",
    "rf = RandomForestClassifier()\n",
    "rf.fit(feature_train, target_train)\n",
    "predrf = rf.predict(feature_test)\n",
    "print('Accuracy',accuracy_score(target_test,predrf)*100)\n",
    "print(confusion_matrix(target_test,predrf))\n",
    "print(classification_report(target_test,predrf))"
   ]
  },
  {
   "cell_type": "code",
   "execution_count": 32,
   "id": "c1ee5633",
   "metadata": {},
   "outputs": [
    {
     "name": "stdout",
     "output_type": "stream",
     "text": [
      "cross validation score of LR : 0.5693044199549708\n"
     ]
    }
   ],
   "source": [
    "from sklearn.model_selection import cross_val_score\n",
    "\n",
    "scr1= cross_val_score(LR, feature, target, cv=5)\n",
    "print('cross validation score of LR :', scr1.mean())"
   ]
  },
  {
   "cell_type": "code",
   "execution_count": 33,
   "id": "68d2198f",
   "metadata": {},
   "outputs": [
    {
     "name": "stdout",
     "output_type": "stream",
     "text": [
      "cross validation score of SVC : 0.5706766204526603\n"
     ]
    }
   ],
   "source": [
    "scr2= cross_val_score(svc, feature, target, cv=5)\n",
    "print('cross validation score of SVC :', scr2.mean())"
   ]
  },
  {
   "cell_type": "code",
   "execution_count": 34,
   "id": "7205be14",
   "metadata": {},
   "outputs": [
    {
     "name": "stdout",
     "output_type": "stream",
     "text": [
      "cross validation score of knn : 0.5472520440810522\n"
     ]
    }
   ],
   "source": [
    "scr3= cross_val_score(knn, feature, target, cv=5)\n",
    "print('cross validation score of knn :', scr3.mean())"
   ]
  },
  {
   "cell_type": "code",
   "execution_count": 35,
   "id": "77a3ad37",
   "metadata": {},
   "outputs": [
    {
     "name": "stdout",
     "output_type": "stream",
     "text": [
      "cross validation score of rf : 0.5748003317928665\n"
     ]
    }
   ],
   "source": [
    "scr4= cross_val_score(rf, feature, target, cv=5)\n",
    "print('cross validation score of rf :', scr4.mean())"
   ]
  },
  {
   "cell_type": "markdown",
   "id": "97c5e1bd",
   "metadata": {},
   "source": [
    "# Hyperparameter Tuning"
   ]
  },
  {
   "cell_type": "code",
   "execution_count": 36,
   "id": "25cb13e0",
   "metadata": {},
   "outputs": [
    {
     "data": {
      "text/plain": [
       "RandomForestClassifier()"
      ]
     },
     "execution_count": 36,
     "metadata": {},
     "output_type": "execute_result"
    }
   ],
   "source": [
    "RandomForestClassifier()"
   ]
  },
  {
   "cell_type": "code",
   "execution_count": 37,
   "id": "3163180b",
   "metadata": {},
   "outputs": [],
   "source": [
    "from sklearn.model_selection import GridSearchCV\n",
    "\n",
    "#creating parameter list\n",
    "parameters ={'max_features':['auto','sqrt','log2'],\n",
    "           'max_depth':[4,5,6,7,8],\n",
    "           'criterion':['gini', 'entropy']}"
   ]
  },
  {
   "cell_type": "code",
   "execution_count": 38,
   "id": "600483a1",
   "metadata": {},
   "outputs": [
    {
     "data": {
      "text/plain": [
       "{'criterion': 'entropy', 'max_depth': 8, 'max_features': 'auto'}"
      ]
     },
     "execution_count": 38,
     "metadata": {},
     "output_type": "execute_result"
    }
   ],
   "source": [
    "GCV= GridSearchCV(RandomForestClassifier(),parameters,cv=5,scoring='accuracy')\n",
    "GCV.fit(feature_train,target_train) #fitting the data \n",
    "GCV.best_params_  # Printing the best parameter found by GridSearchCV"
   ]
  },
  {
   "cell_type": "code",
   "execution_count": 39,
   "id": "53ea0e1b",
   "metadata": {},
   "outputs": [
    {
     "data": {
      "text/plain": [
       "RandomForestClassifier(criterion='entropy', max_depth=8)"
      ]
     },
     "execution_count": 39,
     "metadata": {},
     "output_type": "execute_result"
    }
   ],
   "source": [
    "GCV.best_estimator_"
   ]
  },
  {
   "cell_type": "code",
   "execution_count": 40,
   "id": "ff9988b0",
   "metadata": {},
   "outputs": [
    {
     "data": {
      "text/plain": [
       "0.6769759450171822"
      ]
     },
     "execution_count": 40,
     "metadata": {},
     "output_type": "execute_result"
    }
   ],
   "source": [
    "GCV_pred= GCV.best_estimator_.predict(feature_test)  #predict with best parameter\n",
    "accuracy_score(target_test,GCV_pred) # checking final accuracy"
   ]
  },
  {
   "cell_type": "code",
   "execution_count": 41,
   "id": "f58432ba",
   "metadata": {},
   "outputs": [],
   "source": [
    "# Saving model"
   ]
  },
  {
   "cell_type": "code",
   "execution_count": 42,
   "id": "3e40b7e4",
   "metadata": {},
   "outputs": [
    {
     "data": {
      "text/plain": [
       "['Sonarmodel.pkl']"
      ]
     },
     "execution_count": 42,
     "metadata": {},
     "output_type": "execute_result"
    }
   ],
   "source": [
    "import joblib\n",
    "joblib.dump(GCV.best_estimator_,'Sonarmodel.pkl')"
   ]
  },
  {
   "cell_type": "code",
   "execution_count": null,
   "id": "ef8f5c3b",
   "metadata": {},
   "outputs": [],
   "source": []
  }
 ],
 "metadata": {
  "kernelspec": {
   "display_name": "Python 3 (ipykernel)",
   "language": "python",
   "name": "python3"
  },
  "language_info": {
   "codemirror_mode": {
    "name": "ipython",
    "version": 3
   },
   "file_extension": ".py",
   "mimetype": "text/x-python",
   "name": "python",
   "nbconvert_exporter": "python",
   "pygments_lexer": "ipython3",
   "version": "3.9.7"
  }
 },
 "nbformat": 4,
 "nbformat_minor": 5
}
